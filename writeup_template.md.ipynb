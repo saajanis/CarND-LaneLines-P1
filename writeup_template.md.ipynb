{
 "cells": [
  {
   "cell_type": "markdown",
   "metadata": {},
   "source": [
    "#**Finding Lane Lines on the Road** \n",
    "[![Udacity - Self-Driving Car NanoDegree](https://s3.amazonaws.com/udacity-sdc/github/shield-carnd.svg)](http://www.udacity.com/drive)\n",
    "\n",
    "<img src=\"examples/laneLines_thirdPass.jpg\" width=\"480\" alt=\"Combined Image\" />\n",
    "\n",
    "Overview\n",
    "---\n",
    "\n",
    "When we drive, we use our eyes to decide where to go.  The lines on the road that show us where the lanes are act as our constant reference for where to steer the vehicle.  Naturally, one of the first things we would like to do in developing a self-driving car is to automatically detect lane lines using an algorithm.\n",
    "\n",
    "In this project you will detect lane lines in images using Python and OpenCV.  OpenCV means \"Open-Source Computer Vision\", which is a package that has many useful tools for analyzing images.  \n",
    "\n",
    "To complete the project, two files will be submitted: a file containing project code and a file containing a brief write up explaining your solution. We have included template files to be used both for the [code](https://github.com/udacity/CarND-LaneLines-P1/blob/master/P1.ipynb) and the [writeup](https://github.com/udacity/CarND-LaneLines-P1/blob/master/writeup_template.md).The code file is called P1.ipynb and the writeup template is writeup_template.md \n",
    "\n",
    "To meet specifications in the project, take a look at the requirements in the [project rubric](https://review.udacity.com/#!/rubrics/322/view)\n",
    "\n",
    "\n",
    "Creating a Great Writeup\n",
    "---\n",
    "For this project, a great writeup should provide a detailed response to the \"Reflection\" section of the [project rubric](https://review.udacity.com/#!/rubrics/322/view). There are three parts to the reflection:\n",
    "\n",
    "1. Describe the pipeline\n",
    "\n",
    "2. Identify any shortcomings\n",
    "\n",
    "3. Suggest possible improvements\n",
    "\n",
    "We encourage using images in your writeup to demonstrate how your pipeline works.  \n",
    "\n",
    "All that said, please be concise!  We're not looking for you to write a book here: just a brief description.\n",
    "\n",
    "You're not required to use markdown for your writeup.  If you use another method please just submit a pdf of your writeup. Here is a link to a [writeup template file](https://github.com/udacity/CarND-LaneLines-P1/blob/master/writeup_template.md). \n",
    "\n",
    "\n",
    "The Project\n",
    "---\n",
    "\n",
    "## If you have already installed the [CarND Term1 Starter Kit](https://github.com/udacity/CarND-Term1-Starter-Kit/blob/master/README.md) you should be good to go!   If not, you should install the starter kit to get started on this project. ##\n",
    "\n",
    "**Step 1:** Set up the [CarND Term1 Starter Kit](https://classroom.udacity.com/nanodegrees/nd013/parts/fbf77062-5703-404e-b60c-95b78b2f3f9e/modules/83ec35ee-1e02-48a5-bdb7-d244bd47c2dc/lessons/8c82408b-a217-4d09-b81d-1bda4c6380ef/concepts/4f1870e0-3849-43e4-b670-12e6f2d4b7a7) if you haven't already.\n",
    "\n",
    "**Step 2:** Open the code in a Jupyter Notebook\n",
    "\n",
    "You will complete the project code in a Jupyter notebook.  If you are unfamiliar with Jupyter Notebooks, check out <A HREF=\"https://www.packtpub.com/books/content/basics-jupyter-notebook-and-python\" target=\"_blank\">Cyrille Rossant's Basics of Jupyter Notebook and Python</A> to get started.\n",
    "\n",
    "Jupyter is an Ipython notebook where you can run blocks of code and see results interactively.  All the code for this project is contained in a Jupyter notebook. To start Jupyter in your browser, use terminal to navigate to your project directory and then run the following command at the terminal prompt (be sure you've activated your Python 3 carnd-term1 environment as described in the [CarND Term1 Starter Kit](https://github.com/udacity/CarND-Term1-Starter-Kit/blob/master/README.md) installation instructions!):\n",
    "\n",
    "`> jupyter notebook`\n",
    "\n",
    "A browser window will appear showing the contents of the current directory.  Click on the file called \"P1.ipynb\".  Another browser window will appear displaying the notebook.  Follow the instructions in the notebook to complete the project.  \n",
    "\n",
    "**Step 3:** Complete the project and submit both the Ipython notebook and the project writeup\n"
   ]
  },
  {
   "cell_type": "code",
   "execution_count": null,
   "metadata": {
    "collapsed": true
   },
   "outputs": [],
   "source": []
  }
 ],
 "metadata": {
  "kernelspec": {
   "display_name": "Python 3",
   "language": "python",
   "name": "python3"
  },
  "language_info": {
   "codemirror_mode": {
    "name": "ipython",
    "version": 3
   },
   "file_extension": ".py",
   "mimetype": "text/x-python",
   "name": "python",
   "nbconvert_exporter": "python",
   "pygments_lexer": "ipython3",
   "version": "3.6.0a4"
  }
 },
 "nbformat": 4,
 "nbformat_minor": 2
}
