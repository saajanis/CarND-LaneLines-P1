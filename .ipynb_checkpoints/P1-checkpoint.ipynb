{
 "cells": [
  {
   "cell_type": "markdown",
   "metadata": {},
   "source": [
    "# Self-Driving Car Engineer Nanodegree\n",
    "\n",
    "\n",
    "## Project: **Finding Lane Lines on the Road** \n",
    "***\n",
    "In this project, you will use the tools you learned about in the lesson to identify lane lines on the road.  You can develop your pipeline on a series of individual images, and later apply the result to a video stream (really just a series of images). Check out the video clip \"raw-lines-example.mp4\" (also contained in this repository) to see what the output should look like after using the helper functions below. \n",
    "\n",
    "Once you have a result that looks roughly like \"raw-lines-example.mp4\", you'll need to get creative and try to average and/or extrapolate the line segments you've detected to map out the full extent of the lane lines.  You can see an example of the result you're going for in the video \"P1_example.mp4\".  Ultimately, you would like to draw just one line for the left side of the lane, and one for the right.\n",
    "\n",
    "In addition to implementing code, there is a brief writeup to complete. The writeup should be completed in a separate file, which can be either a markdown file or a pdf document. There is a [write up template](https://github.com/udacity/CarND-LaneLines-P1/blob/master/writeup_template.md) that can be used to guide the writing process. Completing both the code in the Ipython notebook and the writeup template will cover all of the [rubric points](https://review.udacity.com/#!/rubrics/322/view) for this project.\n",
    "\n",
    "---\n",
    "Let's have a look at our first image called 'test_images/solidWhiteRight.jpg'.  Run the 2 cells below (hit Shift-Enter or the \"play\" button above) to display the image.\n",
    "\n",
    "**Note: If, at any point, you encounter frozen display windows or other confounding issues, you can always start again with a clean slate by going to the \"Kernel\" menu above and selecting \"Restart & Clear Output\".**\n",
    "\n",
    "---"
   ]
  },
  {
   "cell_type": "markdown",
   "metadata": {},
   "source": [
    "**The tools you have are color selection, region of interest selection, grayscaling, Gaussian smoothing, Canny Edge Detection and Hough Tranform line detection.  You  are also free to explore and try other techniques that were not presented in the lesson.  Your goal is piece together a pipeline to detect the line segments in the image, then average/extrapolate them and draw them onto the image for display (as below).  Once you have a working pipeline, try it out on the video stream below.**\n",
    "\n",
    "---\n",
    "\n",
    "<figure>\n",
    " <img src=\"examples/line-segments-example.jpg\" width=\"380\" alt=\"Combined Image\" />\n",
    " <figcaption>\n",
    " <p></p> \n",
    " <p style=\"text-align: center;\"> Your output should look something like this (above) after detecting line segments using the helper functions below </p> \n",
    " </figcaption>\n",
    "</figure>\n",
    " <p></p> \n",
    "<figure>\n",
    " <img src=\"examples/laneLines_thirdPass.jpg\" width=\"380\" alt=\"Combined Image\" />\n",
    " <figcaption>\n",
    " <p></p> \n",
    " <p style=\"text-align: center;\"> Your goal is to connect/average/extrapolate line segments to get output like this</p> \n",
    " </figcaption>\n",
    "</figure>"
   ]
  },
  {
   "cell_type": "markdown",
   "metadata": {},
   "source": [
    "**Run the cell below to import some packages.  If you get an `import error` for a package you've already installed, try changing your kernel (select the Kernel menu above --> Change Kernel).  Still have problems?  Try relaunching Jupyter Notebook from the terminal prompt.  Also, see [this forum post](https://carnd-forums.udacity.com/cq/viewquestion.action?spaceKey=CAR&id=29496372&questionTitle=finding-lanes---import-cv2-fails-even-though-python-in-the-terminal-window-has-no-problem-with-import-cv2) for more troubleshooting tips.**  "
   ]
  },
  {
   "cell_type": "markdown",
   "metadata": {},
   "source": [
    "## Import Packages"
   ]
  },
  {
   "cell_type": "code",
   "execution_count": 6,
   "metadata": {},
   "outputs": [],
   "source": [
    "#importing some useful packages\n",
    "import matplotlib.pyplot as plt\n",
    "import matplotlib.image as mpimg\n",
    "import numpy as np\n",
    "from scipy.stats import linregress\n",
    "import cv2\n",
    "%matplotlib inline"
   ]
  },
  {
   "cell_type": "markdown",
   "metadata": {},
   "source": [
    "## Helper Functions"
   ]
  },
  {
   "cell_type": "markdown",
   "metadata": {},
   "source": [
    "Below are some helper functions to help get you started. They should look familiar from the lesson!"
   ]
  },
  {
   "cell_type": "code",
   "execution_count": 31,
   "metadata": {},
   "outputs": [],
   "source": [
    "import math\n",
    "\n",
    "def grayscale(img):#\n",
    "    \"\"\"Applies the Grayscale transform\n",
    "    This will return an image with only one color channel\n",
    "    but NOTE: to see the returned image as grayscale\n",
    "    (assuming your grayscaled image is called 'gray')\n",
    "    you should call plt.imshow(gray, cmap='gray')\"\"\"\n",
    "    return cv2.cvtColor(img, cv2.COLOR_RGB2GRAY)\n",
    "    # Or use BGR2GRAY if you read an image with cv2.imread()\n",
    "    # return cv2.cvtColor(img, cv2.COLOR_BGR2GRAY)\n",
    "    \n",
    "def canny(img, low_threshold, high_threshold):#\n",
    "    \"\"\"Applies the Canny transform\"\"\"\n",
    "    return cv2.Canny(img, low_threshold, high_threshold)\n",
    "\n",
    "def gaussian_blur(img, kernel_size):#\n",
    "    \"\"\"Applies a Gaussian Noise kernel\"\"\"\n",
    "    return cv2.GaussianBlur(img, (kernel_size, kernel_size), 0)\n",
    "\n",
    "def region_of_interest(img, vertices):#\n",
    "    \"\"\"\n",
    "    Applies an image mask.\n",
    "    \n",
    "    Only keeps the region of the image defined by the polygon\n",
    "    formed from `vertices`. The rest of the image is set to black.\n",
    "    \"\"\"\n",
    "    #defining a blank mask to start with\n",
    "    mask = np.zeros_like(img)   \n",
    "    \n",
    "    #defining a 3 channel or 1 channel color to fill the mask with depending on the input image\n",
    "    if len(img.shape) > 2:\n",
    "        channel_count = img.shape[2]  # i.e. 3 or 4 depending on your image\n",
    "        ignore_mask_color = (255,) * channel_count\n",
    "    else:\n",
    "        ignore_mask_color = 255\n",
    "        \n",
    "    #filling pixels inside the polygon defined by \"vertices\" with the fill color    \n",
    "    cv2.fillPoly(mask, vertices, ignore_mask_color)\n",
    "        \n",
    "    #returning the image only where mask pixels are nonzero\n",
    "    masked_image = cv2.bitwise_and(img, mask)\n",
    "    return masked_image\n",
    "\n",
    "\n",
    "def draw_lines(img, lines, color=[255, 0, 0], thickness=10):\n",
    "    def generate_axis_points(lines, x_axis = True):\n",
    "        for line in lines:\n",
    "            for x1,y1,x2,y2 in line:\n",
    "                if x_axis:\n",
    "                    yield x1\n",
    "                    yield x2\n",
    "                else:\n",
    "                    yield y1\n",
    "                    yield y2\n",
    "    \n",
    "    def get_slope_intercept(lines):\n",
    "        #from IPython.core.debugger import Tracer; Tracer()() \n",
    "        x_points = [x for x in generate_axis_points(lines, x_axis = True)]\n",
    "        y_points = [y for y in generate_axis_points(lines, x_axis = False)]\n",
    "        return np.polyfit(x_points, y_points, 1)\n",
    "    \n",
    "    def get_x_for_y(y, line_slope_intercept):\n",
    "        return (y - line_slope_intercept[1]) / line_slope_intercept[0]\n",
    "    \n",
    "    def get_extrapolated_line_coordinates(bottom_y, top_y, line_slope_intercept):\n",
    "        bottom_x = get_x_for_y(bottom_y, line_slope_intercept)\n",
    "        top_x = get_x_for_y(top_y, line_slope_intercept)\n",
    "        return ((int(bottom_x), int(bottom_y)), (int(top_x), int(top_y)))\n",
    "        \n",
    "        \n",
    "        \n",
    "    \"\"\"\n",
    "    NOTE: this is the function you might want to use as a starting point once you want to \n",
    "    average/extrapolate the line segments you detect to map out the full\n",
    "    extent of the lane (going from the result shown in raw-lines-example.mp4\n",
    "    to that shown in P1_example.mp4).  \n",
    "    \n",
    "    Think about things like separating line segments by their \n",
    "    slope ((y2-y1)/(x2-x1)) to decide which segments are part of the left\n",
    "    line vs. the right line.  Then, you can average the position of each of \n",
    "    the lines and extrapolate to the top and bottom of the lane.\n",
    "    \n",
    "    This function draws `lines` with `color` and `thickness`.    \n",
    "    Lines are drawn on the image inplace (mutates the image).\n",
    "    If you want to make the lines semi-transparent, think about combining\n",
    "    this function with the weighted_img() function below\n",
    "    \"\"\"\n",
    "                 \n",
    "    lane_lines = {'left': [], 'right': []}\n",
    "        \n",
    "    # Ignore boundary lines and extrapolate\n",
    "    for line in lines:\n",
    "        for x1,y1,x2,y2 in line:            \n",
    "            lane_lines['left'].append(line)\\\n",
    "            if x1 < img.shape[1]/2 and x2 < img.shape[1]/2\\\n",
    "            else lane_lines['right'].append(line)\n",
    "            \n",
    "    left_line_slope_intercept = get_slope_intercept(lane_lines['left'])\n",
    "    left_bottom_y, left_top_y = 540, 330\n",
    "    left_extrapolated_line_coordinates = get_extrapolated_line_coordinates(\n",
    "        left_bottom_y, left_top_y, left_line_slope_intercept)\n",
    "    \n",
    "    right_line_slope_intercept = get_slope_intercept(lane_lines['right'])\n",
    "    right_bottom_y, right_top_y = 540, 330\n",
    "    right_extrapolated_line_coordinates = get_extrapolated_line_coordinates(\n",
    "        right_bottom_y, right_top_y, right_line_slope_intercept)\n",
    "    \n",
    "    print(left_extrapolated_line_coordinates)\n",
    "    print(right_extrapolated_line_coordinates)\n",
    "        \n",
    "    \n",
    "    cv2.line(img, left_extrapolated_line_coordinates[0], left_extrapolated_line_coordinates[1], color, thickness)\n",
    "    cv2.line(img, right_extrapolated_line_coordinates[0], right_extrapolated_line_coordinates[1], color, thickness)\n",
    "    \n",
    "    \n",
    "#     average_left_slope =l np.average([(y2-y1)/(x2-x1) for x1,y1,x2,y2 in lane_lines['left']])\n",
    "#     average_right_slope = np.average([(y2-y1)/(x2-x1) for x1,y1,x2,y2 in lane_lines['right']])\n",
    "            \n",
    "    #print(slope_dict['positive'])\n",
    "    #print(np.mean(lane_lines['left'], axis=0))\n",
    "    #print(slope_dict['negative'])\n",
    "    #print(np.mean(lane_lines['right'], axis=0))\n",
    "#     x1L,y1L,x2L,y2L = mean_left_line = [int(value) for value in np.mean(lane_lines['left'], axis=0)[0]]\n",
    "#     x1R,y1R,x2R,y2R = mean_right_line = [int(value) for value in np.mean(lane_lines['right'], axis=0)[0]]\n",
    "\n",
    "    \n",
    "    \n",
    "#     print(lane_lines['left'])\n",
    "#     print(mean_left_line)\n",
    "#     print(lane_lines['right'])\n",
    "#     print(mean_right_line)\n",
    "        \n",
    "#     cv2.line(img, (x1L,y1L), (x2L,y2L), color, thickness) # line with positive slope\n",
    "#     cv2.line(img, (x1R,y1R), (x2R,y2R), color, thickness) # line with negative slope\n",
    "            \n",
    "\n",
    "def hough_lines(img, rho, theta, threshold, min_line_len, max_line_gap):\n",
    "    \"\"\"\n",
    "    `img` should be the output of a Canny transform.\n",
    "        \n",
    "    Returns an image with hough lines drawn.\n",
    "    \"\"\"\n",
    "    lines = cv2.HoughLinesP(img, rho, theta, threshold, np.array([]), minLineLength=min_line_len, maxLineGap=max_line_gap)\n",
    "    line_img = np.zeros((img.shape[0], img.shape[1], 3), dtype=np.uint8)\n",
    "    draw_lines(line_img, lines)\n",
    "    return line_img\n",
    "\n",
    "# Python 3 has support for cool math symbols.\n",
    "\n",
    "def weighted_img(img, initial_img, α=0.8, β=1., λ=0.):\n",
    "    \"\"\"\n",
    "    `img` is the output of the hough_lines(), An image with lines drawn on it.\n",
    "    Should be a blank image (all black) with lines drawn on it.\n",
    "    \n",
    "    `initial_img` should be the image before any processing.\n",
    "    \n",
    "    The result image is computed as follows:\n",
    "    \n",
    "    initial_img * α + img * β + λ\n",
    "    NOTE: initial_img and img must be the same shape!\n",
    "    \"\"\"\n",
    "    return cv2.addWeighted(initial_img, α, img, β, λ)"
   ]
  },
  {
   "cell_type": "markdown",
   "metadata": {},
   "source": [
    "## Test Images\n",
    "\n",
    "Build your pipeline to work on the images in the directory \"test_images\"  \n",
    "**You should make sure your pipeline works well on these images before you try the videos.**"
   ]
  },
  {
   "cell_type": "code",
   "execution_count": 32,
   "metadata": {},
   "outputs": [
    {
     "data": {
      "text/plain": [
       "['.DS_Store',\n",
       " 'solidWhiteCurve.jpg',\n",
       " 'solidWhiteRight.jpg',\n",
       " 'solidYellowCurve.jpg',\n",
       " 'solidYellowCurve2.jpg',\n",
       " 'solidYellowLeft.jpg',\n",
       " 'whiteCarLaneSwitch.jpg']"
      ]
     },
     "execution_count": 32,
     "metadata": {},
     "output_type": "execute_result"
    }
   ],
   "source": [
    "import os\n",
    "os.listdir(\"test_images/\")"
   ]
  },
  {
   "cell_type": "markdown",
   "metadata": {},
   "source": [
    "## Read in an Image"
   ]
  },
  {
   "cell_type": "markdown",
   "metadata": {},
   "source": [
    "## Ideas for Lane Detection Pipeline"
   ]
  },
  {
   "cell_type": "markdown",
   "metadata": {},
   "source": [
    "**Some OpenCV functions (beyond those introduced in the lesson) that might be useful for this project are:**\n",
    "\n",
    "`cv2.inRange()` for color selection  \n",
    "`cv2.fillPoly()` for regions selection  \n",
    "`cv2.line()` to draw lines on an image given endpoints  \n",
    "`cv2.addWeighted()` to coadd / overlay two images\n",
    "`cv2.cvtColor()` to grayscale or change color\n",
    "`cv2.imwrite()` to output images to file  \n",
    "`cv2.bitwise_and()` to apply a mask to an image\n",
    "\n",
    "**Check out the OpenCV documentation to learn about these and discover even more awesome functionality!**"
   ]
  },
  {
   "cell_type": "code",
   "execution_count": 27,
   "metadata": {},
   "outputs": [],
   "source": [
    "#reading in an image\n",
    "original_image_filename_list = os.listdir(\"test_images/\")[1:2]\n",
    "original_image_and_filename_tuple_list = [(mpimg.imread('test_images/' + original_image_filename), original_image_filename) \\\n",
    "                                           for original_image_filename in original_image_filename_list]"
   ]
  },
  {
   "cell_type": "markdown",
   "metadata": {},
   "source": [
    "## Build a Lane Finding Pipeline\n",
    "\n"
   ]
  },
  {
   "cell_type": "markdown",
   "metadata": {},
   "source": [
    "Build the pipeline and run your solution on all test_images. Make copies into the `test_images_output` directory, and you can use the images in your writeup report.\n",
    "\n",
    "Try tuning the various parameters, especially the low and high Canny thresholds as well as the Hough lines parameters."
   ]
  },
  {
   "cell_type": "code",
   "execution_count": 28,
   "metadata": {},
   "outputs": [],
   "source": [
    "def run_pipeline(original_image_and_filename_tuple):\n",
    "    original_image = original_image_and_filename_tuple[0]\n",
    "    image_filename = original_image_and_filename_tuple[1]\n",
    "    \n",
    "    # Grayscale\n",
    "    grayscale_image = grayscale(original_image)    \n",
    "    \n",
    "    # Gaussian blur\n",
    "    gaussian_blur_gray_image = gaussian_blur(grayscale_image, kernel_size = 15)\n",
    "    \n",
    "    # Canny edges\n",
    "    canny_gaussian_blur_gray_image = canny(gaussian_blur_gray_image, \n",
    "                                           low_threshold = 0, high_threshold = 100)\n",
    "        \n",
    "    # Region of interest\n",
    "    vertices = np.array(\n",
    "        [[\n",
    "            (420, 330),\n",
    "            (30, 540),\n",
    "            (930, 540),\n",
    "            (545, 330)\n",
    "        ]], dtype=np.int32)\n",
    "    masked_canny_gaussian_blur_gray_image = region_of_interest(canny_gaussian_blur_gray_image, vertices)\n",
    "        \n",
    "    # Hough lines\n",
    "    hough_masked_canny_gaussian_blur_gray_image = hough_lines(masked_canny_gaussian_blur_gray_image, \n",
    "                                                       rho = 1, theta = np.pi/180, threshold = 1, \n",
    "                                                       min_line_len = 5, max_line_gap = 25)\n",
    "    \n",
    "    # Weighted image\n",
    "    weighted_hough_masked_canny_gaussian_blur_gray_image = \\\n",
    "    weighted_img(hough_masked_canny_gaussian_blur_gray_image, original_image)\n",
    "    \n",
    "\n",
    "    result_image = weighted_hough_masked_canny_gaussian_blur_gray_image\n",
    "    return (result_image, original_image, image_filename)"
   ]
  },
  {
   "cell_type": "code",
   "execution_count": 29,
   "metadata": {},
   "outputs": [
    {
     "name": "stdout",
     "output_type": "stream",
     "text": [
      "((-4860647, 540), (-2972909, 330))\n",
      "((41820401, 540), (25540440, 330))\n"
     ]
    },
    {
     "data": {
      "image/png": "[encoded data removed]",
      "text/plain": [
       "<matplotlib.figure.Figure at 0x10eddd7f0>"
      ]
     },
     "metadata": {},
     "output_type": "display_data"
    },
    {
     "data": {
      "image/png": "[encoded data removed]",
      "text/plain": [
       "<matplotlib.figure.Figure at 0x10e590b00>"
      ]
     },
     "metadata": {},
     "output_type": "display_data"
    },
    {
     "data": {
      "text/plain": [
       "[None]"
      ]
     },
     "execution_count": 29,
     "metadata": {},
     "output_type": "execute_result"
    }
   ],
   "source": [
    "def display_image(result_original_image_and_filename_tuple, input_cmap=plt.get_cmap()):\n",
    "    #printing out output image's llstats and plotting\n",
    "    result_image = result_original_image_and_filename_tuple[0]\n",
    "    original_image = result_original_image_and_filename_tuple[1]\n",
    "    result_image_filename = result_original_image_and_filename_tuple[2]\n",
    "    if(result_image_filename):\n",
    "        cv2.imwrite('test_images_output/' + result_image_filename, result_image)\n",
    "    #print('The output image is:', type(result_image), 'with dimensions:', result_image.shape)\n",
    "    plt.figure()\n",
    "    plt.imshow(original_image, cmap=input_cmap)\n",
    "    plt.show()\n",
    "    plt.imshow(result_image, cmap=input_cmap)  # if you wanted to show a single color channel image called 'gray', for example, call as plt.imshow(gray, cmap='gray')\n",
    "    plt.show()\n",
    "    \n",
    "result_original_image_and_filename_tuple_list = [run_pipeline(original_image_and_filename_tuple) \\\n",
    "                                        for original_image_and_filename_tuple in original_image_and_filename_tuple_list]\n",
    "\n",
    "[display_image(result_original_image_and_filename_tuple, input_cmap='gray') \\\n",
    "for result_original_image_and_filename_tuple in result_original_image_and_filename_tuple_list]\n"
   ]
  },
  {
   "cell_type": "markdown",
   "metadata": {},
   "source": [
    "## Test on Videos\n",
    "\n",
    "You know what's cooler than drawing lanes over images? Drawing lanes over video!\n",
    "\n",
    "We can test our solution on two provided videos:\n",
    "\n",
    "`solidWhiteRight.mp4`\n",
    "\n",
    "`solidYellowLeft.mp4`\n",
    "\n",
    "**Note: if you get an `import error` when you run the next cell, try changing your kernel (select the Kernel menu above --> Change Kernel).  Still have problems?  Try relaunching Jupyter Notebook from the terminal prompt. Also, check out [this forum post](https://carnd-forums.udacity.com/questions/22677062/answers/22677109) for more troubleshooting tips.**\n",
    "\n",
    "**If you get an error that looks like this:**\n",
    "```\n",
    "NeedDownloadError: Need ffmpeg exe. \n",
    "You can download it by calling: \n",
    "imageio.plugins.ffmpeg.download()\n",
    "```\n",
    "**Follow the instructions in the error message and check out [this forum post](https://carnd-forums.udacity.com/display/CAR/questions/26218840/import-videofileclip-error) for more troubleshooting tips across operating systems.**"
   ]
  },
  {
   "cell_type": "code",
   "execution_count": 30,
   "metadata": {
    "collapsed": true
   },
   "outputs": [],
   "source": [
    "# Import everything needed to edit/save/watch video clips\n",
    "from moviepy.editor import VideoFileClip\n",
    "from IPython.display import HTML"
   ]
  },
  {
   "cell_type": "code",
   "execution_count": 18,
   "metadata": {
    "collapsed": true
   },
   "outputs": [],
   "source": [
    "def process_image(image):\n",
    "    # NOTE: The output you return should be a color image (3 channel) for processing video below\n",
    "    # TODO: put your pipeline here,\n",
    "    # you should return the final output (image where lines are drawn on lanes)\n",
    "    result_original_snapshot_and_filename_tuple = run_pipeline((image, 'clip_snapshot.jpg'))\n",
    "\n",
    "    return result_original_snapshot_and_filename_tuple[0]"
   ]
  },
  {
   "cell_type": "markdown",
   "metadata": {},
   "source": [
    "Let's try the one with the solid white lane on the right first ..."
   ]
  },
  {
   "cell_type": "code",
   "execution_count": 19,
   "metadata": {},
   "outputs": [
    {
     "name": "stdout",
     "output_type": "stream",
     "text": [
      "((158, 540), (443, 330))\n",
      "((860, 540), (521, 330))\n",
      "[MoviePy] >>>> Building video test_videos_output/solidWhiteRight.mp4\n",
      "[MoviePy] Writing video test_videos_output/solidWhiteRight.mp4\n"
     ]
    },
    {
     "name": "stderr",
     "output_type": "stream",
     "text": [
      "  1%|          | 2/222 [00:00<00:12, 18.08it/s]"
     ]
    },
    {
     "name": "stdout",
     "output_type": "stream",
     "text": [
      "((158, 540), (443, 330))\n",
      "((860, 540), (521, 330))\n",
      "((157, 540), (444, 330))\n",
      "((859, 540), (521, 330))\n",
      "((158, 540), (443, 330))\n",
      "((861, 540), (520, 330))\n",
      "((155, 540), (444, 330))\n",
      "((861, 540), (520, 330))\n",
      "((155, 540), (443, 330))\n",
      "((862, 540), (521, 330))\n"
     ]
    },
    {
     "name": "stderr",
     "output_type": "stream",
     "text": [
      "  3%|▎         | 7/222 [00:00<00:11, 19.04it/s]"
     ]
    },
    {
     "name": "stdout",
     "output_type": "stream",
     "text": [
      "((155, 540), (442, 330))\n",
      "((859, 540), (522, 330))\n",
      "((156, 540), (441, 330))\n",
      "((863, 540), (520, 330))\n"
     ]
    },
    {
     "name": "stderr",
     "output_type": "stream",
     "text": [
      "\r",
      "  4%|▍         | 9/222 [00:00<00:11, 18.98it/s]"
     ]
    },
    {
     "name": "stdout",
     "output_type": "stream",
     "text": [
      "((151, 540), (443, 330))\n",
      "((865, 540), (520, 330))\n",
      "((148, 540), (444, 330))\n",
      "((862, 540), (519, 330))\n",
      "((152, 540), (447, 330))\n",
      "((857, 540), (516, 330))\n",
      "((153, 540), (450, 330))\n",
      "((851, 540), (513, 330))\n",
      "((155, 540), (450, 330))\n",
      "((846, 540), (512, 330))\n"
     ]
    },
    {
     "name": "stderr",
     "output_type": "stream",
     "text": [
      "\r",
      "  5%|▌         | 12/222 [00:00<00:10, 19.61it/s]"
     ]
    },
    {
     "name": "stdout",
     "output_type": "stream",
     "text": [
      "((153, 540), (448, 330))\n",
      "((844, 540), (513, 330))\n",
      "((151, 540), (445, 330))\n",
      "((845, 540), (516, 330))\n"
     ]
    },
    {
     "name": "stderr",
     "output_type": "stream",
     "text": [
      "\r",
      "  7%|▋         | 15/222 [00:00<00:10, 19.83it/s]"
     ]
    },
    {
     "name": "stdout",
     "output_type": "stream",
     "text": [
      "((148, 540), (443, 330))\n",
      "((849, 540), (518, 330))\n",
      "((144, 540), (440, 330))\n",
      "((849, 540), (522, 330))\n"
     ]
    },
    {
     "name": "stderr",
     "output_type": "stream",
     "text": [
      "\r",
      "  8%|▊         | 17/222 [00:00<00:10, 18.89it/s]"
     ]
    },
    {
     "name": "stdout",
     "output_type": "stream",
     "text": [
      "((142, 540), (440, 330))\n",
      "((850, 540), (524, 330))\n",
      "((138, 540), (443, 330))\n",
      "((849, 540), (523, 330))\n"
     ]
    },
    {
     "name": "stderr",
     "output_type": "stream",
     "text": [
      "\r",
      "  9%|▊         | 19/222 [00:00<00:11, 17.73it/s]"
     ]
    },
    {
     "name": "stdout",
     "output_type": "stream",
     "text": [
      "((142, 540), (444, 330))\n",
      "((848, 540), (520, 330))\n",
      "((147, 540), (446, 330))\n",
      "((848, 540), (518, 330))\n"
     ]
    },
    {
     "name": "stderr",
     "output_type": "stream",
     "text": [
      "\r",
      "  9%|▉         | 21/222 [00:01<00:11, 18.27it/s]"
     ]
    },
    {
     "name": "stdout",
     "output_type": "stream",
     "text": [
      "((148, 540), (449, 330))\n",
      "((845, 540), (516, 330))\n",
      "((146, 540), (451, 330))\n",
      "((846, 540), (516, 330))\n",
      "((148, 540), (449, 330))\n",
      "((845, 540), (517, 330))\n"
     ]
    },
    {
     "name": "stderr",
     "output_type": "stream",
     "text": [
      "\r",
      " 11%|█         | 24/222 [00:01<00:10, 19.09it/s]"
     ]
    },
    {
     "name": "stdout",
     "output_type": "stream",
     "text": [
      "((148, 540), (447, 330))\n",
      "((846, 540), (518, 330))\n",
      "((147, 540), (449, 330))\n",
      "((846, 540), (519, 330))\n"
     ]
    },
    {
     "name": "stderr",
     "output_type": "stream",
     "text": [
      "\r",
      " 12%|█▏        | 26/222 [00:01<00:10, 19.30it/s]"
     ]
    },
    {
     "name": "stdout",
     "output_type": "stream",
     "text": [
      "((149, 540), (447, 330))\n",
      "((846, 540), (519, 330))\n",
      "((150, 540), (447, 330))\n",
      "((848, 540), (518, 330))\n",
      "((151, 540), (447, 330))\n",
      "((848, 540), (518, 330))\n"
     ]
    },
    {
     "name": "stderr",
     "output_type": "stream",
     "text": [
      "\r",
      " 13%|█▎        | 29/222 [00:01<00:09, 19.92it/s]"
     ]
    },
    {
     "name": "stdout",
     "output_type": "stream",
     "text": [
      "((154, 540), (446, 330))\n",
      "((848, 540), (518, 330))\n",
      "((148, 540), (446, 330))\n",
      "((848, 540), (518, 330))\n"
     ]
    },
    {
     "name": "stderr",
     "output_type": "stream",
     "text": [
      "\r",
      " 14%|█▍        | 31/222 [00:01<00:09, 19.83it/s]"
     ]
    },
    {
     "name": "stdout",
     "output_type": "stream",
     "text": [
      "((147, 540), (445, 330))\n",
      "((848, 540), (519, 330))\n",
      "((147, 540), (446, 330))\n",
      "((849, 540), (519, 330))\n",
      "((146, 540), (445, 330))\n",
      "((849, 540), (519, 330))\n"
     ]
    },
    {
     "name": "stderr",
     "output_type": "stream",
     "text": [
      "\r",
      " 15%|█▌        | 34/222 [00:01<00:09, 20.46it/s]"
     ]
    },
    {
     "name": "stdout",
     "output_type": "stream",
     "text": [
      "((150, 540), (445, 330))\n",
      "((848, 540), (518, 330))\n",
      "((150, 540), (447, 330))\n",
      "((847, 540), (517, 330))\n"
     ]
    },
    {
     "name": "stderr",
     "output_type": "stream",
     "text": [
      "\r",
      " 17%|█▋        | 37/222 [00:01<00:08, 20.99it/s]"
     ]
    },
    {
     "name": "stdout",
     "output_type": "stream",
     "text": [
      "((153, 540), (446, 330))\n",
      "((845, 540), (516, 330))\n",
      "((153, 540), (448, 330))\n",
      "((846, 540), (516, 330))\n",
      "((153, 540), (448, 330))\n",
      "((844, 540), (517, 330))\n"
     ]
    },
    {
     "name": "stderr",
     "output_type": "stream",
     "text": [
      "\r",
      " 18%|█▊        | 40/222 [00:01<00:08, 20.86it/s]"
     ]
    },
    {
     "name": "stdout",
     "output_type": "stream",
     "text": [
      "((153, 540), (446, 330))\n",
      "((845, 540), (518, 330))\n",
      "((150, 540), (445, 330))\n",
      "((845, 540), (519, 330))\n"
     ]
    },
    {
     "name": "stderr",
     "output_type": "stream",
     "text": [
      "\r",
      " 19%|█▉        | 43/222 [00:02<00:08, 21.11it/s]"
     ]
    },
    {
     "name": "stdout",
     "output_type": "stream",
     "text": [
      "((149, 540), (443, 330))\n",
      "((845, 540), (520, 330))\n",
      "((152, 540), (442, 330))\n",
      "((845, 540), (520, 330))\n",
      "((154, 540), (440, 330))\n",
      "((844, 540), (521, 330))\n",
      "((147, 540), (442, 330))\n",
      "((844, 540), (521, 330))\n",
      "((146, 540), (443, 330))\n",
      "((843, 540), (521, 330))\n"
     ]
    },
    {
     "name": "stderr",
     "output_type": "stream",
     "text": [
      "\r",
      " 21%|██        | 46/222 [00:02<00:08, 21.01it/s]"
     ]
    },
    {
     "name": "stdout",
     "output_type": "stream",
     "text": [
      "((154, 540), (439, 330))\n",
      "((843, 540), (522, 330))\n",
      "((150, 540), (439, 330))\n",
      "((844, 540), (522, 330))\n",
      "((149, 540), (440, 330))\n",
      "((844, 540), (521, 330))\n"
     ]
    },
    {
     "name": "stderr",
     "output_type": "stream",
     "text": [
      "\r",
      " 22%|██▏       | 49/222 [00:02<00:08, 20.61it/s]"
     ]
    },
    {
     "name": "stdout",
     "output_type": "stream",
     "text": [
      "((149, 540), (440, 330))\n",
      "((844, 540), (520, 330))\n"
     ]
    },
    {
     "name": "stderr",
     "output_type": "stream",
     "text": [
      "\r",
      " 23%|██▎       | 52/222 [00:02<00:08, 20.36it/s]"
     ]
    },
    {
     "name": "stdout",
     "output_type": "stream",
     "text": [
      "((147, 540), (440, 330))\n",
      "((844, 540), (520, 330))\n",
      "((147, 540), (441, 330))\n",
      "((844, 540), (521, 330))\n",
      "((145, 540), (439, 330))\n",
      "((844, 540), (521, 330))\n",
      "((146, 540), (439, 330))\n",
      "((844, 540), (520, 330))\n",
      "((142, 540), (439, 330))"
     ]
    },
    {
     "name": "stderr",
     "output_type": "stream",
     "text": [
      "\r",
      " 25%|██▍       | 55/222 [00:02<00:08, 19.28it/s]"
     ]
    },
    {
     "name": "stdout",
     "output_type": "stream",
     "text": [
      "\n",
      "((844, 540), (520, 330))\n",
      "((137, 540), (440, 330))\n",
      "((844, 540), (520, 330))\n",
      "((137, 540), (442, 330))\n",
      "((844, 540), (518, 330))\n"
     ]
    },
    {
     "name": "stderr",
     "output_type": "stream",
     "text": [
      "\r",
      " 26%|██▌       | 57/222 [00:02<00:09, 18.23it/s]"
     ]
    },
    {
     "name": "stdout",
     "output_type": "stream",
     "text": [
      "((138, 540), (443, 330))\n",
      "((843, 540), (516, 330))\n"
     ]
    },
    {
     "name": "stderr",
     "output_type": "stream",
     "text": [
      "\r",
      " 27%|██▋       | 59/222 [00:03<00:09, 17.86it/s]"
     ]
    },
    {
     "name": "stdout",
     "output_type": "stream",
     "text": [
      "((139, 540), (444, 330))\n",
      "((841, 540), (515, 330))\n",
      "((139, 540), (444, 330))\n",
      "((840, 540), (515, 330))\n",
      "((138, 540), (442, 330))\n",
      "((838, 540), (516, 330))\n"
     ]
    },
    {
     "name": "stderr",
     "output_type": "stream",
     "text": [
      "\r",
      " 27%|██▋       | 61/222 [00:03<00:08, 17.93it/s]"
     ]
    },
    {
     "name": "stdout",
     "output_type": "stream",
     "text": [
      "((138, 540), (444, 330))\n",
      "((836, 540), (516, 330))\n"
     ]
    },
    {
     "name": "stderr",
     "output_type": "stream",
     "text": [
      "\r",
      " 28%|██▊       | 63/222 [00:03<00:08, 18.24it/s]"
     ]
    },
    {
     "name": "stdout",
     "output_type": "stream",
     "text": [
      "((138, 540), (444, 330))\n",
      "((837, 540), (515, 330))\n",
      "((139, 540), (443, 330))\n",
      "((836, 540), (515, 330))\n",
      "((138, 540), (443, 330))\n",
      "((836, 540), (514, 330))\n"
     ]
    },
    {
     "name": "stderr",
     "output_type": "stream",
     "text": [
      "\r",
      " 29%|██▉       | 65/222 [00:03<00:08, 18.46it/s]"
     ]
    },
    {
     "name": "stdout",
     "output_type": "stream",
     "text": [
      "((134, 540), (445, 330))\n",
      "((836, 540), (513, 330))\n"
     ]
    },
    {
     "name": "stderr",
     "output_type": "stream",
     "text": [
      "\r",
      " 30%|███       | 67/222 [00:03<00:08, 18.32it/s]"
     ]
    },
    {
     "name": "stdout",
     "output_type": "stream",
     "text": [
      "((126, 540), (445, 330))\n",
      "((835, 540), (514, 330))\n",
      "((124, 540), (442, 330))\n",
      "((837, 540), (516, 330))\n",
      "((127, 540), (442, 330))\n",
      "((838, 540), (515, 330))\n"
     ]
    },
    {
     "name": "stderr",
     "output_type": "stream",
     "text": [
      "\r",
      " 31%|███       | 69/222 [00:03<00:08, 18.19it/s]"
     ]
    },
    {
     "name": "stdout",
     "output_type": "stream",
     "text": [
      "((126, 540), (444, 330))\n",
      "((835, 540), (516, 330))\n"
     ]
    },
    {
     "name": "stderr",
     "output_type": "stream",
     "text": [
      "\r",
      " 32%|███▏      | 71/222 [00:03<00:08, 18.21it/s]"
     ]
    },
    {
     "name": "stdout",
     "output_type": "stream",
     "text": [
      "((132, 540), (441, 330))\n",
      "((834, 540), (515, 330))\n",
      "((131, 540), (441, 330))\n",
      "((836, 540), (515, 330))\n",
      "((128, 540), (442, 330))\n",
      "((836, 540), (515, 330))\n"
     ]
    },
    {
     "name": "stderr",
     "output_type": "stream",
     "text": [
      "\r",
      " 33%|███▎      | 73/222 [00:03<00:08, 17.89it/s]"
     ]
    },
    {
     "name": "stdout",
     "output_type": "stream",
     "text": [
      "((129, 540), (442, 330))\n",
      "((834, 540), (515, 330))\n"
     ]
    },
    {
     "name": "stderr",
     "output_type": "stream",
     "text": [
      "\r",
      " 34%|███▍      | 75/222 [00:03<00:08, 17.29it/s]"
     ]
    },
    {
     "name": "stdout",
     "output_type": "stream",
     "text": [
      "((132, 540), (441, 330))\n",
      "((835, 540), (513, 330))\n",
      "((130, 540), (441, 330))\n",
      "((833, 540), (514, 330))\n",
      "((127, 540), (441, 330))\n",
      "((830, 540), (515, 330))\n"
     ]
    },
    {
     "name": "stderr",
     "output_type": "stream",
     "text": [
      "\r",
      " 35%|███▍      | 77/222 [00:04<00:08, 17.22it/s]"
     ]
    },
    {
     "name": "stdout",
     "output_type": "stream",
     "text": [
      "((126, 540), (439, 330))\n",
      "((831, 540), (515, 330))\n"
     ]
    },
    {
     "name": "stderr",
     "output_type": "stream",
     "text": [
      "\r",
      " 36%|███▌      | 79/222 [00:04<00:08, 17.43it/s]"
     ]
    },
    {
     "name": "stdout",
     "output_type": "stream",
     "text": [
      "((128, 540), (439, 330))\n",
      "((830, 540), (514, 330))\n",
      "((130, 540), (438, 330))\n",
      "((826, 540), (514, 330))\n",
      "((125, 540), (439, 330))\n",
      "((826, 540), (514, 330))\n"
     ]
    },
    {
     "name": "stderr",
     "output_type": "stream",
     "text": [
      "\r",
      " 36%|███▋      | 81/222 [00:04<00:08, 17.43it/s]"
     ]
    },
    {
     "name": "stdout",
     "output_type": "stream",
     "text": [
      "((124, 540), (439, 330))\n",
      "((825, 540), (514, 330))\n"
     ]
    },
    {
     "name": "stderr",
     "output_type": "stream",
     "text": [
      "\r",
      " 37%|███▋      | 83/222 [00:04<00:08, 16.46it/s]"
     ]
    },
    {
     "name": "stdout",
     "output_type": "stream",
     "text": [
      "((114, 540), (445, 330))\n",
      "((825, 540), (514, 330))\n",
      "((126, 540), (438, 330))\n",
      "((824, 540), (515, 330))\n",
      "((121, 540), (441, 330))\n",
      "((823, 540), (515, 330))\n"
     ]
    },
    {
     "name": "stderr",
     "output_type": "stream",
     "text": [
      "\r",
      " 38%|███▊      | 85/222 [00:04<00:09, 14.74it/s]"
     ]
    },
    {
     "name": "stdout",
     "output_type": "stream",
     "text": [
      "((122, 540), (441, 330))\n",
      "((823, 540), (514, 330))\n",
      "((123, 540), (441, 330))\n",
      "((824, 540), (514, 330))\n"
     ]
    },
    {
     "name": "stderr",
     "output_type": "stream",
     "text": [
      "\r",
      " 39%|███▉      | 87/222 [00:04<00:09, 14.05it/s]"
     ]
    },
    {
     "name": "stdout",
     "output_type": "stream",
     "text": [
      "((123, 540), (442, 330))\n",
      "((823, 540), (514, 330))\n"
     ]
    },
    {
     "name": "stderr",
     "output_type": "stream",
     "text": [
      "\r",
      " 40%|████      | 89/222 [00:04<00:09, 13.98it/s]"
     ]
    },
    {
     "name": "stdout",
     "output_type": "stream",
     "text": [
      "((126, 540), (442, 330))\n",
      "((820, 540), (515, 330))\n",
      "((125, 540), (443, 330))\n",
      "((821, 540), (514, 330))\n",
      "((124, 540), (442, 330))\n",
      "((821, 540), (515, 330))\n",
      "((124, 540), (445, 330))\n",
      "((820, 540), (514, 330))\n"
     ]
    },
    {
     "name": "stderr",
     "output_type": "stream",
     "text": [
      " 42%|████▏     | 93/222 [00:05<00:08, 15.52it/s]"
     ]
    },
    {
     "name": "stdout",
     "output_type": "stream",
     "text": [
      "((125, 540), (444, 330))\n",
      "((819, 540), (515, 330))\n",
      "((126, 540), (446, 330))\n",
      "((819, 540), (516, 330))\n"
     ]
    },
    {
     "name": "stderr",
     "output_type": "stream",
     "text": [
      "\r",
      " 43%|████▎     | 95/222 [00:05<00:07, 16.26it/s]"
     ]
    },
    {
     "name": "stdout",
     "output_type": "stream",
     "text": [
      "((124, 540), (446, 330))\n",
      "((820, 540), (517, 330))\n",
      "((127, 540), (443, 330))\n",
      "((822, 540), (518, 330))\n"
     ]
    },
    {
     "name": "stderr",
     "output_type": "stream",
     "text": [
      "\r",
      " 44%|████▎     | 97/222 [00:05<00:08, 15.42it/s]"
     ]
    },
    {
     "name": "stdout",
     "output_type": "stream",
     "text": [
      "((125, 540), (444, 330))\n",
      "((821, 540), (520, 330))\n",
      "((125, 540), (443, 330))\n",
      "((822, 540), (521, 330))\n",
      "((125, 540), (443, 330))\n",
      "((821, 540), (523, 330))\n"
     ]
    },
    {
     "name": "stderr",
     "output_type": "stream",
     "text": [
      "\r",
      " 45%|████▍     | 99/222 [00:05<00:08, 14.68it/s]"
     ]
    },
    {
     "name": "stdout",
     "output_type": "stream",
     "text": [
      "((123, 540), (443, 330))\n",
      "((823, 540), (523, 330))\n",
      "((122, 540), (444, 330))\n",
      "((824, 540), (524, 330))\n"
     ]
    },
    {
     "name": "stderr",
     "output_type": "stream",
     "text": [
      "\r",
      " 45%|████▌     | 101/222 [00:05<00:08, 14.11it/s]"
     ]
    },
    {
     "name": "stdout",
     "output_type": "stream",
     "text": [
      "((123, 540), (444, 330))\n",
      "((824, 540), (524, 330))\n"
     ]
    },
    {
     "name": "stderr",
     "output_type": "stream",
     "text": [
      "\r",
      " 46%|████▋     | 103/222 [00:05<00:08, 13.28it/s]"
     ]
    },
    {
     "name": "stdout",
     "output_type": "stream",
     "text": [
      "((130, 540), (444, 330))\n",
      "((823, 540), (522, 330))\n",
      "((129, 540), (446, 330))\n",
      "((824, 540), (521, 330))\n",
      "((133, 540), (447, 330))\n",
      "((824, 540), (520, 330))\n"
     ]
    },
    {
     "name": "stderr",
     "output_type": "stream",
     "text": [
      " 48%|████▊     | 107/222 [00:06<00:08, 14.21it/s]"
     ]
    },
    {
     "name": "stdout",
     "output_type": "stream",
     "text": [
      "((131, 540), (449, 330))\n",
      "((825, 540), (521, 330))\n",
      "((137, 540), (445, 330))\n",
      "((827, 540), (522, 330))\n",
      "((137, 540), (444, 330))\n",
      "((828, 540), (523, 330))\n",
      "((136, 540), (446, 330))\n",
      "((829, 540), (524, 330))\n"
     ]
    },
    {
     "name": "stderr",
     "output_type": "stream",
     "text": [
      " 50%|█████     | 111/222 [00:06<00:07, 15.71it/s]"
     ]
    },
    {
     "name": "stdout",
     "output_type": "stream",
     "text": [
      "((138, 540), (444, 330))\n",
      "((829, 540), (524, 330))\n",
      "((138, 540), (446, 330))\n",
      "((829, 540), (523, 330))\n",
      "((139, 540), (445, 330))\n",
      "((829, 540), (523, 330))\n"
     ]
    },
    {
     "name": "stderr",
     "output_type": "stream",
     "text": [
      " 52%|█████▏    | 115/222 [00:06<00:07, 14.93it/s]"
     ]
    },
    {
     "name": "stdout",
     "output_type": "stream",
     "text": [
      "((141, 540), (444, 330))\n",
      "((829, 540), (523, 330))\n",
      "((138, 540), (444, 330))\n",
      "((831, 540), (523, 330))\n",
      "((137, 540), (444, 330))\n",
      "((833, 540), (523, 330))\n",
      "((137, 540), (443, 330))\n",
      "((835, 540), (525, 330))\n"
     ]
    },
    {
     "name": "stderr",
     "output_type": "stream",
     "text": [
      "\r",
      " 53%|█████▎    | 117/222 [00:06<00:07, 13.67it/s]"
     ]
    },
    {
     "name": "stdout",
     "output_type": "stream",
     "text": [
      "((131, 540), (446, 330))\n",
      "((837, 540), (525, 330))\n",
      "((135, 540), (444, 330))\n",
      "((838, 540), (524, 330))\n",
      "((132, 540), (446, 330))\n",
      "((839, 540), (524, 330))\n"
     ]
    },
    {
     "name": "stderr",
     "output_type": "stream",
     "text": [
      " 55%|█████▍    | 121/222 [00:07<00:07, 13.44it/s]"
     ]
    },
    {
     "name": "stdout",
     "output_type": "stream",
     "text": [
      "((130, 540), (447, 330))\n",
      "((841, 540), (523, 330))\n",
      "((133, 540), (447, 330))\n",
      "((839, 540), (522, 330))\n",
      "((137, 540), (448, 330))\n",
      "((841, 540), (520, 330))\n"
     ]
    },
    {
     "name": "stderr",
     "output_type": "stream",
     "text": [
      " 56%|█████▋    | 125/222 [00:07<00:06, 14.50it/s]"
     ]
    },
    {
     "name": "stdout",
     "output_type": "stream",
     "text": [
      "((138, 540), (448, 330))\n",
      "((842, 540), (520, 330))\n",
      "((136, 540), (450, 330))\n",
      "((843, 540), (520, 330))\n",
      "((137, 540), (450, 330))\n",
      "((844, 540), (520, 330))\n",
      "((137, 540), (449, 330))\n",
      "((846, 540), (521, 330))\n"
     ]
    },
    {
     "name": "stderr",
     "output_type": "stream",
     "text": [
      " 58%|█████▊    | 129/222 [00:07<00:05, 16.28it/s]"
     ]
    },
    {
     "name": "stdout",
     "output_type": "stream",
     "text": [
      "((138, 540), (451, 330))\n",
      "((846, 540), (521, 330))\n",
      "((140, 540), (449, 330))\n",
      "((849, 540), (521, 330))\n",
      "((141, 540), (451, 330))\n",
      "((850, 540), (521, 330))\n",
      "((147, 540), (449, 330))\n",
      "((851, 540), (520, 330))\n"
     ]
    },
    {
     "name": "stderr",
     "output_type": "stream",
     "text": [
      "\r",
      " 59%|█████▉    | 131/222 [00:07<00:05, 16.60it/s]"
     ]
    },
    {
     "name": "stdout",
     "output_type": "stream",
     "text": [
      "((144, 540), (452, 330))\n",
      "((850, 540), (520, 330))\n",
      "((151, 540), (450, 330))\n",
      "((851, 540), (519, 330))\n",
      "((152, 540), (452, 330))\n",
      "((849, 540), (519, 330))\n",
      "((153, 540), (451, 330))\n",
      "((850, 540), (519, 330))\n"
     ]
    },
    {
     "name": "stderr",
     "output_type": "stream",
     "text": [
      " 61%|██████    | 135/222 [00:07<00:06, 14.12it/s]"
     ]
    },
    {
     "name": "stdout",
     "output_type": "stream",
     "text": [
      "((152, 540), (450, 330))\n",
      "((850, 540), (521, 330))\n",
      "((149, 540), (447, 330))\n",
      "((852, 540), (524, 330))\n",
      "((149, 540), (445, 330))\n",
      "((853, 540), (525, 330))\n",
      "((149, 540), (445, 330))\n",
      "((855, 540), (525, 330))\n"
     ]
    },
    {
     "name": "stderr",
     "output_type": "stream",
     "text": [
      " 64%|██████▎   | 141/222 [00:08<00:04, 16.24it/s]"
     ]
    },
    {
     "name": "stdout",
     "output_type": "stream",
     "text": [
      "((142, 540), (448, 330))\n",
      "((856, 540), (525, 330))\n",
      "((145, 540), (448, 330))\n",
      "((854, 540), (523, 330))\n",
      "((151, 540), (449, 330))\n",
      "((852, 540), (522, 330))\n",
      "((154, 540), (450, 330))\n",
      "((851, 540), (520, 330))\n"
     ]
    },
    {
     "name": "stderr",
     "output_type": "stream",
     "text": [
      " 65%|██████▌   | 145/222 [00:08<00:04, 15.56it/s]"
     ]
    },
    {
     "name": "stdout",
     "output_type": "stream",
     "text": [
      "((155, 540), (451, 330))\n",
      "((849, 540), (520, 330))\n",
      "((157, 540), (451, 330))\n",
      "((849, 540), (520, 330))\n",
      "((159, 540), (450, 330))\n",
      "((850, 540), (521, 330))\n",
      "((159, 540), (451, 330))\n",
      "((851, 540), (521, 330))\n"
     ]
    },
    {
     "name": "stderr",
     "output_type": "stream",
     "text": [
      " 67%|██████▋   | 149/222 [00:08<00:04, 15.48it/s]"
     ]
    },
    {
     "name": "stdout",
     "output_type": "stream",
     "text": [
      "((159, 540), (450, 330))\n",
      "((854, 540), (523, 330))\n",
      "((158, 540), (449, 330))\n",
      "((856, 540), (525, 330))\n",
      "((158, 540), (448, 330))\n",
      "((859, 540), (525, 330))\n",
      "((158, 540), (449, 330))\n",
      "((859, 540), (526, 330))\n"
     ]
    },
    {
     "name": "stderr",
     "output_type": "stream",
     "text": [
      " 69%|██████▉   | 153/222 [00:09<00:05, 13.29it/s]"
     ]
    },
    {
     "name": "stdout",
     "output_type": "stream",
     "text": [
      "((158, 540), (450, 330))\n",
      "((863, 540), (525, 330))\n",
      "((161, 540), (450, 330))\n",
      "((862, 540), (525, 330))\n",
      "((161, 540), (451, 330))\n",
      "((859, 540), (524, 330))\n",
      "((164, 540), (449, 330))\n",
      "((858, 540), (525, 330))\n"
     ]
    },
    {
     "name": "stderr",
     "output_type": "stream",
     "text": [
      "\r",
      " 70%|██████▉   | 155/222 [00:09<00:05, 12.90it/s]"
     ]
    },
    {
     "name": "stdout",
     "output_type": "stream",
     "text": [
      "((158, 540), (450, 330))\n",
      "((859, 540), (526, 330))\n",
      "((159, 540), (450, 330))\n",
      "((861, 540), (527, 330))\n",
      "((159, 540), (449, 330))\n",
      "((863, 540), (528, 330))\n"
     ]
    },
    {
     "name": "stderr",
     "output_type": "stream",
     "text": [
      " 72%|███████▏  | 159/222 [00:09<00:04, 13.24it/s]"
     ]
    },
    {
     "name": "stdout",
     "output_type": "stream",
     "text": [
      "((161, 540), (449, 330))\n",
      "((865, 540), (527, 330))\n",
      "((163, 540), (449, 330))\n",
      "((866, 540), (527, 330))\n",
      "((162, 540), (450, 330))\n",
      "((871, 540), (527, 330))\n"
     ]
    },
    {
     "name": "stderr",
     "output_type": "stream",
     "text": [
      "\r",
      " 73%|███████▎  | 161/222 [00:09<00:04, 12.48it/s]"
     ]
    },
    {
     "name": "stdout",
     "output_type": "stream",
     "text": [
      "((164, 540), (451, 330))\n",
      "((872, 540), (527, 330))\n",
      "((166, 540), (452, 330))\n",
      "((874, 540), (527, 330))\n",
      "((175, 540), (451, 330))\n",
      "((875, 540), (526, 330))\n"
     ]
    },
    {
     "name": "stderr",
     "output_type": "stream",
     "text": [
      " 74%|███████▍  | 165/222 [00:10<00:04, 14.14it/s]"
     ]
    },
    {
     "name": "stdout",
     "output_type": "stream",
     "text": [
      "((167, 540), (454, 330))\n",
      "((877, 540), (526, 330))\n",
      "((168, 540), (455, 330))\n",
      "((880, 540), (524, 330))\n",
      "((170, 540), (456, 330))\n",
      "((879, 540), (524, 330))\n",
      "((170, 540), (457, 330))\n",
      "((879, 540), (522, 330))\n"
     ]
    },
    {
     "name": "stderr",
     "output_type": "stream",
     "text": [
      " 76%|███████▌  | 169/222 [00:10<00:03, 14.05it/s]"
     ]
    },
    {
     "name": "stdout",
     "output_type": "stream",
     "text": [
      "((176, 540), (455, 330))\n",
      "((878, 540), (520, 330))\n",
      "((178, 540), (455, 330))\n",
      "((878, 540), (520, 330))\n",
      "((179, 540), (454, 330))\n",
      "((876, 540), (520, 330))\n"
     ]
    },
    {
     "name": "stderr",
     "output_type": "stream",
     "text": [
      "\r",
      " 77%|███████▋  | 171/222 [00:10<00:03, 13.55it/s]"
     ]
    },
    {
     "name": "stdout",
     "output_type": "stream",
     "text": [
      "((179, 540), (454, 330))\n",
      "((876, 540), (520, 330))\n",
      "((181, 540), (452, 330))\n",
      "((874, 540), (521, 330))\n",
      "((182, 540), (453, 330))\n",
      "((876, 540), (520, 330))\n"
     ]
    },
    {
     "name": "stderr",
     "output_type": "stream",
     "text": [
      " 79%|███████▉  | 175/222 [00:10<00:03, 14.04it/s]"
     ]
    },
    {
     "name": "stdout",
     "output_type": "stream",
     "text": [
      "((183, 540), (451, 330))\n",
      "((876, 540), (520, 330))\n",
      "((184, 540), (451, 330))\n",
      "((876, 540), (521, 330))\n",
      "((182, 540), (451, 330))\n",
      "((877, 540), (521, 330))\n"
     ]
    },
    {
     "name": "stderr",
     "output_type": "stream",
     "text": [
      " 81%|████████  | 179/222 [00:11<00:02, 14.38it/s]"
     ]
    },
    {
     "name": "stdout",
     "output_type": "stream",
     "text": [
      "((183, 540), (453, 330))\n",
      "((876, 540), (521, 330))\n",
      "((183, 540), (454, 330))\n",
      "((875, 540), (520, 330))\n",
      "((183, 540), (454, 330))\n",
      "((875, 540), (522, 330))\n",
      "((185, 540), (453, 330))\n",
      "((876, 540), (523, 330))\n"
     ]
    },
    {
     "name": "stderr",
     "output_type": "stream",
     "text": [
      " 82%|████████▏ | 183/222 [00:11<00:02, 16.12it/s]"
     ]
    },
    {
     "name": "stdout",
     "output_type": "stream",
     "text": [
      "((188, 540), (450, 330))\n",
      "((878, 540), (525, 330))\n",
      "((187, 540), (452, 330))\n",
      "((878, 540), (526, 330))\n",
      "((188, 540), (451, 330))\n",
      "((879, 540), (526, 330))\n",
      "((187, 540), (452, 330))\n",
      "((880, 540), (526, 330))\n"
     ]
    },
    {
     "name": "stderr",
     "output_type": "stream",
     "text": [
      "\r",
      " 83%|████████▎ | 185/222 [00:11<00:02, 14.67it/s]"
     ]
    },
    {
     "name": "stdout",
     "output_type": "stream",
     "text": [
      "((187, 540), (450, 330))\n",
      "((879, 540), (526, 330))\n",
      "((188, 540), (450, 330))\n",
      "((879, 540), (527, 330))\n",
      "((183, 540), (449, 330))\n",
      "((878, 540), (527, 330))\n"
     ]
    },
    {
     "name": "stderr",
     "output_type": "stream",
     "text": [
      " 85%|████████▌ | 189/222 [00:11<00:02, 15.26it/s]"
     ]
    },
    {
     "name": "stdout",
     "output_type": "stream",
     "text": [
      "((185, 540), (448, 330))\n",
      "((879, 540), (526, 330))\n",
      "((185, 540), (447, 330))\n",
      "((883, 540), (527, 330))\n",
      "((184, 540), (444, 330))\n",
      "((888, 540), (529, 330))\n",
      "((181, 540), (442, 330))\n",
      "((895, 540), (533, 330))\n"
     ]
    },
    {
     "name": "stderr",
     "output_type": "stream",
     "text": [
      " 87%|████████▋ | 193/222 [00:11<00:01, 16.19it/s]"
     ]
    },
    {
     "name": "stdout",
     "output_type": "stream",
     "text": [
      "((178, 540), (446, 330))\n",
      "((897, 540), (532, 330))\n",
      "((181, 540), (449, 330))\n",
      "((895, 540), (529, 330))\n",
      "((186, 540), (452, 330))\n",
      "((889, 540), (524, 330))\n",
      "((186, 540), (453, 330))\n",
      "((884, 540), (523, 330))\n"
     ]
    },
    {
     "name": "stderr",
     "output_type": "stream",
     "text": [
      "\r",
      " 88%|████████▊ | 195/222 [00:12<00:01, 15.54it/s]"
     ]
    },
    {
     "name": "stdout",
     "output_type": "stream",
     "text": [
      "((185, 540), (454, 330))\n",
      "((882, 540), (524, 330))\n",
      "((186, 540), (454, 330))\n",
      "((880, 540), (521, 330))\n"
     ]
    },
    {
     "name": "stderr",
     "output_type": "stream",
     "text": [
      " 90%|████████▉ | 199/222 [00:12<00:01, 12.49it/s]"
     ]
    },
    {
     "name": "stdout",
     "output_type": "stream",
     "text": [
      "((186, 540), (451, 330))\n",
      "((882, 540), (522, 330))\n",
      "((192, 540), (447, 330))\n",
      "((883, 540), (522, 330))\n",
      "((178, 540), (450, 330))\n",
      "((884, 540), (523, 330))\n"
     ]
    },
    {
     "name": "stderr",
     "output_type": "stream",
     "text": [
      "\r",
      " 91%|█████████ | 201/222 [00:12<00:01, 10.60it/s]"
     ]
    },
    {
     "name": "stdout",
     "output_type": "stream",
     "text": [
      "((180, 540), (453, 330))\n",
      "((883, 540), (521, 330))\n",
      "((187, 540), (449, 330))\n",
      "((886, 540), (522, 330))\n"
     ]
    },
    {
     "name": "stderr",
     "output_type": "stream",
     "text": [
      "\r",
      " 91%|█████████▏| 203/222 [00:13<00:01,  9.67it/s]"
     ]
    },
    {
     "name": "stdout",
     "output_type": "stream",
     "text": [
      "((186, 540), (447, 330))\n",
      "((887, 540), (523, 330))\n",
      "((186, 540), (449, 330))\n",
      "((885, 540), (524, 330))\n",
      "((186, 540), (448, 330))\n",
      "((891, 540), (525, 330))\n",
      "((185, 540), (447, 330))\n",
      "((892, 540), (526, 330))\n"
     ]
    },
    {
     "name": "stderr",
     "output_type": "stream",
     "text": [
      " 93%|█████████▎| 206/222 [00:13<00:02,  7.97it/s]"
     ]
    },
    {
     "name": "stdout",
     "output_type": "stream",
     "text": [
      "((184, 540), (448, 330))\n",
      "((891, 540), (527, 330))\n",
      "((185, 540), (446, 330))\n",
      "((895, 540), (527, 330))\n"
     ]
    },
    {
     "name": "stderr",
     "output_type": "stream",
     "text": [
      " 94%|█████████▍| 209/222 [00:13<00:01,  8.68it/s]"
     ]
    },
    {
     "name": "stdout",
     "output_type": "stream",
     "text": [
      "((184, 540), (446, 330))\n",
      "((897, 540), (527, 330))\n",
      "((186, 540), (446, 330))\n",
      "((898, 540), (526, 330))\n"
     ]
    },
    {
     "name": "stderr",
     "output_type": "stream",
     "text": [
      " 95%|█████████▌| 211/222 [00:14<00:01,  8.79it/s]"
     ]
    },
    {
     "name": "stdout",
     "output_type": "stream",
     "text": [
      "((183, 540), (448, 330))\n",
      "((898, 540), (525, 330))\n",
      "((180, 540), (448, 330))\n",
      "((898, 540), (524, 330))\n",
      "((180, 540), (450, 330))\n",
      "((896, 540), (522, 330))\n"
     ]
    },
    {
     "name": "stderr",
     "output_type": "stream",
     "text": [
      " 97%|█████████▋| 215/222 [00:14<00:00, 11.59it/s]"
     ]
    },
    {
     "name": "stdout",
     "output_type": "stream",
     "text": [
      "((180, 540), (451, 330))\n",
      "((895, 540), (521, 330))\n",
      "((186, 540), (449, 330))\n",
      "((891, 540), (521, 330))\n",
      "((182, 540), (452, 330))\n",
      "((891, 540), (520, 330))\n",
      "((185, 540), (452, 330))\n",
      "((891, 540), (518, 330))\n"
     ]
    },
    {
     "name": "stderr",
     "output_type": "stream",
     "text": [
      " 99%|█████████▊| 219/222 [00:14<00:00, 11.72it/s]"
     ]
    },
    {
     "name": "stdout",
     "output_type": "stream",
     "text": [
      "((184, 540), (452, 330))\n",
      "((890, 540), (519, 330))\n",
      "((184, 540), (451, 330))\n",
      "((888, 540), (519, 330))\n",
      "((185, 540), (449, 330))\n",
      "((889, 540), (519, 330))\n"
     ]
    },
    {
     "name": "stderr",
     "output_type": "stream",
     "text": [
      "100%|█████████▉| 221/222 [00:14<00:00, 11.84it/s]\n"
     ]
    },
    {
     "name": "stdout",
     "output_type": "stream",
     "text": [
      "((182, 540), (449, 330))\n",
      "((888, 540), (520, 330))\n",
      "((182, 540), (450, 330))\n",
      "((889, 540), (519, 330))\n",
      "[MoviePy] Done.\n",
      "[MoviePy] >>>> Video ready: test_videos_output/solidWhiteRight.mp4 \n",
      "\n",
      "CPU times: user 11.3 s, sys: 456 ms, total: 11.7 s\n",
      "Wall time: 15.9 s\n"
     ]
    }
   ],
   "source": [
    "white_output = 'test_videos_output/solidWhiteRight.mp4'\n",
    "## To speed up the testing process you may want to try your pipeline on a shorter subclip of the video\n",
    "## To do so add .subclip(start_second,end_second) to the end of the line below\n",
    "## Where start_second and end_second are integer values representing the start and end of the subclip\n",
    "## You may also uncomment the following line for a subclip of the first 5 seconds\n",
    "##clip1 = VideoFileClip(\"test_videos/solidWhiteRight.mp4\").subclip(0,5)\n",
    "clip1 = VideoFileClip(\"test_videos/solidWhiteRight.mp4\")\n",
    "white_clip = clip1.fl_image(process_image) #NOTE: this function expects color images!!\n",
    "%time white_clip.write_videofile(white_output, audio=False)"
   ]
  },
  {
   "cell_type": "markdown",
   "metadata": {},
   "source": [
    "Play the video inline, or if you prefer find the video in your filesystem (should be in the same directory) and play it in your video player of choice."
   ]
  },
  {
   "cell_type": "code",
   "execution_count": 20,
   "metadata": {},
   "outputs": [
    {
     "data": {
      "text/html": [
       "\n",
       "<video width=\"960\" height=\"540\" controls>\n",
       "  <source src=\"test_videos_output/solidWhiteRight.mp4\">\n",
       "</video>\n"
      ],
      "text/plain": [
       "<IPython.core.display.HTML object>"
      ]
     },
     "execution_count": 20,
     "metadata": {},
     "output_type": "execute_result"
    }
   ],
   "source": [
    "HTML(\"\"\"\n",
    "<video width=\"960\" height=\"540\" controls>\n",
    "  <source src=\"{0}\">\n",
    "</video>\n",
    "\"\"\".format(white_output))"
   ]
  },
  {
   "cell_type": "markdown",
   "metadata": {},
   "source": [
    "## Improve the draw_lines() function\n",
    "\n",
    "**At this point, if you were successful with making the pipeline and tuning parameters, you probably have the Hough line segments drawn onto the road, but what about identifying the full extent of the lane and marking it clearly as in the example video (P1_example.mp4)?  Think about defining a line to run the full length of the visible lane based on the line segments you identified with the Hough Transform. As mentioned previously, try to average and/or extrapolate the line segments you've detected to map out the full extent of the lane lines. You can see an example of the result you're going for in the video \"P1_example.mp4\".**\n",
    "\n",
    "**Go back and modify your draw_lines function accordingly and try re-running your pipeline. The new output should draw a single, solid line over the left lane line and a single, solid line over the right lane line. The lines should start from the bottom of the image and extend out to the top of the region of interest.**"
   ]
  },
  {
   "cell_type": "markdown",
   "metadata": {},
   "source": [
    "Now for the one with the solid yellow lane on the left. This one's more tricky!"
   ]
  },
  {
   "cell_type": "code",
   "execution_count": 21,
   "metadata": {},
   "outputs": [
    {
     "name": "stdout",
     "output_type": "stream",
     "text": [
      "((112, 540), (450, 330))\n",
      "((830, 540), (522, 330))\n",
      "[MoviePy] >>>> Building video test_videos_output/solidYellowLeft.mp4\n",
      "[MoviePy] Writing video test_videos_output/solidYellowLeft.mp4\n"
     ]
    },
    {
     "name": "stderr",
     "output_type": "stream",
     "text": [
      "  0%|          | 2/682 [00:00<00:37, 18.26it/s]"
     ]
    },
    {
     "name": "stdout",
     "output_type": "stream",
     "text": [
      "((112, 540), (450, 330))\n",
      "((830, 540), (522, 330))\n",
      "((113, 540), (451, 330))\n",
      "((830, 540), (520, 330))\n",
      "((114, 540), (452, 330))\n",
      "((831, 540), (521, 330))\n"
     ]
    },
    {
     "name": "stderr",
     "output_type": "stream",
     "text": [
      "\r",
      "  1%|          | 4/682 [00:00<00:36, 18.56it/s]"
     ]
    },
    {
     "name": "stdout",
     "output_type": "stream",
     "text": [
      "((118, 540), (453, 330))\n",
      "((831, 540), (521, 330))\n"
     ]
    },
    {
     "name": "stderr",
     "output_type": "stream",
     "text": [
      "\r",
      "  1%|          | 6/682 [00:00<00:36, 18.73it/s]"
     ]
    },
    {
     "name": "stdout",
     "output_type": "stream",
     "text": [
      "((123, 540), (453, 330))\n",
      "((833, 540), (522, 330))\n",
      "((129, 540), (453, 330))\n",
      "((830, 540), (523, 330))\n",
      "((126, 540), (455, 330))\n",
      "((836, 540), (522, 330))\n"
     ]
    },
    {
     "name": "stderr",
     "output_type": "stream",
     "text": [
      "\r",
      "  1%|          | 8/682 [00:00<00:35, 18.74it/s]"
     ]
    },
    {
     "name": "stdout",
     "output_type": "stream",
     "text": [
      "((127, 540), (453, 330))\n",
      "((837, 540), (525, 330))\n"
     ]
    },
    {
     "name": "stderr",
     "output_type": "stream",
     "text": [
      "\r",
      "  1%|▏         | 10/682 [00:00<00:35, 18.84it/s]"
     ]
    },
    {
     "name": "stdout",
     "output_type": "stream",
     "text": [
      "((127, 540), (453, 330))\n",
      "((844, 540), (524, 330))\n",
      "((131, 540), (452, 330))\n",
      "((846, 540), (523, 330))\n",
      "((131, 540), (452, 330))\n",
      "((847, 540), (524, 330))\n",
      "((132, 540), (452, 330))\n",
      "((846, 540), (525, 330))\n"
     ]
    },
    {
     "name": "stderr",
     "output_type": "stream",
     "text": [
      "\r",
      "  2%|▏         | 13/682 [00:00<00:33, 19.69it/s]"
     ]
    },
    {
     "name": "stdout",
     "output_type": "stream",
     "text": [
      "((134, 540), (452, 330))\n",
      "((848, 540), (524, 330))\n"
     ]
    },
    {
     "name": "stderr",
     "output_type": "stream",
     "text": [
      "\r",
      "  2%|▏         | 16/682 [00:00<00:32, 20.23it/s]"
     ]
    },
    {
     "name": "stdout",
     "output_type": "stream",
     "text": [
      "((136, 540), (452, 330))\n",
      "((848, 540), (523, 330))\n",
      "((138, 540), (452, 330))\n",
      "((851, 540), (523, 330))\n",
      "((141, 540), (451, 330))\n",
      "((851, 540), (523, 330))\n",
      "((142, 540), (450, 330))\n",
      "((853, 540), (522, 330))\n"
     ]
    },
    {
     "name": "stderr",
     "output_type": "stream",
     "text": [
      "\r",
      "  3%|▎         | 18/682 [00:00<00:32, 20.13it/s]"
     ]
    },
    {
     "name": "stdout",
     "output_type": "stream",
     "text": [
      "((146, 540), (449, 330))\n",
      "((853, 540), (522, 330))\n"
     ]
    },
    {
     "name": "stderr",
     "output_type": "stream",
     "text": [
      "\r",
      "  3%|▎         | 20/682 [00:01<00:33, 19.79it/s]"
     ]
    },
    {
     "name": "stdout",
     "output_type": "stream",
     "text": [
      "((144, 540), (449, 330))\n",
      "((851, 540), (523, 330))\n",
      "((144, 540), (448, 330))\n",
      "((853, 540), (523, 330))\n",
      "((143, 540), (446, 330))\n",
      "((861, 540), (522, 330))\n"
     ]
    },
    {
     "name": "stderr",
     "output_type": "stream",
     "text": [
      "\r",
      "  3%|▎         | 22/682 [00:01<00:34, 19.20it/s]"
     ]
    },
    {
     "name": "stdout",
     "output_type": "stream",
     "text": [
      "((141, 540), (446, 330))\n",
      "((860, 540), (523, 330))\n"
     ]
    },
    {
     "name": "stderr",
     "output_type": "stream",
     "text": [
      "\r",
      "  4%|▎         | 24/682 [00:01<00:35, 18.67it/s]"
     ]
    },
    {
     "name": "stdout",
     "output_type": "stream",
     "text": [
      "((140, 540), (446, 330))\n",
      "((860, 540), (521, 330))\n",
      "((141, 540), (446, 330))\n",
      "((855, 540), (524, 330))\n",
      "((142, 540), (448, 330))\n",
      "((856, 540), (523, 330))\n"
     ]
    },
    {
     "name": "stderr",
     "output_type": "stream",
     "text": [
      "\r",
      "  4%|▍         | 26/682 [00:01<00:35, 18.63it/s]"
     ]
    },
    {
     "name": "stdout",
     "output_type": "stream",
     "text": [
      "((145, 540), (450, 330))\n",
      "((857, 540), (521, 330))\n"
     ]
    },
    {
     "name": "stderr",
     "output_type": "stream",
     "text": [
      "\r",
      "  4%|▍         | 28/682 [00:01<00:34, 18.82it/s]"
     ]
    },
    {
     "name": "stdout",
     "output_type": "stream",
     "text": [
      "((147, 540), (448, 330))\n",
      "((861, 540), (522, 330))\n",
      "((148, 540), (448, 330))\n",
      "((864, 540), (524, 330))\n",
      "((149, 540), (446, 330))\n",
      "((867, 540), (526, 330))\n",
      "((151, 540), (446, 330))\n",
      "((868, 540), (527, 330))\n",
      "((153, 540), (444, 330))\n",
      "((869, 540), (528, 330))\n"
     ]
    },
    {
     "name": "stderr",
     "output_type": "stream",
     "text": [
      "  5%|▍         | 33/682 [00:01<00:35, 18.26it/s]"
     ]
    },
    {
     "name": "stdout",
     "output_type": "stream",
     "text": [
      "((153, 540), (445, 330))\n",
      "((869, 540), (528, 330))\n",
      "((152, 540), (445, 330))\n",
      "((870, 540), (529, 330))\n",
      "((154, 540), (444, 330))\n",
      "((872, 540), (527, 330))\n"
     ]
    },
    {
     "name": "stderr",
     "output_type": "stream",
     "text": [
      "  5%|▌         | 37/682 [00:02<00:40, 15.84it/s]"
     ]
    },
    {
     "name": "stdout",
     "output_type": "stream",
     "text": [
      "((155, 540), (443, 330))\n",
      "((878, 540), (525, 330))\n",
      "((158, 540), (442, 330))\n",
      "((866, 540), (531, 330))\n",
      "((156, 540), (441, 330))\n",
      "((867, 540), (531, 330))\n"
     ]
    },
    {
     "name": "stderr",
     "output_type": "stream",
     "text": [
      "\r",
      "  6%|▌         | 39/682 [00:02<00:39, 16.40it/s]"
     ]
    },
    {
     "name": "stdout",
     "output_type": "stream",
     "text": [
      "((156, 540), (441, 330))\n",
      "((870, 540), (530, 330))\n",
      "((155, 540), (440, 330))\n",
      "((873, 540), (530, 330))\n",
      "((153, 540), (439, 330))\n",
      "((874, 540), (531, 330))\n",
      "((153, 540), (439, 330))\n",
      "((874, 540), (531, 330))\n",
      "((155, 540), (438, 330))\n",
      "((873, 540), (530, 330))\n"
     ]
    },
    {
     "name": "stderr",
     "output_type": "stream",
     "text": [
      "  7%|▋         | 46/682 [00:02<00:38, 16.50it/s]"
     ]
    },
    {
     "name": "stdout",
     "output_type": "stream",
     "text": [
      "((155, 540), (438, 330))\n",
      "((877, 540), (529, 330))\n",
      "((154, 540), (439, 330))\n",
      "((871, 540), (528, 330))\n",
      "((155, 540), (440, 330))\n",
      "((875, 540), (524, 330))\n",
      "((153, 540), (440, 330))\n",
      "((873, 540), (523, 330))\n"
     ]
    },
    {
     "name": "stderr",
     "output_type": "stream",
     "text": [
      "\r",
      "  7%|▋         | 48/682 [00:02<00:40, 15.51it/s]"
     ]
    },
    {
     "name": "stdout",
     "output_type": "stream",
     "text": [
      "((154, 540), (440, 330))\n",
      "((873, 540), (521, 330))\n",
      "((156, 540), (440, 330))\n",
      "((865, 540), (524, 330))\n",
      "((155, 540), (439, 330))\n",
      "((869, 540), (523, 330))\n"
     ]
    },
    {
     "name": "stderr",
     "output_type": "stream",
     "text": [
      "  8%|▊         | 52/682 [00:02<00:42, 14.78it/s]"
     ]
    },
    {
     "name": "stdout",
     "output_type": "stream",
     "text": [
      "((153, 540), (439, 330))\n",
      "((869, 540), (525, 330))\n",
      "((152, 540), (439, 330))\n",
      "((869, 540), (525, 330))\n",
      "((153, 540), (439, 330))\n",
      "((870, 540), (522, 330))\n",
      "((152, 540), (440, 330))\n",
      "((868, 540), (522, 330))\n"
     ]
    },
    {
     "name": "stderr",
     "output_type": "stream",
     "text": [
      "  8%|▊         | 56/682 [00:03<00:39, 15.65it/s]"
     ]
    },
    {
     "name": "stdout",
     "output_type": "stream",
     "text": [
      "((151, 540), (440, 330))\n",
      "((868, 540), (521, 330))\n",
      "((152, 540), (440, 330))\n",
      "((868, 540), (521, 330))\n",
      "((152, 540), (440, 330))\n",
      "((865, 540), (522, 330))\n",
      "((149, 540), (440, 330))\n",
      "((865, 540), (522, 330))\n"
     ]
    },
    {
     "name": "stderr",
     "output_type": "stream",
     "text": [
      "  9%|▉         | 60/682 [00:03<00:42, 14.58it/s]"
     ]
    },
    {
     "name": "stdout",
     "output_type": "stream",
     "text": [
      "((150, 540), (441, 330))\n",
      "((869, 540), (518, 330))\n",
      "((149, 540), (440, 330))\n",
      "((864, 540), (520, 330))\n",
      "((148, 540), (440, 330))\n",
      "((869, 540), (517, 330))\n"
     ]
    },
    {
     "name": "stderr",
     "output_type": "stream",
     "text": [
      "\r",
      "  9%|▉         | 62/682 [00:03<00:42, 14.64it/s]"
     ]
    },
    {
     "name": "stdout",
     "output_type": "stream",
     "text": [
      "((148, 540), (441, 330))\n",
      "((862, 540), (518, 330))\n",
      "((144, 540), (440, 330))\n",
      "((858, 540), (521, 330))\n"
     ]
    },
    {
     "name": "stderr",
     "output_type": "stream",
     "text": [
      " 10%|▉         | 66/682 [00:03<00:48, 12.65it/s]"
     ]
    },
    {
     "name": "stdout",
     "output_type": "stream",
     "text": [
      "((143, 540), (441, 330))\n",
      "((861, 540), (521, 330))\n",
      "((143, 540), (441, 330))\n",
      "((862, 540), (520, 330))\n",
      "((143, 540), (442, 330))\n",
      "((861, 540), (520, 330))\n",
      "((144, 540), (442, 330))\n",
      "((862, 540), (518, 330))\n"
     ]
    },
    {
     "name": "stderr",
     "output_type": "stream",
     "text": [
      " 10%|█         | 70/682 [00:04<00:42, 14.56it/s]"
     ]
    },
    {
     "name": "stdout",
     "output_type": "stream",
     "text": [
      "((145, 540), (443, 330))\n",
      "((860, 540), (518, 330))\n",
      "((146, 540), (443, 330))\n",
      "((859, 540), (518, 330))\n",
      "((145, 540), (444, 330))\n",
      "((859, 540), (519, 330))\n",
      "((146, 540), (444, 330))\n",
      "((859, 540), (517, 330))\n"
     ]
    },
    {
     "name": "stderr",
     "output_type": "stream",
     "text": [
      "\r",
      " 11%|█         | 72/682 [00:04<00:40, 15.14it/s]"
     ]
    },
    {
     "name": "stdout",
     "output_type": "stream",
     "text": [
      "((145, 540), (444, 330))\n",
      "((855, 540), (519, 330))\n",
      "((145, 540), (444, 330))\n",
      "((856, 540), (517, 330))\n"
     ]
    },
    {
     "name": "stderr",
     "output_type": "stream",
     "text": [
      " 11%|█         | 76/682 [00:04<00:45, 13.19it/s]"
     ]
    },
    {
     "name": "stdout",
     "output_type": "stream",
     "text": [
      "((144, 540), (445, 330))\n",
      "((854, 540), (518, 330))\n",
      "((146, 540), (445, 330))\n",
      "((850, 540), (519, 330))\n",
      "((146, 540), (445, 330))\n",
      "((852, 540), (516, 330))\n",
      "((147, 540), (445, 330))\n",
      "((850, 540), (517, 330))\n"
     ]
    },
    {
     "name": "stderr",
     "output_type": "stream",
     "text": [
      " 12%|█▏        | 80/682 [00:04<00:40, 14.77it/s]"
     ]
    },
    {
     "name": "stdout",
     "output_type": "stream",
     "text": [
      "((147, 540), (445, 330))\n",
      "((852, 540), (515, 330))\n",
      "((146, 540), (444, 330))\n",
      "((850, 540), (518, 330))\n",
      "((147, 540), (443, 330))\n",
      "((852, 540), (517, 330))\n",
      "((147, 540), (443, 330))\n",
      "((850, 540), (516, 330))\n"
     ]
    },
    {
     "name": "stderr",
     "output_type": "stream",
     "text": [
      " 12%|█▏        | 84/682 [00:05<00:37, 15.95it/s]"
     ]
    },
    {
     "name": "stdout",
     "output_type": "stream",
     "text": [
      "((151, 540), (442, 330))\n",
      "((849, 540), (518, 330))\n",
      "((143, 540), (443, 330))\n",
      "((852, 540), (518, 330))\n",
      "((143, 540), (442, 330))\n",
      "((849, 540), (519, 330))\n",
      "((142, 540), (442, 330))\n",
      "((851, 540), (518, 330))\n"
     ]
    },
    {
     "name": "stderr",
     "output_type": "stream",
     "text": [
      " 13%|█▎        | 88/682 [00:05<00:35, 16.75it/s]"
     ]
    },
    {
     "name": "stdout",
     "output_type": "stream",
     "text": [
      "((142, 540), (442, 330))\n",
      "((850, 540), (517, 330))\n",
      "((140, 540), (442, 330))\n",
      "((850, 540), (516, 330))\n",
      "((138, 540), (442, 330))\n",
      "((850, 540), (517, 330))\n",
      "((137, 540), (442, 330))\n",
      "((848, 540), (519, 330))\n"
     ]
    },
    {
     "name": "stderr",
     "output_type": "stream",
     "text": [
      " 13%|█▎        | 92/682 [00:05<00:34, 16.93it/s]"
     ]
    },
    {
     "name": "stdout",
     "output_type": "stream",
     "text": [
      "((137, 540), (442, 330))\n",
      "((849, 540), (519, 330))\n",
      "((137, 540), (443, 330))\n",
      "((849, 540), (516, 330))\n",
      "((139, 540), (444, 330))\n",
      "((845, 540), (517, 330))\n",
      "((140, 540), (447, 330))\n",
      "((846, 540), (514, 330))\n"
     ]
    },
    {
     "name": "stderr",
     "output_type": "stream",
     "text": [
      " 14%|█▍        | 96/682 [00:05<00:34, 17.05it/s]"
     ]
    },
    {
     "name": "stdout",
     "output_type": "stream",
     "text": [
      "((144, 540), (448, 330))\n",
      "((842, 540), (513, 330))\n",
      "((146, 540), (448, 330))\n",
      "((836, 540), (514, 330))\n",
      "((144, 540), (450, 330))\n",
      "((843, 540), (511, 330))\n",
      "((145, 540), (450, 330))\n",
      "((841, 540), (512, 330))\n"
     ]
    },
    {
     "name": "stderr",
     "output_type": "stream",
     "text": [
      " 15%|█▍        | 100/682 [00:06<00:34, 16.63it/s]"
     ]
    },
    {
     "name": "stdout",
     "output_type": "stream",
     "text": [
      "((144, 540), (448, 330))\n",
      "((840, 540), (514, 330))\n",
      "((144, 540), (447, 330))\n",
      "((844, 540), (514, 330))\n",
      "((144, 540), (447, 330))\n",
      "((841, 540), (516, 330))\n",
      "((143, 540), (447, 330))\n",
      "((842, 540), (517, 330))\n"
     ]
    },
    {
     "name": "stderr",
     "output_type": "stream",
     "text": [
      " 15%|█▌        | 104/682 [00:06<00:33, 17.03it/s]"
     ]
    },
    {
     "name": "stdout",
     "output_type": "stream",
     "text": [
      "((143, 540), (447, 330))\n",
      "((844, 540), (516, 330))\n",
      "((142, 540), (448, 330))\n",
      "((846, 540), (516, 330))\n",
      "((142, 540), (447, 330))\n",
      "((845, 540), (515, 330))\n",
      "((141, 540), (448, 330))\n",
      "((845, 540), (517, 330))\n"
     ]
    },
    {
     "name": "stderr",
     "output_type": "stream",
     "text": [
      " 16%|█▌        | 108/682 [00:06<00:34, 16.80it/s]"
     ]
    },
    {
     "name": "stdout",
     "output_type": "stream",
     "text": [
      "((140, 540), (447, 330))\n",
      "((846, 540), (517, 330))\n",
      "((145, 540), (446, 330))\n",
      "((846, 540), (518, 330))\n",
      "((140, 540), (447, 330))\n",
      "((852, 540), (516, 330))\n",
      "((141, 540), (448, 330))\n",
      "((851, 540), (515, 330))\n"
     ]
    },
    {
     "name": "stderr",
     "output_type": "stream",
     "text": [
      "\r",
      " 16%|█▌        | 110/682 [00:06<00:35, 16.32it/s]"
     ]
    },
    {
     "name": "stdout",
     "output_type": "stream",
     "text": [
      "((142, 540), (449, 330))\n",
      "((847, 540), (514, 330))\n",
      "((143, 540), (449, 330))\n",
      "((848, 540), (513, 330))\n",
      "((143, 540), (450, 330))\n",
      "((849, 540), (511, 330))\n",
      "((145, 540), (449, 330))\n",
      "((845, 540), (515, 330))\n"
     ]
    },
    {
     "name": "stderr",
     "output_type": "stream",
     "text": [
      " 17%|█▋        | 114/682 [00:07<00:37, 15.07it/s]"
     ]
    },
    {
     "name": "stdout",
     "output_type": "stream",
     "text": [
      "((144, 540), (450, 330))\n",
      "((846, 540), (515, 330))\n",
      "((145, 540), (449, 330))\n",
      "((847, 540), (516, 330))\n",
      "((145, 540), (449, 330))\n",
      "((848, 540), (516, 330))\n",
      "((145, 540), (449, 330))\n",
      "((849, 540), (517, 330))\n"
     ]
    },
    {
     "name": "stderr",
     "output_type": "stream",
     "text": [
      " 18%|█▊        | 120/682 [00:07<00:35, 15.97it/s]"
     ]
    },
    {
     "name": "stdout",
     "output_type": "stream",
     "text": [
      "((146, 540), (448, 330))\n",
      "((849, 540), (517, 330))\n",
      "((150, 540), (447, 330))\n",
      "((850, 540), (517, 330))\n",
      "((147, 540), (448, 330))\n",
      "((852, 540), (517, 330))\n",
      "((146, 540), (448, 330))\n",
      "((845, 540), (519, 330))\n"
     ]
    },
    {
     "name": "stderr",
     "output_type": "stream",
     "text": [
      "\r",
      " 18%|█▊        | 122/682 [00:07<00:36, 15.51it/s]"
     ]
    },
    {
     "name": "stdout",
     "output_type": "stream",
     "text": [
      "((147, 540), (448, 330))\n",
      "((848, 540), (519, 330))\n",
      "((148, 540), (448, 330))\n",
      "((852, 540), (517, 330))\n",
      "((151, 540), (448, 330))\n",
      "((847, 540), (518, 330))\n",
      "((150, 540), (449, 330))\n",
      "((849, 540), (517, 330))\n"
     ]
    },
    {
     "name": "stderr",
     "output_type": "stream",
     "text": [
      " 19%|█▉        | 128/682 [00:07<00:33, 16.34it/s]"
     ]
    },
    {
     "name": "stdout",
     "output_type": "stream",
     "text": [
      "((150, 540), (449, 330))\n",
      "((850, 540), (517, 330))\n",
      "((150, 540), (449, 330))\n",
      "((849, 540), (517, 330))\n",
      "((150, 540), (449, 330))\n",
      "((850, 540), (516, 330))\n",
      "((150, 540), (451, 330))\n",
      "((850, 540), (516, 330))\n"
     ]
    },
    {
     "name": "stderr",
     "output_type": "stream",
     "text": [
      " 19%|█▉        | 132/682 [00:08<00:40, 13.70it/s]"
     ]
    },
    {
     "name": "stdout",
     "output_type": "stream",
     "text": [
      "((150, 540), (451, 330))\n",
      "((851, 540), (514, 330))\n",
      "((152, 540), (450, 330))\n",
      "((852, 540), (515, 330))\n",
      "((156, 540), (449, 330))\n",
      "((851, 540), (516, 330))\n",
      "((150, 540), (450, 330))\n",
      "((851, 540), (516, 330))\n"
     ]
    },
    {
     "name": "stderr",
     "output_type": "stream",
     "text": [
      " 20%|█▉        | 136/682 [00:08<00:37, 14.62it/s]"
     ]
    },
    {
     "name": "stdout",
     "output_type": "stream",
     "text": [
      "((149, 540), (451, 330))\n",
      "((854, 540), (515, 330))\n",
      "((150, 540), (451, 330))\n",
      "((852, 540), (517, 330))\n",
      "((151, 540), (451, 330))\n",
      "((853, 540), (516, 330))\n",
      "((151, 540), (451, 330))\n",
      "((853, 540), (513, 330))\n"
     ]
    },
    {
     "name": "stderr",
     "output_type": "stream",
     "text": [
      " 21%|██        | 140/682 [00:08<00:36, 14.76it/s]"
     ]
    },
    {
     "name": "stdout",
     "output_type": "stream",
     "text": [
      "((153, 540), (451, 330))\n",
      "((849, 540), (515, 330))\n",
      "((151, 540), (451, 330))\n",
      "((850, 540), (516, 330))\n",
      "((151, 540), (450, 330))\n",
      "((852, 540), (514, 330))\n",
      "((150, 540), (450, 330))\n",
      "((850, 540), (516, 330))\n"
     ]
    },
    {
     "name": "stderr",
     "output_type": "stream",
     "text": [
      "\r",
      " 21%|██        | 142/682 [00:08<00:36, 14.86it/s]"
     ]
    },
    {
     "name": "stdout",
     "output_type": "stream",
     "text": [
      "((150, 540), (450, 330))\n",
      "((852, 540), (517, 330))\n",
      "((152, 540), (451, 330))\n",
      "((849, 540), (516, 330))\n",
      "((153, 540), (450, 330))\n",
      "((852, 540), (516, 330))\n"
     ]
    },
    {
     "name": "stderr",
     "output_type": "stream",
     "text": [
      "\r",
      " 21%|██        | 144/682 [00:09<00:40, 13.40it/s]"
     ]
    },
    {
     "name": "stdout",
     "output_type": "stream",
     "text": [
      "((154, 540), (448, 330))\n",
      "((851, 540), (517, 330))\n",
      "((152, 540), (450, 330))\n",
      "((852, 540), (515, 330))\n",
      "((152, 540), (449, 330))\n",
      "((850, 540), (516, 330))\n"
     ]
    },
    {
     "name": "stderr",
     "output_type": "stream",
     "text": [
      " 22%|██▏       | 148/682 [00:09<00:47, 11.14it/s]"
     ]
    },
    {
     "name": "stdout",
     "output_type": "stream",
     "text": [
      "((150, 540), (449, 330))\n",
      "((850, 540), (516, 330))\n",
      "((150, 540), (449, 330))\n",
      "((853, 540), (515, 330))\n"
     ]
    },
    {
     "name": "stderr",
     "output_type": "stream",
     "text": [
      "\r",
      " 22%|██▏       | 150/682 [00:09<00:50, 10.56it/s]"
     ]
    },
    {
     "name": "stdout",
     "output_type": "stream",
     "text": [
      "((149, 540), (450, 330))\n",
      "((853, 540), (515, 330))\n",
      "((147, 540), (450, 330))\n",
      "((855, 540), (516, 330))\n"
     ]
    },
    {
     "name": "stderr",
     "output_type": "stream",
     "text": [
      "\r",
      " 22%|██▏       | 152/682 [00:09<00:50, 10.59it/s]"
     ]
    },
    {
     "name": "stdout",
     "output_type": "stream",
     "text": [
      "((149, 540), (451, 330))\n",
      "((852, 540), (517, 330))\n",
      "((150, 540), (451, 330))\n",
      "((855, 540), (514, 330))\n",
      "((150, 540), (451, 330))\n",
      "((856, 540), (514, 330))\n"
     ]
    },
    {
     "name": "stderr",
     "output_type": "stream",
     "text": [
      " 23%|██▎       | 156/682 [00:10<00:41, 12.70it/s]"
     ]
    },
    {
     "name": "stdout",
     "output_type": "stream",
     "text": [
      "((151, 540), (453, 330))\n",
      "((856, 540), (516, 330))\n",
      "((152, 540), (454, 330))\n",
      "((855, 540), (517, 330))\n",
      "((156, 540), (455, 330))\n",
      "((854, 540), (515, 330))\n",
      "((155, 540), (457, 330))\n",
      "((867, 540), (510, 330))\n"
     ]
    },
    {
     "name": "stderr",
     "output_type": "stream",
     "text": [
      " 23%|██▎       | 160/682 [00:10<00:41, 12.66it/s]"
     ]
    },
    {
     "name": "stdout",
     "output_type": "stream",
     "text": [
      "((156, 540), (458, 330))\n",
      "((866, 540), (510, 330))\n",
      "((158, 540), (459, 330))\n",
      "((860, 540), (510, 330))\n",
      "((159, 540), (460, 330))\n",
      "((860, 540), (511, 330))\n"
     ]
    },
    {
     "name": "stderr",
     "output_type": "stream",
     "text": [
      "\r",
      " 24%|██▍       | 162/682 [00:10<00:40, 12.75it/s]"
     ]
    },
    {
     "name": "stdout",
     "output_type": "stream",
     "text": [
      "((159, 540), (460, 330))\n",
      "((859, 540), (511, 330))\n",
      "((163, 540), (455, 330))\n",
      "((863, 540), (512, 330))\n",
      "((161, 540), (460, 330))\n",
      "((862, 540), (512, 330))\n",
      "((161, 540), (460, 330))\n",
      "((866, 540), (513, 330))\n"
     ]
    },
    {
     "name": "stderr",
     "output_type": "stream",
     "text": [
      " 24%|██▍       | 166/682 [00:10<00:39, 13.10it/s]"
     ]
    },
    {
     "name": "stdout",
     "output_type": "stream",
     "text": [
      "((162, 540), (460, 330))\n",
      "((867, 540), (513, 330))\n",
      "((162, 540), (459, 330))\n",
      "((868, 540), (515, 330))\n",
      "((163, 540), (459, 330))\n",
      "((869, 540), (516, 330))\n"
     ]
    },
    {
     "name": "stderr",
     "output_type": "stream",
     "text": [
      "\r",
      " 25%|██▍       | 168/682 [00:11<00:39, 13.04it/s]"
     ]
    },
    {
     "name": "stdout",
     "output_type": "stream",
     "text": [
      "((164, 540), (459, 330))\n",
      "((869, 540), (517, 330))\n",
      "((168, 540), (458, 330))\n",
      "((873, 540), (517, 330))\n"
     ]
    },
    {
     "name": "stderr",
     "output_type": "stream",
     "text": [
      " 25%|██▌       | 172/682 [00:11<00:42, 11.87it/s]"
     ]
    },
    {
     "name": "stdout",
     "output_type": "stream",
     "text": [
      "((166, 540), (459, 330))\n",
      "((875, 540), (516, 330))\n",
      "((167, 540), (459, 330))\n",
      "((880, 540), (515, 330))\n",
      "((169, 540), (457, 330))\n",
      "((877, 540), (517, 330))\n",
      "((170, 540), (459, 330))\n",
      "((878, 540), (517, 330))\n"
     ]
    },
    {
     "name": "stderr",
     "output_type": "stream",
     "text": [
      "\r",
      " 26%|██▌       | 174/682 [00:11<00:38, 13.04it/s]"
     ]
    },
    {
     "name": "stdout",
     "output_type": "stream",
     "text": [
      "((171, 540), (457, 330))\n",
      "((880, 540), (518, 330))\n",
      "((172, 540), (457, 330))\n",
      "((880, 540), (518, 330))\n"
     ]
    },
    {
     "name": "stderr",
     "output_type": "stream",
     "text": [
      " 26%|██▌       | 178/682 [00:11<00:40, 12.46it/s]"
     ]
    },
    {
     "name": "stdout",
     "output_type": "stream",
     "text": [
      "((174, 540), (456, 330))\n",
      "((881, 540), (519, 330))\n",
      "((175, 540), (457, 330))\n",
      "((882, 540), (518, 330))\n",
      "((177, 540), (458, 330))\n",
      "((883, 540), (516, 330))\n",
      "((179, 540), (457, 330))\n",
      "((883, 540), (517, 330))\n"
     ]
    },
    {
     "name": "stderr",
     "output_type": "stream",
     "text": [
      " 27%|██▋       | 182/682 [00:12<00:34, 14.34it/s]"
     ]
    },
    {
     "name": "stdout",
     "output_type": "stream",
     "text": [
      "((180, 540), (457, 330))\n",
      "((884, 540), (515, 330))\n",
      "((183, 540), (456, 330))\n",
      "((885, 540), (517, 330))\n",
      "((180, 540), (456, 330))\n",
      "((898, 540), (513, 330))\n",
      "((180, 540), (455, 330))\n",
      "((897, 540), (513, 330))\n"
     ]
    },
    {
     "name": "stderr",
     "output_type": "stream",
     "text": [
      " 27%|██▋       | 186/682 [00:12<00:32, 15.16it/s]"
     ]
    },
    {
     "name": "stdout",
     "output_type": "stream",
     "text": [
      "((180, 540), (456, 330))\n",
      "((892, 540), (513, 330))\n",
      "((181, 540), (457, 330))\n",
      "((892, 540), (512, 330))\n",
      "((182, 540), (456, 330))\n",
      "((893, 540), (509, 330))\n",
      "((181, 540), (456, 330))\n",
      "((892, 540), (509, 330))\n"
     ]
    },
    {
     "name": "stderr",
     "output_type": "stream",
     "text": [
      " 28%|██▊       | 190/682 [00:12<00:30, 16.37it/s]"
     ]
    },
    {
     "name": "stdout",
     "output_type": "stream",
     "text": [
      "((182, 540), (455, 330))\n",
      "((890, 540), (510, 330))\n",
      "((182, 540), (455, 330))\n",
      "((889, 540), (510, 330))\n",
      "((182, 540), (454, 330))\n",
      "((887, 540), (510, 330))\n",
      "((181, 540), (454, 330))\n",
      "((886, 540), (509, 330))\n"
     ]
    },
    {
     "name": "stderr",
     "output_type": "stream",
     "text": [
      " 28%|██▊       | 194/682 [00:12<00:29, 16.56it/s]"
     ]
    },
    {
     "name": "stdout",
     "output_type": "stream",
     "text": [
      "((181, 540), (454, 330))\n",
      "((887, 540), (509, 330))\n",
      "((182, 540), (453, 330))\n",
      "((887, 540), (510, 330))\n",
      "((181, 540), (452, 330))\n",
      "((889, 540), (510, 330))\n",
      "((179, 540), (451, 330))\n",
      "((889, 540), (511, 330))\n"
     ]
    },
    {
     "name": "stderr",
     "output_type": "stream",
     "text": [
      "\r",
      " 29%|██▊       | 196/682 [00:13<00:28, 16.87it/s]"
     ]
    },
    {
     "name": "stdout",
     "output_type": "stream",
     "text": [
      "((179, 540), (451, 330))\n",
      "((892, 540), (509, 330))\n",
      "((179, 540), (450, 330))\n",
      "((892, 540), (507, 330))\n"
     ]
    },
    {
     "name": "stderr",
     "output_type": "stream",
     "text": [
      " 29%|██▉       | 200/682 [00:13<00:35, 13.60it/s]"
     ]
    },
    {
     "name": "stdout",
     "output_type": "stream",
     "text": [
      "((178, 540), (452, 330))\n",
      "((885, 540), (508, 330))\n",
      "((178, 540), (451, 330))\n",
      "((882, 540), (509, 330))\n",
      "((178, 540), (451, 330))\n",
      "((880, 540), (508, 330))\n",
      "((175, 540), (450, 330))\n",
      "((878, 540), (509, 330))\n"
     ]
    },
    {
     "name": "stderr",
     "output_type": "stream",
     "text": [
      " 30%|██▉       | 204/682 [00:13<00:30, 15.48it/s]"
     ]
    },
    {
     "name": "stdout",
     "output_type": "stream",
     "text": [
      "((175, 540), (449, 330))\n",
      "((878, 540), (508, 330))\n",
      "((174, 540), (449, 330))\n",
      "((875, 540), (508, 330))\n",
      "((173, 540), (450, 330))\n",
      "((872, 540), (507, 330))\n",
      "((174, 540), (451, 330))\n",
      "((871, 540), (507, 330))\n"
     ]
    },
    {
     "name": "stderr",
     "output_type": "stream",
     "text": [
      " 30%|███       | 208/682 [00:13<00:29, 16.00it/s]"
     ]
    },
    {
     "name": "stdout",
     "output_type": "stream",
     "text": [
      "((178, 540), (450, 330))\n",
      "((871, 540), (506, 330))\n",
      "((171, 540), (452, 330))\n",
      "((879, 540), (504, 330))\n",
      "((170, 540), (452, 330))\n",
      "((877, 540), (504, 330))\n",
      "((169, 540), (451, 330))\n",
      "((876, 540), (505, 330))\n"
     ]
    },
    {
     "name": "stderr",
     "output_type": "stream",
     "text": [
      " 31%|███       | 212/682 [00:14<00:28, 16.25it/s]"
     ]
    },
    {
     "name": "stdout",
     "output_type": "stream",
     "text": [
      "((168, 540), (452, 330))\n",
      "((870, 540), (506, 330))\n",
      "((167, 540), (451, 330))\n",
      "((878, 540), (502, 330))\n",
      "((167, 540), (452, 330))\n",
      "((869, 540), (504, 330))\n",
      "((166, 540), (452, 330))\n",
      "((867, 540), (504, 330))\n"
     ]
    },
    {
     "name": "stderr",
     "output_type": "stream",
     "text": [
      " 32%|███▏      | 216/682 [00:14<00:31, 14.80it/s]"
     ]
    },
    {
     "name": "stdout",
     "output_type": "stream",
     "text": [
      "((165, 540), (452, 330))\n",
      "((866, 540), (503, 330))\n",
      "((164, 540), (452, 330))\n",
      "((863, 540), (504, 330))\n",
      "((163, 540), (452, 330))\n",
      "((862, 540), (505, 330))\n"
     ]
    },
    {
     "name": "stderr",
     "output_type": "stream",
     "text": [
      "\r",
      " 32%|███▏      | 218/682 [00:14<00:32, 14.31it/s]"
     ]
    },
    {
     "name": "stdout",
     "output_type": "stream",
     "text": [
      "((161, 540), (451, 330))\n",
      "((862, 540), (505, 330))\n",
      "((164, 540), (450, 330))\n",
      "((863, 540), (506, 330))\n",
      "((160, 540), (451, 330))\n",
      "((862, 540), (505, 330))\n",
      "((160, 540), (451, 330))\n",
      "((864, 540), (504, 330))\n"
     ]
    },
    {
     "name": "stderr",
     "output_type": "stream",
     "text": [
      " 33%|███▎      | 224/682 [00:14<00:31, 14.66it/s]"
     ]
    },
    {
     "name": "stdout",
     "output_type": "stream",
     "text": [
      "((159, 540), (450, 330))\n",
      "((865, 540), (505, 330))\n",
      "((159, 540), (451, 330))\n",
      "((862, 540), (507, 330))\n",
      "((161, 540), (450, 330))\n",
      "((870, 540), (502, 330))\n",
      "((160, 540), (450, 330))\n",
      "((861, 540), (507, 330))\n"
     ]
    },
    {
     "name": "stderr",
     "output_type": "stream",
     "text": [
      "\r",
      " 33%|███▎      | 226/682 [00:15<00:30, 15.01it/s]"
     ]
    },
    {
     "name": "stdout",
     "output_type": "stream",
     "text": [
      "((163, 540), (450, 330))\n",
      "((860, 540), (508, 330))\n",
      "((161, 540), (451, 330))\n",
      "((860, 540), (508, 330))\n",
      "((160, 540), (450, 330))\n",
      "((861, 540), (509, 330))\n"
     ]
    },
    {
     "name": "stderr",
     "output_type": "stream",
     "text": [
      " 34%|███▎      | 230/682 [00:15<00:34, 12.95it/s]"
     ]
    },
    {
     "name": "stdout",
     "output_type": "stream",
     "text": [
      "((158, 540), (450, 330))\n",
      "((860, 540), (507, 330))\n",
      "((158, 540), (449, 330))\n",
      "((861, 540), (512, 330))\n",
      "((158, 540), (449, 330))\n",
      "((862, 540), (513, 330))\n",
      "((158, 540), (447, 330))\n",
      "((861, 540), (514, 330))\n"
     ]
    },
    {
     "name": "stderr",
     "output_type": "stream",
     "text": [
      " 34%|███▍      | 234/682 [00:15<00:30, 14.85it/s]"
     ]
    },
    {
     "name": "stdout",
     "output_type": "stream",
     "text": [
      "((154, 540), (449, 330))\n",
      "((860, 540), (513, 330))\n",
      "((153, 540), (451, 330))\n",
      "((855, 540), (513, 330))\n",
      "((155, 540), (452, 330))\n",
      "((858, 540), (511, 330))\n",
      "((154, 540), (452, 330))\n",
      "((859, 540), (509, 330))\n"
     ]
    },
    {
     "name": "stderr",
     "output_type": "stream",
     "text": [
      " 35%|███▍      | 238/682 [00:15<00:28, 15.66it/s]"
     ]
    },
    {
     "name": "stdout",
     "output_type": "stream",
     "text": [
      "((153, 540), (450, 330))\n",
      "((860, 540), (513, 330))\n",
      "((152, 540), (448, 330))\n",
      "((861, 540), (514, 330))\n",
      "((152, 540), (449, 330))\n",
      "((861, 540), (514, 330))\n",
      "((151, 540), (449, 330))\n",
      "((862, 540), (514, 330))\n"
     ]
    },
    {
     "name": "stderr",
     "output_type": "stream",
     "text": [
      " 35%|███▌      | 242/682 [00:16<00:27, 16.09it/s]"
     ]
    },
    {
     "name": "stdout",
     "output_type": "stream",
     "text": [
      "((151, 540), (450, 330))\n",
      "((861, 540), (513, 330))\n",
      "((153, 540), (449, 330))\n",
      "((864, 540), (513, 330))\n",
      "((152, 540), (450, 330))\n",
      "((863, 540), (511, 330))\n",
      "((154, 540), (450, 330))\n",
      "((863, 540), (512, 330))\n"
     ]
    },
    {
     "name": "stderr",
     "output_type": "stream",
     "text": [
      " 36%|███▌      | 246/682 [00:16<00:26, 16.73it/s]"
     ]
    },
    {
     "name": "stdout",
     "output_type": "stream",
     "text": [
      "((156, 540), (449, 330))\n",
      "((878, 540), (506, 330))\n",
      "((152, 540), (451, 330))\n",
      "((868, 540), (508, 330))\n",
      "((153, 540), (452, 330))\n",
      "((867, 540), (507, 330))\n",
      "((152, 540), (452, 330))\n",
      "((868, 540), (506, 330))\n"
     ]
    },
    {
     "name": "stderr",
     "output_type": "stream",
     "text": [
      " 37%|███▋      | 250/682 [00:16<00:27, 15.82it/s]"
     ]
    },
    {
     "name": "stdout",
     "output_type": "stream",
     "text": [
      "((152, 540), (452, 330))\n",
      "((862, 540), (507, 330))\n",
      "((152, 540), (451, 330))\n",
      "((862, 540), (508, 330))\n",
      "((152, 540), (451, 330))\n",
      "((862, 540), (506, 330))\n",
      "((152, 540), (450, 330))\n",
      "((858, 540), (510, 330))\n"
     ]
    },
    {
     "name": "stderr",
     "output_type": "stream",
     "text": [
      " 37%|███▋      | 254/682 [00:16<00:26, 16.15it/s]"
     ]
    },
    {
     "name": "stdout",
     "output_type": "stream",
     "text": [
      "((154, 540), (451, 330))\n",
      "((857, 540), (508, 330))\n",
      "((155, 540), (451, 330))\n",
      "((857, 540), (506, 330))\n",
      "((156, 540), (451, 330))\n",
      "((857, 540), (506, 330))\n",
      "((159, 540), (450, 330))\n",
      "((856, 540), (508, 330))\n"
     ]
    },
    {
     "name": "stderr",
     "output_type": "stream",
     "text": [
      " 38%|███▊      | 258/682 [00:17<00:25, 16.34it/s]"
     ]
    },
    {
     "name": "stdout",
     "output_type": "stream",
     "text": [
      "((158, 540), (450, 330))\n",
      "((856, 540), (508, 330))\n",
      "((159, 540), (449, 330))\n",
      "((858, 540), (509, 330))\n",
      "((160, 540), (449, 330))\n",
      "((861, 540), (508, 330))\n",
      "((160, 540), (449, 330))\n",
      "((854, 540), (511, 330))\n"
     ]
    },
    {
     "name": "stderr",
     "output_type": "stream",
     "text": [
      " 38%|███▊      | 262/682 [00:17<00:24, 16.94it/s]"
     ]
    },
    {
     "name": "stdout",
     "output_type": "stream",
     "text": [
      "((159, 540), (448, 330))\n",
      "((856, 540), (511, 330))\n",
      "((158, 540), (449, 330))\n",
      "((856, 540), (511, 330))\n",
      "((159, 540), (450, 330))\n",
      "((854, 540), (511, 330))\n",
      "((158, 540), (450, 330))\n",
      "((855, 540), (514, 330))\n"
     ]
    },
    {
     "name": "stderr",
     "output_type": "stream",
     "text": [
      "\r",
      " 39%|███▊      | 264/682 [00:17<00:24, 16.92it/s]"
     ]
    },
    {
     "name": "stdout",
     "output_type": "stream",
     "text": [
      "((157, 540), (449, 330))\n",
      "((858, 540), (512, 330))\n",
      "((156, 540), (449, 330))\n",
      "((860, 540), (513, 330))\n"
     ]
    },
    {
     "name": "stderr",
     "output_type": "stream",
     "text": [
      " 39%|███▉      | 268/682 [00:17<00:31, 13.33it/s]"
     ]
    },
    {
     "name": "stdout",
     "output_type": "stream",
     "text": [
      "((155, 540), (449, 330))\n",
      "((859, 540), (514, 330))\n",
      "((155, 540), (451, 330))\n",
      "((860, 540), (512, 330))\n",
      "((160, 540), (450, 330))\n",
      "((859, 540), (513, 330))\n",
      "((155, 540), (453, 330))\n",
      "((862, 540), (513, 330))\n"
     ]
    },
    {
     "name": "stderr",
     "output_type": "stream",
     "text": [
      " 40%|███▉      | 272/682 [00:18<00:27, 15.14it/s]"
     ]
    },
    {
     "name": "stdout",
     "output_type": "stream",
     "text": [
      "((157, 540), (453, 330))\n",
      "((860, 540), (515, 330))\n",
      "((157, 540), (453, 330))\n",
      "((868, 540), (513, 330))\n",
      "((159, 540), (453, 330))\n",
      "((868, 540), (513, 330))\n",
      "((159, 540), (454, 330))\n",
      "((867, 540), (513, 330))\n"
     ]
    },
    {
     "name": "stderr",
     "output_type": "stream",
     "text": [
      " 40%|████      | 276/682 [00:18<00:27, 14.92it/s]"
     ]
    },
    {
     "name": "stdout",
     "output_type": "stream",
     "text": [
      "((160, 540), (454, 330))\n",
      "((866, 540), (515, 330))\n",
      "((160, 540), (454, 330))\n",
      "((874, 540), (510, 330))\n",
      "((160, 540), (453, 330))\n",
      "((876, 540), (509, 330))\n",
      "((159, 540), (452, 330))\n",
      "((873, 540), (513, 330))\n"
     ]
    },
    {
     "name": "stderr",
     "output_type": "stream",
     "text": [
      " 41%|████      | 280/682 [00:18<00:26, 15.20it/s]"
     ]
    },
    {
     "name": "stdout",
     "output_type": "stream",
     "text": [
      "((157, 540), (453, 330))\n",
      "((872, 540), (513, 330))\n",
      "((159, 540), (453, 330))\n",
      "((870, 540), (511, 330))\n",
      "((160, 540), (454, 330))\n",
      "((868, 540), (509, 330))\n",
      "((163, 540), (453, 330))\n",
      "((869, 540), (505, 330))\n"
     ]
    },
    {
     "name": "stderr",
     "output_type": "stream",
     "text": [
      " 42%|████▏     | 284/682 [00:18<00:26, 15.25it/s]"
     ]
    },
    {
     "name": "stdout",
     "output_type": "stream",
     "text": [
      "((165, 540), (451, 330))\n",
      "((866, 540), (506, 330))\n",
      "((162, 540), (452, 330))\n",
      "((874, 540), (501, 330))\n",
      "((161, 540), (453, 330))\n",
      "((877, 540), (499, 330))\n",
      "((158, 540), (451, 330))\n",
      "((871, 540), (503, 330))\n"
     ]
    },
    {
     "name": "stderr",
     "output_type": "stream",
     "text": [
      " 42%|████▏     | 288/682 [00:19<00:25, 15.43it/s]"
     ]
    },
    {
     "name": "stdout",
     "output_type": "stream",
     "text": [
      "((159, 540), (450, 330))\n",
      "((872, 540), (502, 330))\n",
      "((157, 540), (454, 330))\n",
      "((872, 540), (501, 330))\n",
      "((150, 540), (456, 330))\n",
      "((864, 540), (499, 330))\n",
      "((148, 540), (462, 330))\n",
      "((860, 540), (497, 330))\n"
     ]
    },
    {
     "name": "stderr",
     "output_type": "stream",
     "text": [
      " 43%|████▎     | 292/682 [00:19<00:25, 15.06it/s]"
     ]
    },
    {
     "name": "stdout",
     "output_type": "stream",
     "text": [
      "((138, 540), (471, 330))\n",
      "((857, 540), (497, 330))\n",
      "((144, 540), (474, 330))\n",
      "((856, 540), (498, 330))\n",
      "((122, 540), (479, 330))\n",
      "((858, 540), (499, 330))\n"
     ]
    },
    {
     "name": "stderr",
     "output_type": "stream",
     "text": [
      "\r",
      " 43%|████▎     | 294/682 [00:19<00:26, 14.68it/s]"
     ]
    },
    {
     "name": "stdout",
     "output_type": "stream",
     "text": [
      "((162, 540), (454, 330))\n",
      "((858, 540), (501, 330))\n",
      "((164, 540), (453, 330))\n",
      "((858, 540), (502, 330))\n",
      "((162, 540), (454, 330))\n",
      "((860, 540), (503, 330))\n",
      "((163, 540), (452, 330))\n",
      "((864, 540), (503, 330))\n"
     ]
    },
    {
     "name": "stderr",
     "output_type": "stream",
     "text": [
      " 44%|████▍     | 300/682 [00:19<00:23, 15.92it/s]"
     ]
    },
    {
     "name": "stdout",
     "output_type": "stream",
     "text": [
      "((161, 540), (452, 330))\n",
      "((865, 540), (502, 330))\n",
      "((162, 540), (452, 330))\n",
      "((860, 540), (503, 330))\n",
      "((162, 540), (453, 330))\n",
      "((859, 540), (504, 330))\n",
      "((163, 540), (454, 330))\n",
      "((853, 540), (506, 330))\n"
     ]
    },
    {
     "name": "stderr",
     "output_type": "stream",
     "text": [
      "\r",
      " 44%|████▍     | 302/682 [00:20<00:24, 15.27it/s]"
     ]
    },
    {
     "name": "stdout",
     "output_type": "stream",
     "text": [
      "((163, 540), (453, 330))\n",
      "((852, 540), (505, 330))\n",
      "((164, 540), (452, 330))\n",
      "((852, 540), (506, 330))\n",
      "((164, 540), (452, 330))\n",
      "((852, 540), (508, 330))\n"
     ]
    },
    {
     "name": "stderr",
     "output_type": "stream",
     "text": [
      " 45%|████▍     | 306/682 [00:20<00:24, 15.32it/s]"
     ]
    },
    {
     "name": "stdout",
     "output_type": "stream",
     "text": [
      "((162, 540), (450, 330))\n",
      "((852, 540), (510, 330))\n",
      "((161, 540), (450, 330))\n",
      "((851, 540), (510, 330))\n",
      "((164, 540), (447, 330))\n",
      "((850, 540), (513, 330))\n",
      "((160, 540), (448, 330))\n",
      "((854, 540), (513, 330))\n"
     ]
    },
    {
     "name": "stderr",
     "output_type": "stream",
     "text": [
      " 45%|████▌     | 310/682 [00:20<00:23, 15.74it/s]"
     ]
    },
    {
     "name": "stdout",
     "output_type": "stream",
     "text": [
      "((158, 540), (448, 330))\n",
      "((850, 540), (515, 330))\n",
      "((157, 540), (448, 330))\n",
      "((856, 540), (513, 330))\n",
      "((156, 540), (447, 330))\n",
      "((855, 540), (515, 330))\n",
      "((154, 540), (448, 330))\n",
      "((856, 540), (515, 330))\n"
     ]
    },
    {
     "name": "stderr",
     "output_type": "stream",
     "text": [
      " 46%|████▌     | 314/682 [00:20<00:22, 16.29it/s]"
     ]
    },
    {
     "name": "stdout",
     "output_type": "stream",
     "text": [
      "((154, 540), (447, 330))\n",
      "((860, 540), (512, 330))\n",
      "((153, 540), (448, 330))\n",
      "((858, 540), (512, 330))\n",
      "((154, 540), (448, 330))\n",
      "((858, 540), (512, 330))\n",
      "((153, 540), (448, 330))\n",
      "((857, 540), (511, 330))\n"
     ]
    },
    {
     "name": "stderr",
     "output_type": "stream",
     "text": [
      " 47%|████▋     | 318/682 [00:21<00:21, 16.75it/s]"
     ]
    },
    {
     "name": "stdout",
     "output_type": "stream",
     "text": [
      "((154, 540), (449, 330))\n",
      "((857, 540), (510, 330))\n",
      "((155, 540), (449, 330))\n",
      "((858, 540), (509, 330))\n",
      "((157, 540), (449, 330))\n",
      "((858, 540), (509, 330))\n",
      "((160, 540), (447, 330))\n",
      "((860, 540), (510, 330))\n"
     ]
    },
    {
     "name": "stderr",
     "output_type": "stream",
     "text": [
      " 47%|████▋     | 322/682 [00:21<00:21, 16.37it/s]"
     ]
    },
    {
     "name": "stdout",
     "output_type": "stream",
     "text": [
      "((156, 540), (447, 330))\n",
      "((865, 540), (509, 330))\n",
      "((155, 540), (447, 330))\n",
      "((857, 540), (513, 330))\n",
      "((156, 540), (447, 330))\n",
      "((860, 540), (512, 330))\n",
      "((153, 540), (446, 330))\n",
      "((859, 540), (513, 330))\n"
     ]
    },
    {
     "name": "stderr",
     "output_type": "stream",
     "text": [
      " 48%|████▊     | 326/682 [00:21<00:21, 16.91it/s]"
     ]
    },
    {
     "name": "stdout",
     "output_type": "stream",
     "text": [
      "((154, 540), (446, 330))\n",
      "((863, 540), (509, 330))\n",
      "((154, 540), (448, 330))\n",
      "((861, 540), (508, 330))\n",
      "((154, 540), (448, 330))\n",
      "((860, 540), (506, 330))\n",
      "((154, 540), (448, 330))\n",
      "((859, 540), (504, 330))\n"
     ]
    },
    {
     "name": "stderr",
     "output_type": "stream",
     "text": [
      " 48%|████▊     | 330/682 [00:21<00:20, 17.15it/s]"
     ]
    },
    {
     "name": "stdout",
     "output_type": "stream",
     "text": [
      "((154, 540), (448, 330))\n",
      "((856, 540), (505, 330))\n",
      "((152, 540), (448, 330))\n",
      "((856, 540), (505, 330))\n",
      "((152, 540), (446, 330))\n",
      "((857, 540), (507, 330))\n",
      "((152, 540), (443, 330))\n",
      "((858, 540), (510, 330))\n"
     ]
    },
    {
     "name": "stderr",
     "output_type": "stream",
     "text": [
      " 49%|████▉     | 334/682 [00:22<00:20, 16.92it/s]"
     ]
    },
    {
     "name": "stdout",
     "output_type": "stream",
     "text": [
      "((148, 540), (444, 330))\n",
      "((852, 540), (513, 330))\n",
      "((146, 540), (446, 330))\n",
      "((858, 540), (509, 330))\n",
      "((145, 540), (448, 330))\n",
      "((855, 540), (509, 330))\n",
      "((145, 540), (449, 330))\n",
      "((852, 540), (508, 330))\n"
     ]
    },
    {
     "name": "stderr",
     "output_type": "stream",
     "text": [
      "\r",
      " 49%|████▉     | 336/682 [00:22<00:20, 16.53it/s]"
     ]
    },
    {
     "name": "stdout",
     "output_type": "stream",
     "text": [
      "((144, 540), (450, 330))\n",
      "((854, 540), (508, 330))\n",
      "((143, 540), (450, 330))\n",
      "((854, 540), (506, 330))\n"
     ]
    },
    {
     "name": "stderr",
     "output_type": "stream",
     "text": [
      " 50%|████▉     | 340/682 [00:22<00:24, 13.79it/s]"
     ]
    },
    {
     "name": "stdout",
     "output_type": "stream",
     "text": [
      "((144, 540), (449, 330))\n",
      "((854, 540), (508, 330))\n",
      "((143, 540), (450, 330))\n",
      "((852, 540), (508, 330))\n",
      "((142, 540), (451, 330))\n",
      "((852, 540), (506, 330))\n",
      "((144, 540), (451, 330))\n",
      "((852, 540), (505, 330))\n"
     ]
    },
    {
     "name": "stderr",
     "output_type": "stream",
     "text": [
      " 50%|█████     | 344/682 [00:22<00:22, 15.16it/s]"
     ]
    },
    {
     "name": "stdout",
     "output_type": "stream",
     "text": [
      "((144, 540), (451, 330))\n",
      "((853, 540), (507, 330))\n",
      "((147, 540), (450, 330))\n",
      "((852, 540), (509, 330))\n",
      "((143, 540), (451, 330))\n",
      "((857, 540), (508, 330))\n",
      "((145, 540), (450, 330))\n",
      "((854, 540), (509, 330))\n"
     ]
    },
    {
     "name": "stderr",
     "output_type": "stream",
     "text": [
      " 51%|█████     | 348/682 [00:23<00:20, 15.97it/s]"
     ]
    },
    {
     "name": "stdout",
     "output_type": "stream",
     "text": [
      "((145, 540), (451, 330))\n",
      "((851, 540), (510, 330))\n",
      "((146, 540), (451, 330))\n",
      "((851, 540), (509, 330))\n",
      "((146, 540), (451, 330))\n",
      "((853, 540), (508, 330))\n",
      "((147, 540), (452, 330))\n",
      "((849, 540), (509, 330))\n"
     ]
    },
    {
     "name": "stderr",
     "output_type": "stream",
     "text": [
      " 52%|█████▏    | 352/682 [00:23<00:20, 16.01it/s]"
     ]
    },
    {
     "name": "stdout",
     "output_type": "stream",
     "text": [
      "((148, 540), (451, 330))\n",
      "((849, 540), (509, 330))\n",
      "((148, 540), (451, 330))\n",
      "((849, 540), (509, 330))\n",
      "((146, 540), (451, 330))\n",
      "((850, 540), (509, 330))\n",
      "((147, 540), (450, 330))\n",
      "((850, 540), (511, 330))\n"
     ]
    },
    {
     "name": "stderr",
     "output_type": "stream",
     "text": [
      " 52%|█████▏    | 356/682 [00:23<00:19, 16.66it/s]"
     ]
    },
    {
     "name": "stdout",
     "output_type": "stream",
     "text": [
      "((149, 540), (450, 330))\n",
      "((849, 540), (511, 330))\n",
      "((148, 540), (449, 330))\n",
      "((848, 540), (511, 330))\n",
      "((146, 540), (450, 330))\n",
      "((852, 540), (510, 330))\n",
      "((146, 540), (450, 330))\n",
      "((850, 540), (509, 330))\n"
     ]
    },
    {
     "name": "stderr",
     "output_type": "stream",
     "text": [
      " 53%|█████▎    | 360/682 [00:23<00:18, 16.96it/s]"
     ]
    },
    {
     "name": "stdout",
     "output_type": "stream",
     "text": [
      "((144, 540), (449, 330))\n",
      "((849, 540), (511, 330))\n",
      "((145, 540), (449, 330))\n",
      "((848, 540), (510, 330))\n",
      "((144, 540), (449, 330))\n",
      "((849, 540), (510, 330))\n",
      "((145, 540), (448, 330))\n",
      "((849, 540), (510, 330))\n"
     ]
    },
    {
     "name": "stderr",
     "output_type": "stream",
     "text": [
      " 53%|█████▎    | 364/682 [00:23<00:18, 17.27it/s]"
     ]
    },
    {
     "name": "stdout",
     "output_type": "stream",
     "text": [
      "((146, 540), (448, 330))\n",
      "((849, 540), (508, 330))\n",
      "((146, 540), (448, 330))\n",
      "((847, 540), (511, 330))\n",
      "((149, 540), (448, 330))\n",
      "((849, 540), (508, 330))\n",
      "((149, 540), (448, 330))\n",
      "((850, 540), (509, 330))\n"
     ]
    },
    {
     "name": "stderr",
     "output_type": "stream",
     "text": [
      " 54%|█████▍    | 368/682 [00:24<00:22, 14.07it/s]"
     ]
    },
    {
     "name": "stdout",
     "output_type": "stream",
     "text": [
      "((149, 540), (448, 330))\n",
      "((850, 540), (509, 330))\n",
      "((154, 540), (447, 330))\n",
      "((852, 540), (508, 330))\n",
      "((156, 540), (446, 330))\n",
      "((869, 540), (503, 330))\n"
     ]
    },
    {
     "name": "stderr",
     "output_type": "stream",
     "text": [
      " 55%|█████▍    | 372/682 [00:24<00:21, 14.63it/s]"
     ]
    },
    {
     "name": "stdout",
     "output_type": "stream",
     "text": [
      "((151, 540), (447, 330))\n",
      "((860, 540), (506, 330))\n",
      "((150, 540), (446, 330))\n",
      "((911, 540), (488, 330))\n",
      "((151, 540), (446, 330))\n",
      "((894, 540), (488, 330))\n",
      "((152, 540), (445, 330))\n",
      "((893, 540), (483, 330))\n"
     ]
    },
    {
     "name": "stderr",
     "output_type": "stream",
     "text": [
      "\r",
      " 55%|█████▍    | 374/682 [00:24<00:22, 13.50it/s]"
     ]
    },
    {
     "name": "stdout",
     "output_type": "stream",
     "text": [
      "((152, 540), (445, 330))\n",
      "((853, 540), (505, 330))\n",
      "((152, 540), (444, 330))\n",
      "((851, 540), (504, 330))\n",
      "((152, 540), (444, 330))\n",
      "((847, 540), (506, 330))\n"
     ]
    },
    {
     "name": "stderr",
     "output_type": "stream",
     "text": [
      " 55%|█████▌    | 378/682 [00:25<00:27, 11.20it/s]"
     ]
    },
    {
     "name": "stdout",
     "output_type": "stream",
     "text": [
      "((151, 540), (444, 330))\n",
      "((848, 540), (505, 330))\n",
      "((147, 540), (443, 330))\n",
      "((849, 540), (506, 330))\n",
      "((146, 540), (443, 330))\n",
      "((848, 540), (507, 330))\n"
     ]
    },
    {
     "name": "stderr",
     "output_type": "stream",
     "text": [
      "\r",
      " 56%|█████▌    | 380/682 [00:25<00:26, 11.29it/s]"
     ]
    },
    {
     "name": "stdout",
     "output_type": "stream",
     "text": [
      "((145, 540), (443, 330))\n",
      "((851, 540), (504, 330))\n",
      "((148, 540), (442, 330))\n",
      "((853, 540), (507, 330))\n",
      "((146, 540), (444, 330))\n",
      "((857, 540), (503, 330))\n"
     ]
    },
    {
     "name": "stderr",
     "output_type": "stream",
     "text": [
      " 56%|█████▋    | 384/682 [00:25<00:23, 12.79it/s]"
     ]
    },
    {
     "name": "stdout",
     "output_type": "stream",
     "text": [
      "((145, 540), (445, 330))\n",
      "((856, 540), (502, 330))\n",
      "((144, 540), (446, 330))\n",
      "((856, 540), (501, 330))\n",
      "((143, 540), (446, 330))\n",
      "((854, 540), (501, 330))\n",
      "((143, 540), (445, 330))\n",
      "((853, 540), (502, 330))\n"
     ]
    },
    {
     "name": "stderr",
     "output_type": "stream",
     "text": [
      " 57%|█████▋    | 388/682 [00:25<00:22, 13.28it/s]"
     ]
    },
    {
     "name": "stdout",
     "output_type": "stream",
     "text": [
      "((143, 540), (445, 330))\n",
      "((815, 540), (520, 330))\n",
      "((143, 540), (445, 330))\n",
      "((849, 540), (506, 330))\n",
      "((141, 540), (444, 330))\n",
      "((849, 540), (507, 330))\n",
      "((141, 540), (444, 330))\n"
     ]
    },
    {
     "name": "stderr",
     "output_type": "stream",
     "text": [
      " 57%|█████▋    | 392/682 [00:26<00:19, 15.18it/s]"
     ]
    },
    {
     "name": "stdout",
     "output_type": "stream",
     "text": [
      "((845, 540), (508, 330))\n",
      "((141, 540), (446, 330))\n",
      "((844, 540), (507, 330))\n",
      "((143, 540), (446, 330))\n",
      "((843, 540), (506, 330))\n",
      "((144, 540), (445, 330))\n",
      "((842, 540), (507, 330))\n",
      "((141, 540), (445, 330))\n",
      "((852, 540), (504, 330))\n"
     ]
    },
    {
     "name": "stderr",
     "output_type": "stream",
     "text": [
      " 58%|█████▊    | 396/682 [00:26<00:18, 15.49it/s]"
     ]
    },
    {
     "name": "stdout",
     "output_type": "stream",
     "text": [
      "((140, 540), (445, 330))\n",
      "((846, 540), (506, 330))\n",
      "((141, 540), (446, 330))\n",
      "((841, 540), (507, 330))\n",
      "((140, 540), (445, 330))\n",
      "((846, 540), (505, 330))\n"
     ]
    },
    {
     "name": "stderr",
     "output_type": "stream",
     "text": [
      " 59%|█████▊    | 400/682 [00:26<00:17, 15.76it/s]"
     ]
    },
    {
     "name": "stdout",
     "output_type": "stream",
     "text": [
      "((139, 540), (446, 330))\n",
      "((834, 540), (510, 330))\n",
      "((138, 540), (446, 330))\n",
      "((838, 540), (506, 330))\n",
      "((138, 540), (447, 330))\n",
      "((838, 540), (504, 330))\n",
      "((136, 540), (447, 330))\n",
      "((835, 540), (506, 330))\n"
     ]
    },
    {
     "name": "stderr",
     "output_type": "stream",
     "text": [
      "\r",
      " 59%|█████▉    | 402/682 [00:26<00:17, 15.84it/s]"
     ]
    },
    {
     "name": "stdout",
     "output_type": "stream",
     "text": [
      "((135, 540), (447, 330))\n",
      "((834, 540), (506, 330))\n",
      "((136, 540), (448, 330))\n",
      "((833, 540), (506, 330))\n",
      "((137, 540), (448, 330))\n",
      "((833, 540), (506, 330))\n",
      "((139, 540), (448, 330))\n",
      "((831, 540), (507, 330))\n"
     ]
    },
    {
     "name": "stderr",
     "output_type": "stream",
     "text": [
      " 60%|█████▉    | 406/682 [00:27<00:20, 13.69it/s]"
     ]
    },
    {
     "name": "stdout",
     "output_type": "stream",
     "text": [
      "((136, 540), (449, 330))\n",
      "((837, 540), (505, 330))\n",
      "((137, 540), (449, 330))\n",
      "((839, 540), (505, 330))\n",
      "((138, 540), (449, 330))\n",
      "((839, 540), (505, 330))\n"
     ]
    },
    {
     "name": "stderr",
     "output_type": "stream",
     "text": [
      " 60%|██████    | 410/682 [00:27<00:21, 12.83it/s]"
     ]
    },
    {
     "name": "stdout",
     "output_type": "stream",
     "text": [
      "((138, 540), (449, 330))\n",
      "((839, 540), (504, 330))\n",
      "((139, 540), (449, 330))\n",
      "((834, 540), (508, 330))\n",
      "((140, 540), (449, 330))\n",
      "((835, 540), (507, 330))\n"
     ]
    },
    {
     "name": "stderr",
     "output_type": "stream",
     "text": [
      "\r",
      " 60%|██████    | 412/682 [00:27<00:20, 12.90it/s]"
     ]
    },
    {
     "name": "stdout",
     "output_type": "stream",
     "text": [
      "((139, 540), (449, 330))\n",
      "((836, 540), (508, 330))\n",
      "((139, 540), (447, 330))\n",
      "((837, 540), (510, 330))\n",
      "((137, 540), (447, 330))\n",
      "((838, 540), (512, 330))\n"
     ]
    },
    {
     "name": "stderr",
     "output_type": "stream",
     "text": [
      " 61%|██████    | 416/682 [00:27<00:19, 13.68it/s]"
     ]
    },
    {
     "name": "stdout",
     "output_type": "stream",
     "text": [
      "((139, 540), (447, 330))\n",
      "((841, 540), (512, 330))\n",
      "((139, 540), (448, 330))\n",
      "((843, 540), (511, 330))\n",
      "((143, 540), (448, 330))\n",
      "((843, 540), (511, 330))\n",
      "((141, 540), (450, 330))\n",
      "((847, 540), (510, 330))\n"
     ]
    },
    {
     "name": "stderr",
     "output_type": "stream",
     "text": [
      " 62%|██████▏   | 420/682 [00:28<00:17, 15.16it/s]"
     ]
    },
    {
     "name": "stdout",
     "output_type": "stream",
     "text": [
      "((141, 540), (451, 330))\n",
      "((844, 540), (510, 330))\n",
      "((143, 540), (451, 330))\n",
      "((840, 540), (509, 330))\n",
      "((144, 540), (451, 330))\n",
      "((842, 540), (509, 330))\n",
      "((143, 540), (452, 330))\n",
      "((842, 540), (509, 330))\n"
     ]
    },
    {
     "name": "stderr",
     "output_type": "stream",
     "text": [
      " 62%|██████▏   | 424/682 [00:28<00:17, 14.69it/s]"
     ]
    },
    {
     "name": "stdout",
     "output_type": "stream",
     "text": [
      "((143, 540), (450, 330))\n",
      "((845, 540), (510, 330))\n",
      "((143, 540), (449, 330))\n",
      "((845, 540), (509, 330))\n",
      "((142, 540), (450, 330))\n",
      "((845, 540), (509, 330))\n"
     ]
    },
    {
     "name": "stderr",
     "output_type": "stream",
     "text": [
      "\r",
      " 62%|██████▏   | 426/682 [00:28<00:17, 14.27it/s]"
     ]
    },
    {
     "name": "stdout",
     "output_type": "stream",
     "text": [
      "((142, 540), (450, 330))\n",
      "((843, 540), (509, 330))\n",
      "((144, 540), (450, 330))\n",
      "((844, 540), (509, 330))\n",
      "((144, 540), (451, 330))\n",
      "((841, 540), (510, 330))\n"
     ]
    },
    {
     "name": "stderr",
     "output_type": "stream",
     "text": [
      " 63%|██████▎   | 430/682 [00:28<00:17, 14.07it/s]"
     ]
    },
    {
     "name": "stdout",
     "output_type": "stream",
     "text": [
      "((146, 540), (450, 330))\n",
      "((841, 540), (511, 330))\n",
      "((147, 540), (449, 330))\n",
      "((850, 540), (507, 330))\n",
      "((143, 540), (449, 330))\n",
      "((841, 540), (512, 330))\n"
     ]
    },
    {
     "name": "stderr",
     "output_type": "stream",
     "text": [
      " 64%|██████▎   | 434/682 [00:29<00:16, 14.74it/s]"
     ]
    },
    {
     "name": "stdout",
     "output_type": "stream",
     "text": [
      "((143, 540), (449, 330))\n",
      "((843, 540), (511, 330))\n",
      "((144, 540), (448, 330))\n",
      "((840, 540), (513, 330))\n",
      "((142, 540), (449, 330))\n",
      "((841, 540), (513, 330))\n",
      "((141, 540), (448, 330))\n",
      "((846, 540), (511, 330))\n"
     ]
    },
    {
     "name": "stderr",
     "output_type": "stream",
     "text": [
      " 64%|██████▍   | 438/682 [00:29<00:14, 16.34it/s]"
     ]
    },
    {
     "name": "stdout",
     "output_type": "stream",
     "text": [
      "((141, 540), (448, 330))\n",
      "((838, 540), (513, 330))\n",
      "((141, 540), (449, 330))\n",
      "((843, 540), (512, 330))\n",
      "((140, 540), (448, 330))\n",
      "((843, 540), (513, 330))\n",
      "((141, 540), (447, 330))\n",
      "((874, 540), (400, 330))\n"
     ]
    },
    {
     "name": "stderr",
     "output_type": "stream",
     "text": [
      " 65%|██████▍   | 442/682 [00:29<00:14, 16.02it/s]"
     ]
    },
    {
     "name": "stdout",
     "output_type": "stream",
     "text": [
      "((140, 540), (447, 330))\n",
      "((873, 540), (411, 330))\n",
      "((140, 540), (446, 330))\n",
      "((848, 540), (510, 330))\n",
      "((141, 540), (443, 330))\n",
      "((844, 540), (513, 330))\n",
      "((136, 540), (446, 330))\n",
      "((846, 540), (513, 330))\n"
     ]
    },
    {
     "name": "stderr",
     "output_type": "stream",
     "text": [
      " 65%|██████▌   | 446/682 [00:29<00:15, 15.65it/s]"
     ]
    },
    {
     "name": "stdout",
     "output_type": "stream",
     "text": [
      "((137, 540), (445, 330))\n",
      "((847, 540), (513, 330))\n",
      "((134, 540), (445, 330))\n",
      "((845, 540), (512, 330))\n",
      "((136, 540), (446, 330))\n",
      "((845, 540), (511, 330))\n",
      "((138, 540), (447, 330))\n",
      "((839, 540), (510, 330))\n"
     ]
    },
    {
     "name": "stderr",
     "output_type": "stream",
     "text": [
      " 66%|██████▌   | 450/682 [00:30<00:14, 16.56it/s]"
     ]
    },
    {
     "name": "stdout",
     "output_type": "stream",
     "text": [
      "((137, 540), (448, 330))\n",
      "((843, 540), (509, 330))\n",
      "((136, 540), (445, 330))\n",
      "((846, 540), (510, 330))\n",
      "((136, 540), (444, 330))\n",
      "((847, 540), (511, 330))\n",
      "((135, 540), (443, 330))\n",
      "((849, 540), (512, 330))\n"
     ]
    },
    {
     "name": "stderr",
     "output_type": "stream",
     "text": [
      " 67%|██████▋   | 454/682 [00:30<00:13, 16.76it/s]"
     ]
    },
    {
     "name": "stdout",
     "output_type": "stream",
     "text": [
      "((136, 540), (442, 330))\n",
      "((848, 540), (513, 330))\n",
      "((137, 540), (443, 330))\n",
      "((847, 540), (514, 330))\n",
      "((137, 540), (442, 330))\n",
      "((849, 540), (514, 330))\n",
      "((132, 540), (442, 330))\n",
      "((848, 540), (515, 330))\n"
     ]
    },
    {
     "name": "stderr",
     "output_type": "stream",
     "text": [
      " 67%|██████▋   | 458/682 [00:30<00:13, 16.95it/s]"
     ]
    },
    {
     "name": "stdout",
     "output_type": "stream",
     "text": [
      "((131, 540), (442, 330))\n",
      "((851, 540), (516, 330))\n",
      "((129, 540), (443, 330))\n",
      "((848, 540), (516, 330))\n",
      "((130, 540), (445, 330))\n",
      "((845, 540), (515, 330))\n",
      "((131, 540), (448, 330))\n",
      "((841, 540), (514, 330))\n"
     ]
    },
    {
     "name": "stderr",
     "output_type": "stream",
     "text": [
      " 68%|██████▊   | 462/682 [00:30<00:12, 17.06it/s]"
     ]
    },
    {
     "name": "stdout",
     "output_type": "stream",
     "text": [
      "((133, 540), (448, 330))\n",
      "((844, 540), (512, 330))\n",
      "((132, 540), (447, 330))\n",
      "((845, 540), (513, 330))\n",
      "((132, 540), (446, 330))\n",
      "((847, 540), (513, 330))\n",
      "((133, 540), (446, 330))\n",
      "((846, 540), (515, 330))\n"
     ]
    },
    {
     "name": "stderr",
     "output_type": "stream",
     "text": [
      " 68%|██████▊   | 466/682 [00:31<00:12, 16.69it/s]"
     ]
    },
    {
     "name": "stdout",
     "output_type": "stream",
     "text": [
      "((135, 540), (447, 330))\n",
      "((845, 540), (513, 330))\n",
      "((139, 540), (447, 330))\n",
      "((846, 540), (512, 330))\n",
      "((140, 540), (447, 330))\n",
      "((846, 540), (512, 330))\n",
      "((137, 540), (448, 330))\n",
      "((849, 540), (512, 330))\n"
     ]
    },
    {
     "name": "stderr",
     "output_type": "stream",
     "text": [
      " 69%|██████▉   | 470/682 [00:31<00:12, 16.87it/s]"
     ]
    },
    {
     "name": "stdout",
     "output_type": "stream",
     "text": [
      "((136, 540), (448, 330))\n",
      "((853, 540), (511, 330))\n",
      "((135, 540), (448, 330))\n",
      "((853, 540), (511, 330))\n",
      "((136, 540), (449, 330))\n",
      "((849, 540), (513, 330))\n",
      "((137, 540), (450, 330))\n",
      "((852, 540), (509, 330))\n"
     ]
    },
    {
     "name": "stderr",
     "output_type": "stream",
     "text": [
      " 70%|██████▉   | 474/682 [00:31<00:11, 17.56it/s]"
     ]
    },
    {
     "name": "stdout",
     "output_type": "stream",
     "text": [
      "((138, 540), (451, 330))\n",
      "((856, 540), (505, 330))\n",
      "((139, 540), (452, 330))\n",
      "((847, 540), (508, 330))\n",
      "((139, 540), (452, 330))\n",
      "((846, 540), (507, 330))\n",
      "((139, 540), (452, 330))\n",
      "((845, 540), (508, 330))\n"
     ]
    },
    {
     "name": "stderr",
     "output_type": "stream",
     "text": [
      "\r",
      " 70%|██████▉   | 476/682 [00:31<00:12, 17.03it/s]"
     ]
    },
    {
     "name": "stdout",
     "output_type": "stream",
     "text": [
      "((139, 540), (452, 330))\n",
      "((844, 540), (509, 330))\n",
      "((143, 540), (451, 330))\n",
      "((843, 540), (509, 330))\n",
      "((145, 540), (452, 330))\n",
      "((844, 540), (508, 330))\n"
     ]
    },
    {
     "name": "stderr",
     "output_type": "stream",
     "text": [
      "\r",
      " 70%|███████   | 478/682 [00:31<00:13, 15.48it/s]"
     ]
    },
    {
     "name": "stdout",
     "output_type": "stream",
     "text": [
      "((144, 540), (453, 330))\n",
      "((841, 540), (508, 330))\n",
      "((145, 540), (453, 330))\n",
      "((851, 540), (505, 330))\n"
     ]
    },
    {
     "name": "stderr",
     "output_type": "stream",
     "text": [
      "\r",
      " 70%|███████   | 480/682 [00:32<00:17, 11.39it/s]"
     ]
    },
    {
     "name": "stdout",
     "output_type": "stream",
     "text": [
      "((146, 540), (453, 330))\n",
      "((848, 540), (507, 330))\n",
      "((147, 540), (452, 330))\n",
      "((848, 540), (508, 330))\n"
     ]
    },
    {
     "name": "stderr",
     "output_type": "stream",
     "text": [
      " 71%|███████   | 484/682 [00:32<00:17, 11.10it/s]"
     ]
    },
    {
     "name": "stdout",
     "output_type": "stream",
     "text": [
      "((147, 540), (453, 330))\n",
      "((845, 540), (508, 330))\n",
      "((148, 540), (453, 330))\n",
      "((846, 540), (506, 330))\n",
      "((149, 540), (453, 330))\n",
      "((842, 540), (508, 330))\n"
     ]
    },
    {
     "name": "stderr",
     "output_type": "stream",
     "text": [
      "\r",
      " 71%|███████▏  | 486/682 [00:32<00:19,  9.83it/s]"
     ]
    },
    {
     "name": "stdout",
     "output_type": "stream",
     "text": [
      "((147, 540), (451, 330))\n",
      "((843, 540), (508, 330))\n",
      "((144, 540), (448, 330))\n",
      "((847, 540), (511, 330))\n"
     ]
    },
    {
     "name": "stderr",
     "output_type": "stream",
     "text": [
      "\r",
      " 72%|███████▏  | 488/682 [00:32<00:21,  9.17it/s]"
     ]
    },
    {
     "name": "stdout",
     "output_type": "stream",
     "text": [
      "((143, 540), (448, 330))\n",
      "((846, 540), (512, 330))\n",
      "((142, 540), (447, 330))\n",
      "((846, 540), (514, 330))\n"
     ]
    },
    {
     "name": "stderr",
     "output_type": "stream",
     "text": [
      "\r",
      " 72%|███████▏  | 489/682 [00:33<00:22,  8.71it/s]"
     ]
    },
    {
     "name": "stdout",
     "output_type": "stream",
     "text": [
      "((144, 540), (448, 330))\n",
      "((844, 540), (513, 330))\n",
      "((146, 540), (447, 330))\n",
      "((842, 540), (512, 330))\n"
     ]
    },
    {
     "name": "stderr",
     "output_type": "stream",
     "text": [
      " 72%|███████▏  | 492/682 [00:33<00:20,  9.26it/s]"
     ]
    },
    {
     "name": "stdout",
     "output_type": "stream",
     "text": [
      "((143, 540), (449, 330))\n",
      "((844, 540), (512, 330))\n",
      "((143, 540), (449, 330))\n",
      "((843, 540), (512, 330))\n"
     ]
    },
    {
     "name": "stderr",
     "output_type": "stream",
     "text": [
      " 72%|███████▏  | 494/682 [00:33<00:21,  8.73it/s]"
     ]
    },
    {
     "name": "stdout",
     "output_type": "stream",
     "text": [
      "((142, 540), (447, 330))\n",
      "((843, 540), (515, 330))\n",
      "((143, 540), (448, 330))\n",
      "((843, 540), (514, 330))\n"
     ]
    },
    {
     "name": "stderr",
     "output_type": "stream",
     "text": [
      "\r",
      " 73%|███████▎  | 496/682 [00:33<00:19,  9.51it/s]"
     ]
    },
    {
     "name": "stdout",
     "output_type": "stream",
     "text": [
      "((143, 540), (448, 330))\n",
      "((843, 540), (517, 330))\n",
      "((143, 540), (449, 330))\n",
      "((846, 540), (514, 330))\n",
      "((145, 540), (449, 330))\n",
      "((848, 540), (513, 330))\n"
     ]
    },
    {
     "name": "stderr",
     "output_type": "stream",
     "text": [
      " 73%|███████▎  | 500/682 [00:34<00:16, 10.82it/s]"
     ]
    },
    {
     "name": "stdout",
     "output_type": "stream",
     "text": [
      "((145, 540), (448, 330))\n",
      "((849, 540), (515, 330))\n",
      "((146, 540), (449, 330))\n",
      "((852, 540), (514, 330))\n",
      "((147, 540), (449, 330))\n",
      "((850, 540), (516, 330))\n"
     ]
    },
    {
     "name": "stderr",
     "output_type": "stream",
     "text": [
      "\r",
      " 74%|███████▎  | 502/682 [00:34<00:15, 11.82it/s]"
     ]
    },
    {
     "name": "stdout",
     "output_type": "stream",
     "text": [
      "((148, 540), (448, 330))\n",
      "((852, 540), (514, 330))\n",
      "((149, 540), (448, 330))\n",
      "((852, 540), (515, 330))\n",
      "((145, 540), (449, 330))\n",
      "((856, 540), (514, 330))\n",
      "((144, 540), (449, 330))\n",
      "((860, 540), (512, 330))\n"
     ]
    },
    {
     "name": "stderr",
     "output_type": "stream",
     "text": [
      " 74%|███████▍  | 508/682 [00:34<00:12, 13.92it/s]"
     ]
    },
    {
     "name": "stdout",
     "output_type": "stream",
     "text": [
      "((144, 540), (448, 330))\n",
      "((854, 540), (513, 330))\n",
      "((143, 540), (449, 330))\n",
      "((855, 540), (511, 330))\n",
      "((142, 540), (449, 330))\n",
      "((853, 540), (513, 330))\n",
      "((143, 540), (448, 330))\n",
      "((855, 540), (509, 330))\n"
     ]
    },
    {
     "name": "stderr",
     "output_type": "stream",
     "text": [
      " 75%|███████▌  | 512/682 [00:34<00:11, 15.14it/s]"
     ]
    },
    {
     "name": "stdout",
     "output_type": "stream",
     "text": [
      "((143, 540), (449, 330))\n",
      "((853, 540), (507, 330))\n",
      "((142, 540), (450, 330))\n",
      "((850, 540), (506, 330))\n",
      "((144, 540), (449, 330))\n",
      "((848, 540), (504, 330))\n",
      "((144, 540), (449, 330))\n",
      "((845, 540), (504, 330))\n"
     ]
    },
    {
     "name": "stderr",
     "output_type": "stream",
     "text": [
      " 76%|███████▌  | 516/682 [00:35<00:10, 16.18it/s]"
     ]
    },
    {
     "name": "stdout",
     "output_type": "stream",
     "text": [
      "((145, 540), (448, 330))\n",
      "((844, 540), (505, 330))\n",
      "((143, 540), (449, 330))\n",
      "((844, 540), (508, 330))\n",
      "((140, 540), (449, 330))\n",
      "((846, 540), (507, 330))\n",
      "((140, 540), (448, 330))\n",
      "((846, 540), (508, 330))\n"
     ]
    },
    {
     "name": "stderr",
     "output_type": "stream",
     "text": [
      "\r",
      " 76%|███████▌  | 518/682 [00:35<00:12, 13.23it/s]"
     ]
    },
    {
     "name": "stdout",
     "output_type": "stream",
     "text": [
      "((139, 540), (448, 330))\n",
      "((848, 540), (509, 330))\n",
      "((141, 540), (448, 330))\n",
      "((847, 540), (509, 330))\n"
     ]
    },
    {
     "name": "stderr",
     "output_type": "stream",
     "text": [
      "\r",
      " 76%|███████▌  | 520/682 [00:35<00:12, 13.16it/s]"
     ]
    },
    {
     "name": "stdout",
     "output_type": "stream",
     "text": [
      "((141, 540), (448, 330))\n",
      "((847, 540), (508, 330))\n",
      "((142, 540), (448, 330))\n",
      "((852, 540), (505, 330))\n",
      "((139, 540), (449, 330))\n",
      "((845, 540), (510, 330))\n"
     ]
    },
    {
     "name": "stderr",
     "output_type": "stream",
     "text": [
      " 77%|███████▋  | 524/682 [00:35<00:11, 13.80it/s]"
     ]
    },
    {
     "name": "stdout",
     "output_type": "stream",
     "text": [
      "((139, 540), (450, 330))\n",
      "((847, 540), (510, 330))\n",
      "((141, 540), (449, 330))\n",
      "((848, 540), (510, 330))\n",
      "((142, 540), (450, 330))\n",
      "((847, 540), (509, 330))\n",
      "((143, 540), (447, 330))\n",
      "((847, 540), (510, 330))\n"
     ]
    },
    {
     "name": "stderr",
     "output_type": "stream",
     "text": [
      " 77%|███████▋  | 528/682 [00:35<00:09, 15.43it/s]"
     ]
    },
    {
     "name": "stdout",
     "output_type": "stream",
     "text": [
      "((143, 540), (451, 330))\n",
      "((847, 540), (510, 330))\n",
      "((148, 540), (451, 330))\n",
      "((847, 540), (510, 330))\n",
      "((143, 540), (453, 330))\n",
      "((850, 540), (511, 330))\n",
      "((144, 540), (452, 330))\n",
      "((854, 540), (511, 330))\n"
     ]
    },
    {
     "name": "stderr",
     "output_type": "stream",
     "text": [
      " 78%|███████▊  | 532/682 [00:36<00:09, 15.27it/s]"
     ]
    },
    {
     "name": "stdout",
     "output_type": "stream",
     "text": [
      "((145, 540), (452, 330))\n",
      "((845, 540), (514, 330))\n",
      "((145, 540), (452, 330))\n",
      "((846, 540), (514, 330))\n",
      "((146, 540), (452, 330))\n",
      "((854, 540), (511, 330))\n"
     ]
    },
    {
     "name": "stderr",
     "output_type": "stream",
     "text": [
      " 79%|███████▊  | 536/682 [00:36<00:09, 16.14it/s]"
     ]
    },
    {
     "name": "stdout",
     "output_type": "stream",
     "text": [
      "((146, 540), (452, 330))\n",
      "((846, 540), (515, 330))\n",
      "((146, 540), (453, 330))\n",
      "((851, 540), (512, 330))\n",
      "((146, 540), (452, 330))\n",
      "((850, 540), (513, 330))\n",
      "((147, 540), (453, 330))\n",
      "((849, 540), (512, 330))\n"
     ]
    },
    {
     "name": "stderr",
     "output_type": "stream",
     "text": [
      "\r",
      " 79%|███████▉  | 538/682 [00:36<00:09, 14.76it/s]"
     ]
    },
    {
     "name": "stdout",
     "output_type": "stream",
     "text": [
      "((147, 540), (454, 330))\n",
      "((848, 540), (511, 330))\n",
      "((150, 540), (453, 330))\n",
      "((846, 540), (512, 330))\n",
      "((152, 540), (453, 330))\n",
      "((848, 540), (512, 330))\n"
     ]
    },
    {
     "name": "stderr",
     "output_type": "stream",
     "text": [
      " 79%|███████▉  | 542/682 [00:36<00:10, 13.11it/s]"
     ]
    },
    {
     "name": "stdout",
     "output_type": "stream",
     "text": [
      "((150, 540), (453, 330))\n",
      "((849, 540), (514, 330))\n",
      "((152, 540), (453, 330))\n",
      "((851, 540), (512, 330))\n",
      "((149, 540), (454, 330))\n",
      "((852, 540), (515, 330))\n"
     ]
    },
    {
     "name": "stderr",
     "output_type": "stream",
     "text": [
      "\r",
      " 80%|███████▉  | 544/682 [00:37<00:10, 12.60it/s]"
     ]
    },
    {
     "name": "stdout",
     "output_type": "stream",
     "text": [
      "((149, 540), (454, 330))\n",
      "((850, 540), (517, 330))\n",
      "((150, 540), (454, 330))\n",
      "((849, 540), (517, 330))\n",
      "((150, 540), (454, 330))\n",
      "((851, 540), (515, 330))\n"
     ]
    },
    {
     "name": "stderr",
     "output_type": "stream",
     "text": [
      " 80%|████████  | 548/682 [00:37<00:10, 12.28it/s]"
     ]
    },
    {
     "name": "stdout",
     "output_type": "stream",
     "text": [
      "((152, 540), (455, 330))\n",
      "((852, 540), (514, 330))\n",
      "((151, 540), (454, 330))\n",
      "((855, 540), (515, 330))\n",
      "((151, 540), (453, 330))\n",
      "((855, 540), (518, 330))\n"
     ]
    },
    {
     "name": "stderr",
     "output_type": "stream",
     "text": [
      "\r",
      " 81%|████████  | 550/682 [00:37<00:11, 11.39it/s]"
     ]
    },
    {
     "name": "stdout",
     "output_type": "stream",
     "text": [
      "((153, 540), (452, 330))\n",
      "((856, 540), (517, 330))\n",
      "((153, 540), (452, 330))\n",
      "((855, 540), (518, 330))\n"
     ]
    },
    {
     "name": "stderr",
     "output_type": "stream",
     "text": [
      "\r",
      " 81%|████████  | 552/682 [00:37<00:12, 10.33it/s]"
     ]
    },
    {
     "name": "stdout",
     "output_type": "stream",
     "text": [
      "((155, 540), (451, 330))\n",
      "((855, 540), (519, 330))\n",
      "((153, 540), (452, 330))\n",
      "((856, 540), (519, 330))\n"
     ]
    },
    {
     "name": "stderr",
     "output_type": "stream",
     "text": [
      "\r",
      " 81%|████████  | 554/682 [00:38<00:12, 10.00it/s]"
     ]
    },
    {
     "name": "stdout",
     "output_type": "stream",
     "text": [
      "((153, 540), (453, 330))\n",
      "((859, 540), (517, 330))\n",
      "((155, 540), (454, 330))\n",
      "((863, 540), (512, 330))\n"
     ]
    },
    {
     "name": "stderr",
     "output_type": "stream",
     "text": [
      "\r",
      " 82%|████████▏ | 556/682 [00:38<00:13,  9.67it/s]"
     ]
    },
    {
     "name": "stdout",
     "output_type": "stream",
     "text": [
      "((156, 540), (455, 330))\n",
      "((858, 540), (515, 330))\n",
      "((156, 540), (453, 330))\n",
      "((860, 540), (515, 330))\n"
     ]
    },
    {
     "name": "stderr",
     "output_type": "stream",
     "text": [
      " 82%|████████▏ | 558/682 [00:38<00:16,  7.38it/s]"
     ]
    },
    {
     "name": "stdout",
     "output_type": "stream",
     "text": [
      "((154, 540), (453, 330))\n",
      "((859, 540), (516, 330))\n",
      "((154, 540), (452, 330))\n",
      "((861, 540), (518, 330))\n"
     ]
    },
    {
     "name": "stderr",
     "output_type": "stream",
     "text": [
      " 82%|████████▏ | 560/682 [00:38<00:16,  7.43it/s]"
     ]
    },
    {
     "name": "stdout",
     "output_type": "stream",
     "text": [
      "((153, 540), (452, 330))\n",
      "((860, 540), (520, 330))\n",
      "((154, 540), (452, 330))\n",
      "((862, 540), (518, 330))\n"
     ]
    },
    {
     "name": "stderr",
     "output_type": "stream",
     "text": [
      " 82%|████████▏ | 562/682 [00:39<00:16,  7.14it/s]"
     ]
    },
    {
     "name": "stdout",
     "output_type": "stream",
     "text": [
      "((154, 540), (454, 330))\n",
      "((862, 540), (518, 330))\n",
      "((156, 540), (454, 330))\n",
      "((862, 540), (518, 330))\n"
     ]
    },
    {
     "name": "stderr",
     "output_type": "stream",
     "text": [
      " 83%|████████▎ | 564/682 [00:39<00:16,  7.37it/s]"
     ]
    },
    {
     "name": "stdout",
     "output_type": "stream",
     "text": [
      "((158, 540), (453, 330))\n",
      "((864, 540), (519, 330))\n",
      "((161, 540), (452, 330))\n",
      "((864, 540), (522, 330))\n"
     ]
    },
    {
     "name": "stderr",
     "output_type": "stream",
     "text": [
      " 83%|████████▎ | 566/682 [00:39<00:15,  7.46it/s]"
     ]
    },
    {
     "name": "stdout",
     "output_type": "stream",
     "text": [
      "((159, 540), (453, 330))\n",
      "((867, 540), (519, 330))\n",
      "((159, 540), (454, 330))\n",
      "((868, 540), (520, 330))\n"
     ]
    },
    {
     "name": "stderr",
     "output_type": "stream",
     "text": [
      " 83%|████████▎ | 568/682 [00:40<00:15,  7.33it/s]"
     ]
    },
    {
     "name": "stdout",
     "output_type": "stream",
     "text": [
      "((161, 540), (453, 330))\n",
      "((868, 540), (520, 330))\n",
      "((162, 540), (453, 330))\n",
      "((863, 540), (522, 330))\n"
     ]
    },
    {
     "name": "stderr",
     "output_type": "stream",
     "text": [
      " 84%|████████▎ | 570/682 [00:40<00:15,  7.32it/s]"
     ]
    },
    {
     "name": "stdout",
     "output_type": "stream",
     "text": [
      "((164, 540), (453, 330))\n",
      "((871, 540), (519, 330))\n",
      "((166, 540), (453, 330))\n",
      "((870, 540), (520, 330))\n"
     ]
    },
    {
     "name": "stderr",
     "output_type": "stream",
     "text": [
      " 84%|████████▍ | 572/682 [00:40<00:13,  8.04it/s]"
     ]
    },
    {
     "name": "stdout",
     "output_type": "stream",
     "text": [
      "((166, 540), (454, 330))\n",
      "((872, 540), (519, 330))\n",
      "((169, 540), (452, 330))\n",
      "((875, 540), (518, 330))\n"
     ]
    },
    {
     "name": "stderr",
     "output_type": "stream",
     "text": [
      "\r",
      " 84%|████████▍ | 573/682 [00:40<00:14,  7.62it/s]"
     ]
    },
    {
     "name": "stdout",
     "output_type": "stream",
     "text": [
      "((170, 540), (453, 330))\n",
      "((875, 540), (518, 330))\n"
     ]
    },
    {
     "name": "stderr",
     "output_type": "stream",
     "text": [
      " 84%|████████▍ | 575/682 [00:41<00:15,  6.71it/s]"
     ]
    },
    {
     "name": "stdout",
     "output_type": "stream",
     "text": [
      "((171, 540), (454, 330))\n",
      "((875, 540), (518, 330))\n",
      "((173, 540), (454, 330))\n",
      "((874, 540), (517, 330))\n"
     ]
    },
    {
     "name": "stderr",
     "output_type": "stream",
     "text": [
      " 85%|████████▍ | 577/682 [00:41<00:14,  7.04it/s]"
     ]
    },
    {
     "name": "stdout",
     "output_type": "stream",
     "text": [
      "((177, 540), (453, 330))\n",
      "((876, 540), (520, 330))\n",
      "((172, 540), (453, 330))\n",
      "((877, 540), (522, 330))\n"
     ]
    },
    {
     "name": "stderr",
     "output_type": "stream",
     "text": [
      " 85%|████████▍ | 579/682 [00:41<00:13,  7.74it/s]"
     ]
    },
    {
     "name": "stdout",
     "output_type": "stream",
     "text": [
      "((174, 540), (451, 330))\n",
      "((877, 540), (522, 330))\n",
      "((173, 540), (451, 330))\n",
      "((876, 540), (525, 330))\n"
     ]
    },
    {
     "name": "stderr",
     "output_type": "stream",
     "text": [
      " 85%|████████▌ | 581/682 [00:41<00:15,  6.67it/s]"
     ]
    },
    {
     "name": "stdout",
     "output_type": "stream",
     "text": [
      "((172, 540), (451, 330))\n",
      "((882, 540), (523, 330))\n",
      "((174, 540), (450, 330))\n",
      "((880, 540), (522, 330))\n"
     ]
    },
    {
     "name": "stderr",
     "output_type": "stream",
     "text": [
      " 85%|████████▌ | 583/682 [00:42<00:14,  6.73it/s]"
     ]
    },
    {
     "name": "stdout",
     "output_type": "stream",
     "text": [
      "((175, 540), (451, 330))\n",
      "((883, 540), (521, 330))\n",
      "((173, 540), (452, 330))\n",
      "((884, 540), (518, 330))\n"
     ]
    },
    {
     "name": "stderr",
     "output_type": "stream",
     "text": [
      " 86%|████████▌ | 586/682 [00:42<00:11,  8.18it/s]"
     ]
    },
    {
     "name": "stdout",
     "output_type": "stream",
     "text": [
      "((176, 540), (453, 330))\n",
      "((881, 540), (520, 330))\n",
      "((177, 540), (450, 330))\n",
      "((882, 540), (519, 330))\n",
      "((176, 540), (452, 330))\n",
      "((883, 540), (516, 330))\n"
     ]
    },
    {
     "name": "stderr",
     "output_type": "stream",
     "text": [
      " 86%|████████▌ | 588/682 [00:42<00:10,  8.95it/s]"
     ]
    },
    {
     "name": "stdout",
     "output_type": "stream",
     "text": [
      "((175, 540), (454, 330))\n",
      "((881, 540), (519, 330))\n",
      "((178, 540), (451, 330))\n",
      "((882, 540), (519, 330))\n",
      "((179, 540), (451, 330))\n",
      "((881, 540), (518, 330))\n"
     ]
    },
    {
     "name": "stderr",
     "output_type": "stream",
     "text": [
      " 87%|████████▋ | 592/682 [00:42<00:08, 11.22it/s]"
     ]
    },
    {
     "name": "stdout",
     "output_type": "stream",
     "text": [
      "((175, 540), (453, 330))\n",
      "((883, 540), (516, 330))\n",
      "((176, 540), (453, 330))\n",
      "((878, 540), (516, 330))\n",
      "((176, 540), (457, 330))\n",
      "((883, 540), (511, 330))\n"
     ]
    },
    {
     "name": "stderr",
     "output_type": "stream",
     "text": [
      " 87%|████████▋ | 596/682 [00:43<00:06, 13.03it/s]"
     ]
    },
    {
     "name": "stdout",
     "output_type": "stream",
     "text": [
      "((177, 540), (460, 330))\n",
      "((873, 540), (513, 330))\n",
      "((178, 540), (461, 330))\n",
      "((878, 540), (507, 330))\n",
      "((180, 540), (462, 330))\n",
      "((871, 540), (509, 330))\n",
      "((181, 540), (462, 330))\n",
      "((869, 540), (510, 330))\n"
     ]
    },
    {
     "name": "stderr",
     "output_type": "stream",
     "text": [
      "\r",
      " 88%|████████▊ | 598/682 [00:43<00:06, 13.96it/s]"
     ]
    },
    {
     "name": "stdout",
     "output_type": "stream",
     "text": [
      "((180, 540), (461, 330))\n",
      "((872, 540), (511, 330))\n",
      "((181, 540), (461, 330))\n",
      "((872, 540), (512, 330))\n",
      "((183, 540), (460, 330))\n",
      "((873, 540), (513, 330))\n",
      "((183, 540), (459, 330))"
     ]
    },
    {
     "name": "stderr",
     "output_type": "stream",
     "text": [
      " 88%|████████▊ | 602/682 [00:43<00:06, 13.24it/s]"
     ]
    },
    {
     "name": "stdout",
     "output_type": "stream",
     "text": [
      "\n",
      "((875, 540), (514, 330))\n",
      "((185, 540), (458, 330))\n",
      "((878, 540), (515, 330))\n",
      "((181, 540), (458, 330))\n",
      "((880, 540), (518, 330))\n"
     ]
    },
    {
     "name": "stderr",
     "output_type": "stream",
     "text": [
      "\r",
      " 89%|████████▊ | 604/682 [00:43<00:05, 13.14it/s]"
     ]
    },
    {
     "name": "stdout",
     "output_type": "stream",
     "text": [
      "((179, 540), (456, 330))\n",
      "((887, 540), (518, 330))\n",
      "((178, 540), (457, 330))\n",
      "((885, 540), (518, 330))\n",
      "((180, 540), (458, 330))\n",
      "((883, 540), (518, 330))\n",
      "((181, 540), (459, 330))"
     ]
    },
    {
     "name": "stderr",
     "output_type": "stream",
     "text": [
      " 89%|████████▉ | 610/682 [00:44<00:04, 14.76it/s]"
     ]
    },
    {
     "name": "stdout",
     "output_type": "stream",
     "text": [
      "\n",
      "((883, 540), (515, 330))\n",
      "((182, 540), (461, 330))\n",
      "((884, 540), (514, 330))\n",
      "((185, 540), (461, 330))\n",
      "((881, 540), (514, 330))\n",
      "((187, 540), (460, 330))\n",
      "((883, 540), (514, 330))\n",
      "((184, 540), (459, 330))\n",
      "((883, 540), (516, 330))\n"
     ]
    },
    {
     "name": "stderr",
     "output_type": "stream",
     "text": [
      "\r",
      " 90%|████████▉ | 612/682 [00:44<00:05, 13.99it/s]"
     ]
    },
    {
     "name": "stdout",
     "output_type": "stream",
     "text": [
      "((186, 540), (459, 330))\n",
      "((882, 540), (515, 330))\n",
      "((188, 540), (456, 330))\n",
      "((883, 540), (515, 330))\n",
      "((190, 540), (459, 330))\n",
      "((883, 540), (515, 330))\n"
     ]
    },
    {
     "name": "stderr",
     "output_type": "stream",
     "text": [
      " 90%|█████████ | 616/682 [00:44<00:04, 13.59it/s]"
     ]
    },
    {
     "name": "stdout",
     "output_type": "stream",
     "text": [
      "((188, 540), (459, 330))\n",
      "((882, 540), (516, 330))\n",
      "((189, 540), (460, 330))\n",
      "((886, 540), (515, 330))\n",
      "((189, 540), (459, 330))\n",
      "((889, 540), (514, 330))\n"
     ]
    },
    {
     "name": "stderr",
     "output_type": "stream",
     "text": [
      "\r",
      " 91%|█████████ | 618/682 [00:44<00:05, 12.49it/s]"
     ]
    },
    {
     "name": "stdout",
     "output_type": "stream",
     "text": [
      "((191, 540), (458, 330))\n",
      "((885, 540), (516, 330))\n",
      "((192, 540), (456, 330))\n",
      "((885, 540), (515, 330))\n",
      "((194, 540), (456, 330))\n",
      "((886, 540), (513, 330))\n"
     ]
    },
    {
     "name": "stderr",
     "output_type": "stream",
     "text": [
      " 91%|█████████ | 622/682 [00:45<00:04, 12.37it/s]"
     ]
    },
    {
     "name": "stdout",
     "output_type": "stream",
     "text": [
      "((195, 540), (455, 330))\n",
      "((887, 540), (515, 330))\n",
      "((196, 540), (453, 330))\n",
      "((887, 540), (516, 330))\n",
      "((194, 540), (456, 330))\n",
      "((888, 540), (515, 330))\n"
     ]
    },
    {
     "name": "stderr",
     "output_type": "stream",
     "text": [
      "\r",
      " 91%|█████████▏| 624/682 [00:45<00:04, 12.06it/s]"
     ]
    },
    {
     "name": "stdout",
     "output_type": "stream",
     "text": [
      "((192, 540), (454, 330))\n",
      "((891, 540), (519, 330))\n",
      "((192, 540), (453, 330))\n",
      "((892, 540), (519, 330))\n",
      "((194, 540), (452, 330))\n",
      "((894, 540), (519, 330))\n"
     ]
    },
    {
     "name": "stderr",
     "output_type": "stream",
     "text": [
      " 92%|█████████▏| 628/682 [00:45<00:04, 12.63it/s]"
     ]
    },
    {
     "name": "stdout",
     "output_type": "stream",
     "text": [
      "((194, 540), (452, 330))\n",
      "((893, 540), (520, 330))\n",
      "((192, 540), (453, 330))\n",
      "((895, 540), (516, 330))\n",
      "((193, 540), (454, 330))\n",
      "((900, 540), (513, 330))\n"
     ]
    },
    {
     "name": "stderr",
     "output_type": "stream",
     "text": [
      " 93%|█████████▎| 632/682 [00:45<00:03, 14.50it/s]"
     ]
    },
    {
     "name": "stdout",
     "output_type": "stream",
     "text": [
      "((190, 540), (457, 330))\n",
      "((896, 540), (513, 330))\n",
      "((173, 540), (466, 330))\n",
      "((896, 540), (512, 330))\n",
      "((152, 540), (487, 330))\n",
      "((894, 540), (509, 330))\n",
      "((196, 540), (454, 330))\n",
      "((892, 540), (510, 330))\n"
     ]
    },
    {
     "name": "stderr",
     "output_type": "stream",
     "text": [
      " 93%|█████████▎| 636/682 [00:46<00:02, 15.36it/s]"
     ]
    },
    {
     "name": "stdout",
     "output_type": "stream",
     "text": [
      "((195, 540), (453, 330))\n",
      "((892, 540), (510, 330))\n",
      "((193, 540), (453, 330))\n",
      "((891, 540), (511, 330))\n",
      "((191, 540), (452, 330))\n",
      "((894, 540), (510, 330))\n",
      "((190, 540), (452, 330))\n",
      "((890, 540), (510, 330))\n"
     ]
    },
    {
     "name": "stderr",
     "output_type": "stream",
     "text": [
      "\r",
      " 94%|█████████▎| 638/682 [00:46<00:03, 14.41it/s]"
     ]
    },
    {
     "name": "stdout",
     "output_type": "stream",
     "text": [
      "((189, 540), (451, 330))\n",
      "((890, 540), (512, 330))\n",
      "((190, 540), (450, 330))\n",
      "((891, 540), (512, 330))\n",
      "((188, 540), (450, 330))\n",
      "((886, 540), (512, 330))\n"
     ]
    },
    {
     "name": "stderr",
     "output_type": "stream",
     "text": [
      " 94%|█████████▍| 642/682 [00:46<00:02, 13.87it/s]"
     ]
    },
    {
     "name": "stdout",
     "output_type": "stream",
     "text": [
      "((186, 540), (451, 330))\n",
      "((885, 540), (511, 330))\n",
      "((184, 540), (451, 330))\n",
      "((886, 540), (508, 330))\n",
      "((181, 540), (451, 330))\n",
      "((883, 540), (509, 330))\n",
      "((183, 540), (450, 330))"
     ]
    },
    {
     "name": "stderr",
     "output_type": "stream",
     "text": [
      " 95%|█████████▍| 646/682 [00:46<00:02, 15.49it/s]"
     ]
    },
    {
     "name": "stdout",
     "output_type": "stream",
     "text": [
      "\n",
      "((892, 540), (506, 330))\n",
      "((180, 540), (449, 330))\n",
      "((887, 540), (510, 330))\n",
      "((179, 540), (449, 330))\n",
      "((880, 540), (513, 330))\n",
      "((181, 540), (450, 330))\n",
      "((877, 540), (511, 330))\n",
      "((182, 540), (451, 330))\n",
      "((877, 540), (508, 330))\n"
     ]
    },
    {
     "name": "stderr",
     "output_type": "stream",
     "text": [
      " 95%|█████████▌| 650/682 [00:47<00:02, 14.54it/s]"
     ]
    },
    {
     "name": "stdout",
     "output_type": "stream",
     "text": [
      "((183, 540), (451, 330))\n",
      "((874, 540), (507, 330))\n",
      "((181, 540), (451, 330))\n",
      "((872, 540), (509, 330))\n",
      "((180, 540), (449, 330))\n",
      "((874, 540), (510, 330))\n"
     ]
    },
    {
     "name": "stderr",
     "output_type": "stream",
     "text": [
      "\r",
      " 96%|█████████▌| 652/682 [00:47<00:02, 12.63it/s]"
     ]
    },
    {
     "name": "stdout",
     "output_type": "stream",
     "text": [
      "((182, 540), (447, 330))\n",
      "((874, 540), (511, 330))\n",
      "((177, 540), (449, 330))\n",
      "((874, 540), (510, 330))\n"
     ]
    },
    {
     "name": "stderr",
     "output_type": "stream",
     "text": [
      " 96%|█████████▌| 656/682 [00:47<00:01, 13.53it/s]"
     ]
    },
    {
     "name": "stdout",
     "output_type": "stream",
     "text": [
      "((174, 540), (447, 330))\n",
      "((867, 540), (515, 330))\n",
      "((171, 540), (447, 330))\n",
      "((875, 540), (513, 330))\n",
      "((170, 540), (446, 330))\n",
      "((873, 540), (514, 330))\n",
      "((170, 540), (446, 330))\n",
      "((871, 540), (513, 330))\n"
     ]
    },
    {
     "name": "stderr",
     "output_type": "stream",
     "text": [
      "\r",
      " 96%|█████████▋| 658/682 [00:47<00:01, 14.38it/s]"
     ]
    },
    {
     "name": "stdout",
     "output_type": "stream",
     "text": [
      "((168, 540), (448, 330))\n",
      "((867, 540), (515, 330))\n",
      "((166, 540), (447, 330))\n",
      "((869, 540), (514, 330))\n",
      "((166, 540), (448, 330))\n",
      "((867, 540), (514, 330))\n"
     ]
    },
    {
     "name": "stderr",
     "output_type": "stream",
     "text": [
      " 97%|█████████▋| 662/682 [00:48<00:01, 12.76it/s]"
     ]
    },
    {
     "name": "stdout",
     "output_type": "stream",
     "text": [
      "((165, 540), (449, 330))\n",
      "((866, 540), (514, 330))\n",
      "((165, 540), (451, 330))\n",
      "((863, 540), (513, 330))\n",
      "((166, 540), (450, 330))\n",
      "((865, 540), (513, 330))\n"
     ]
    },
    {
     "name": "stderr",
     "output_type": "stream",
     "text": [
      "\r",
      " 97%|█████████▋| 664/682 [00:48<00:01, 12.41it/s]"
     ]
    },
    {
     "name": "stdout",
     "output_type": "stream",
     "text": [
      "((166, 540), (449, 330))\n",
      "((863, 540), (514, 330))\n",
      "((161, 540), (449, 330))\n",
      "((865, 540), (517, 330))\n",
      "((160, 540), (448, 330))\n",
      "((869, 540), (519, 330))\n"
     ]
    },
    {
     "name": "stderr",
     "output_type": "stream",
     "text": [
      " 98%|█████████▊| 668/682 [00:48<00:01, 12.34it/s]"
     ]
    },
    {
     "name": "stdout",
     "output_type": "stream",
     "text": [
      "((159, 540), (449, 330))\n",
      "((865, 540), (520, 330))\n",
      "((158, 540), (449, 330))\n",
      "((865, 540), (520, 330))\n",
      "((157, 540), (450, 330))\n",
      "((865, 540), (519, 330))\n"
     ]
    },
    {
     "name": "stderr",
     "output_type": "stream",
     "text": [
      "\r",
      " 98%|█████████▊| 670/682 [00:48<00:00, 12.19it/s]"
     ]
    },
    {
     "name": "stdout",
     "output_type": "stream",
     "text": [
      "((157, 540), (451, 330))\n",
      "((866, 540), (517, 330))\n",
      "((157, 540), (452, 330))\n",
      "((866, 540), (516, 330))\n",
      "((158, 540), (451, 330))\n",
      "((867, 540), (515, 330))\n"
     ]
    },
    {
     "name": "stderr",
     "output_type": "stream",
     "text": [
      " 99%|█████████▉| 674/682 [00:49<00:00, 11.84it/s]"
     ]
    },
    {
     "name": "stdout",
     "output_type": "stream",
     "text": [
      "((158, 540), (452, 330))\n",
      "((865, 540), (517, 330))\n",
      "((159, 540), (453, 330))\n",
      "((865, 540), (515, 330))\n",
      "((159, 540), (452, 330))\n",
      "((864, 540), (517, 330))\n"
     ]
    },
    {
     "name": "stderr",
     "output_type": "stream",
     "text": [
      "\r",
      " 99%|█████████▉| 676/682 [00:49<00:00, 12.27it/s]"
     ]
    },
    {
     "name": "stdout",
     "output_type": "stream",
     "text": [
      "((163, 540), (453, 330))\n",
      "((863, 540), (515, 330))\n",
      "((160, 540), (454, 330))\n",
      "((864, 540), (516, 330))\n",
      "((161, 540), (454, 330))\n",
      "((861, 540), (513, 330))\n"
     ]
    },
    {
     "name": "stderr",
     "output_type": "stream",
     "text": [
      "100%|█████████▉| 680/682 [00:49<00:00, 13.27it/s]"
     ]
    },
    {
     "name": "stdout",
     "output_type": "stream",
     "text": [
      "((164, 540), (454, 330))\n",
      "((862, 540), (512, 330))\n",
      "((164, 540), (453, 330))\n",
      "((862, 540), (512, 330))\n",
      "((165, 540), (454, 330))\n",
      "((859, 540), (513, 330))\n"
     ]
    },
    {
     "name": "stderr",
     "output_type": "stream",
     "text": [
      "100%|█████████▉| 681/682 [00:49<00:00, 13.73it/s]\n"
     ]
    },
    {
     "name": "stdout",
     "output_type": "stream",
     "text": [
      "((165, 540), (452, 330))\n",
      "((862, 540), (512, 330))\n",
      "[MoviePy] Done.\n",
      "[MoviePy] >>>> Video ready: test_videos_output/solidYellowLeft.mp4 \n",
      "\n",
      "CPU times: user 37.4 s, sys: 1.56 s, total: 39 s\n",
      "Wall time: 50.7 s\n"
     ]
    }
   ],
   "source": [
    "yellow_output = 'test_videos_output/solidYellowLeft.mp4'\n",
    "## To speed up the testing process you may want to try your pipeline on a shorter subclip of the video\n",
    "## To do so add .subclip(start_second,end_second) to the end of the line below\n",
    "## Where start_second and end_second are integer values representing the start and end of the subclip\n",
    "## You may also uncomment the following line for a subclip of the first 5 seconds\n",
    "##clip2 = VideoFileClip('test_videos/solidYellowLeft.mp4').subclip(0,5)\n",
    "clip2 = VideoFileClip('test_videos/solidYellowLeft.mp4')\n",
    "yellow_clip = clip2.fl_image(process_image)\n",
    "%time yellow_clip.write_videofile(yellow_output, audio=False)"
   ]
  },
  {
   "cell_type": "code",
   "execution_count": 22,
   "metadata": {},
   "outputs": [
    {
     "data": {
      "text/html": [
       "\n",
       "<video width=\"960\" height=\"540\" controls>\n",
       "  <source src=\"test_videos_output/solidYellowLeft.mp4\">\n",
       "</video>\n"
      ],
      "text/plain": [
       "<IPython.core.display.HTML object>"
      ]
     },
     "execution_count": 22,
     "metadata": {},
     "output_type": "execute_result"
    }
   ],
   "source": [
    "HTML(\"\"\"\n",
    "<video width=\"960\" height=\"540\" controls>\n",
    "  <source src=\"{0}\">\n",
    "</video>\n",
    "\"\"\".format(yellow_output))"
   ]
  },
  {
   "cell_type": "markdown",
   "metadata": {},
   "source": [
    "## Writeup and Submission\n",
    "\n",
    "If you're satisfied with your video outputs, it's time to make the report writeup in a pdf or markdown file. Once you have this Ipython notebook ready along with the writeup, it's time to submit for review! Here is a [link](https://github.com/udacity/CarND-LaneLines-P1/blob/master/writeup_template.md) to the writeup template file.\n"
   ]
  },
  {
   "cell_type": "markdown",
   "metadata": {
    "collapsed": true
   },
   "source": [
    "## Optional Challenge\n",
    "\n",
    "Try your lane finding pipeline on the video below.  Does it still work?  Can you figure out a way to make it more robust?  If you're up for the challenge, modify your pipeline so it works with this video and submit it along with the rest of your project!"
   ]
  },
  {
   "cell_type": "code",
   "execution_count": 23,
   "metadata": {},
   "outputs": [
    {
     "name": "stdout",
     "output_type": "stream",
     "text": [
      "((1398, 540), (-670, 330))\n",
      "((918, 540), (427, 330))\n",
      "[MoviePy] >>>> Building video test_videos_output/challenge.mp4\n",
      "[MoviePy] Writing video test_videos_output/challenge.mp4\n"
     ]
    },
    {
     "name": "stderr",
     "output_type": "stream",
     "text": [
      "  0%|          | 1/251 [00:00<00:30,  8.18it/s]"
     ]
    },
    {
     "name": "stdout",
     "output_type": "stream",
     "text": [
      "((1398, 540), (-670, 330))\n",
      "((918, 540), (427, 330))\n"
     ]
    },
    {
     "name": "stderr",
     "output_type": "stream",
     "text": [
      "\r",
      "  1%|          | 2/251 [00:00<00:31,  7.81it/s]"
     ]
    },
    {
     "name": "stdout",
     "output_type": "stream",
     "text": [
      "((2552, 540), (-1927, 330))\n",
      "((898, 540), (449, 330))\n"
     ]
    },
    {
     "name": "stderr",
     "output_type": "stream",
     "text": [
      "\r",
      "  1%|          | 3/251 [00:00<00:30,  8.18it/s]"
     ]
    },
    {
     "name": "stdout",
     "output_type": "stream",
     "text": [
      "((1660, 540), (-996, 330))\n",
      "((923, 540), (408, 330))\n"
     ]
    },
    {
     "name": "stderr",
     "output_type": "stream",
     "text": [
      "\r",
      "  2%|▏         | 4/251 [00:00<00:29,  8.36it/s]"
     ]
    },
    {
     "name": "stdout",
     "output_type": "stream",
     "text": [
      "((1978, 540), (-1240, 330))\n",
      "((900, 540), (454, 330))\n"
     ]
    },
    {
     "name": "stderr",
     "output_type": "stream",
     "text": [
      "\r",
      "  2%|▏         | 6/251 [00:00<00:26,  9.18it/s]"
     ]
    },
    {
     "name": "stdout",
     "output_type": "stream",
     "text": [
      "((1668, 540), (-777, 330))\n",
      "((911, 540), (436, 330))\n",
      "((2329, 540), (-1522, 330))\n",
      "((893, 540), (433, 330))\n",
      "((1841, 540), (-982, 330))\n",
      "((882, 540), (455, 330))\n"
     ]
    },
    {
     "name": "stderr",
     "output_type": "stream",
     "text": [
      "\r",
      "  3%|▎         | 8/251 [00:00<00:24,  9.77it/s]"
     ]
    },
    {
     "name": "stdout",
     "output_type": "stream",
     "text": [
      "((1917, 540), (-1199, 330))\n",
      "((884, 540), (437, 330))\n",
      "((1561, 540), (-762, 330))\n",
      "((878, 540), (470, 330))\n"
     ]
    },
    {
     "name": "stderr",
     "output_type": "stream",
     "text": [
      "\r",
      "  4%|▍         | 10/251 [00:00<00:23, 10.38it/s]"
     ]
    },
    {
     "name": "stdout",
     "output_type": "stream",
     "text": [
      "((1220, 540), (-388, 330))\n",
      "((889, 540), (482, 330))\n"
     ]
    },
    {
     "name": "stderr",
     "output_type": "stream",
     "text": [
      "\r",
      "  5%|▍         | 12/251 [00:01<00:21, 10.94it/s]"
     ]
    },
    {
     "name": "stdout",
     "output_type": "stream",
     "text": [
      "((1330, 540), (-496, 330))\n",
      "((927, 540), (426, 330))\n",
      "((1963, 540), (-1095, 330))\n",
      "((925, 540), (428, 330))\n",
      "((1246, 540), (-284, 330))\n",
      "((911, 540), (439, 330))\n"
     ]
    },
    {
     "name": "stderr",
     "output_type": "stream",
     "text": [
      "\r",
      "  6%|▌         | 14/251 [00:01<00:20, 11.32it/s]"
     ]
    },
    {
     "name": "stdout",
     "output_type": "stream",
     "text": [
      "((1173, 540), (-260, 330))\n",
      "((910, 540), (450, 330))\n",
      "((1145, 540), (-179, 330))\n",
      "((905, 540), (458, 330))\n"
     ]
    },
    {
     "name": "stderr",
     "output_type": "stream",
     "text": [
      "\r",
      "  6%|▋         | 16/251 [00:01<00:20, 11.36it/s]"
     ]
    },
    {
     "name": "stdout",
     "output_type": "stream",
     "text": [
      "((1571, 540), (-635, 330))\n",
      "((906, 540), (457, 330))\n"
     ]
    },
    {
     "name": "stderr",
     "output_type": "stream",
     "text": [
      "\r",
      "  7%|▋         | 18/251 [00:01<00:20, 11.49it/s]"
     ]
    },
    {
     "name": "stdout",
     "output_type": "stream",
     "text": [
      "((972, 540), (-40, 330))\n",
      "((891, 540), (483, 330))\n",
      "((1270, 540), (-491, 330))\n",
      "((882, 540), (466, 330))\n",
      "((1336, 540), (-408, 330))\n",
      "((874, 540), (487, 330))\n"
     ]
    },
    {
     "name": "stderr",
     "output_type": "stream",
     "text": [
      "\r",
      "  8%|▊         | 20/251 [00:01<00:19, 11.58it/s]"
     ]
    },
    {
     "name": "stdout",
     "output_type": "stream",
     "text": [
      "((1811, 540), (-1050, 330))\n",
      "((878, 540), (455, 330))\n",
      "((1345, 540), (-479, 330))\n",
      "((883, 540), (472, 330))\n"
     ]
    },
    {
     "name": "stderr",
     "output_type": "stream",
     "text": [
      "\r",
      "  9%|▉         | 22/251 [00:01<00:19, 11.73it/s]"
     ]
    },
    {
     "name": "stdout",
     "output_type": "stream",
     "text": [
      "((1127, 540), (-285, 330))\n",
      "((910, 540), (445, 330))\n"
     ]
    },
    {
     "name": "stderr",
     "output_type": "stream",
     "text": [
      "\r",
      " 10%|▉         | 24/251 [00:02<00:19, 11.63it/s]"
     ]
    },
    {
     "name": "stdout",
     "output_type": "stream",
     "text": [
      "((1336, 540), (-539, 330))\n",
      "((949, 540), (396, 330))\n",
      "((1826, 540), (-1177, 330))\n",
      "((940, 540), (416, 330))\n",
      "((1558, 540), (-925, 330))\n",
      "((912, 540), (445, 330))\n"
     ]
    },
    {
     "name": "stderr",
     "output_type": "stream",
     "text": [
      "\r",
      " 10%|█         | 26/251 [00:02<00:19, 11.47it/s]"
     ]
    },
    {
     "name": "stdout",
     "output_type": "stream",
     "text": [
      "((3977, 540), (-4288, 330))\n",
      "((908, 540), (441, 330))\n",
      "((1416, 540), (-854, 330))\n",
      "((931, 540), (425, 330))\n"
     ]
    },
    {
     "name": "stderr",
     "output_type": "stream",
     "text": [
      "\r",
      " 11%|█         | 28/251 [00:02<00:19, 11.73it/s]"
     ]
    },
    {
     "name": "stdout",
     "output_type": "stream",
     "text": [
      "((1265, 540), (-555, 330))\n",
      "((904, 540), (435, 330))\n"
     ]
    },
    {
     "name": "stderr",
     "output_type": "stream",
     "text": [
      "\r",
      " 12%|█▏        | 30/251 [00:02<00:18, 11.80it/s]"
     ]
    },
    {
     "name": "stdout",
     "output_type": "stream",
     "text": [
      "((1210, 540), (-430, 330))\n",
      "((899, 540), (463, 330))\n",
      "((1087, 540), (-245, 330))\n",
      "((882, 540), (474, 330))\n",
      "((1206, 540), (-559, 330))\n",
      "((879, 540), (451, 330))\n"
     ]
    },
    {
     "name": "stderr",
     "output_type": "stream",
     "text": [
      "\r",
      " 13%|█▎        | 32/251 [00:02<00:18, 11.69it/s]"
     ]
    },
    {
     "name": "stdout",
     "output_type": "stream",
     "text": [
      "((1525, 540), (-1202, 330))\n",
      "((882, 540), (478, 330))\n",
      "((1650, 540), (-1155, 330))\n",
      "((898, 540), (467, 330))\n"
     ]
    },
    {
     "name": "stderr",
     "output_type": "stream",
     "text": [
      "\r",
      " 14%|█▎        | 34/251 [00:03<00:20, 10.73it/s]"
     ]
    },
    {
     "name": "stdout",
     "output_type": "stream",
     "text": [
      "((1824, 540), (-1227, 330))\n",
      "((940, 540), (409, 330))\n",
      "((1147, 540), (-364, 330))\n",
      "((943, 540), (423, 330))\n",
      "((1172, 540), (-361, 330))\n",
      "((928, 540), (439, 330))\n"
     ]
    },
    {
     "name": "stderr",
     "output_type": "stream",
     "text": [
      " 15%|█▌        | 38/251 [00:03<00:19, 10.94it/s]"
     ]
    },
    {
     "name": "stdout",
     "output_type": "stream",
     "text": [
      "((1396, 540), (-757, 330))\n",
      "((914, 540), (448, 330))\n",
      "((1948, 540), (-1496, 330))\n",
      "((916, 540), (454, 330))\n",
      "((1592, 540), (-931, 330))\n",
      "((931, 540), (425, 330))\n"
     ]
    },
    {
     "name": "stderr",
     "output_type": "stream",
     "text": [
      "\r",
      " 16%|█▌        | 40/251 [00:03<00:18, 11.18it/s]"
     ]
    },
    {
     "name": "stdout",
     "output_type": "stream",
     "text": [
      "((1562, 540), (-921, 330))\n",
      "((905, 540), (456, 330))\n",
      "((1429, 540), (-790, 330))\n",
      "((888, 540), (468, 330))\n",
      "((2275, 540), (-1844, 330))\n",
      "((878, 540), (485, 330))\n"
     ]
    },
    {
     "name": "stderr",
     "output_type": "stream",
     "text": [
      " 18%|█▊        | 44/251 [00:04<00:19, 10.60it/s]"
     ]
    },
    {
     "name": "stdout",
     "output_type": "stream",
     "text": [
      "((1270, 540), (-646, 330))\n",
      "((901, 540), (460, 330))\n",
      "((1621, 540), (-1212, 330))\n",
      "((889, 540), (473, 330))\n",
      "((1159, 540), (-625, 330))\n",
      "((941, 540), (425, 330))\n"
     ]
    },
    {
     "name": "stderr",
     "output_type": "stream",
     "text": [
      " 19%|█▉        | 48/251 [00:04<00:18, 10.85it/s]"
     ]
    },
    {
     "name": "stdout",
     "output_type": "stream",
     "text": [
      "((1706, 540), (-1355, 330))\n",
      "((959, 540), (408, 330))\n",
      "((1593, 540), (-1055, 330))\n",
      "((956, 540), (406, 330))\n",
      "((2163, 540), (-1867, 330))\n",
      "((939, 540), (414, 330))\n"
     ]
    },
    {
     "name": "stderr",
     "output_type": "stream",
     "text": [
      "\r",
      " 20%|█▉        | 50/251 [00:04<00:18, 10.78it/s]"
     ]
    },
    {
     "name": "stdout",
     "output_type": "stream",
     "text": [
      "((2291, 540), (-2033, 330))\n",
      "((946, 540), (405, 330))\n",
      "((1731, 540), (-1168, 330))\n",
      "((929, 540), (428, 330))\n",
      "((1520, 540), (-922, 330))\n",
      "((912, 540), (454, 330))\n"
     ]
    },
    {
     "name": "stderr",
     "output_type": "stream",
     "text": [
      "\r",
      " 21%|██        | 52/251 [00:04<00:18, 10.75it/s]"
     ]
    },
    {
     "name": "stdout",
     "output_type": "stream",
     "text": [
      "((1836, 540), (-1288, 330))\n",
      "((907, 540), (451, 330))\n",
      "((2389, 540), (-2005, 330))\n",
      "((896, 540), (465, 330))\n"
     ]
    },
    {
     "name": "stderr",
     "output_type": "stream",
     "text": [
      " 22%|██▏       | 55/251 [00:05<00:22,  8.71it/s]"
     ]
    },
    {
     "name": "stdout",
     "output_type": "stream",
     "text": [
      "((2006, 540), (-1534, 330))\n",
      "((894, 540), (459, 330))\n",
      "((6465, 540), (-6869, 330))\n",
      "((890, 540), (475, 330))\n"
     ]
    },
    {
     "name": "stderr",
     "output_type": "stream",
     "text": [
      " 23%|██▎       | 57/251 [00:05<00:25,  7.72it/s]"
     ]
    },
    {
     "name": "stdout",
     "output_type": "stream",
     "text": [
      "((2748, 540), (-2516, 330))\n",
      "((903, 540), (460, 330))\n",
      "((6260, 540), (-7569, 330))\n",
      "((907, 540), (461, 330))\n"
     ]
    },
    {
     "name": "stderr",
     "output_type": "stream",
     "text": [
      " 24%|██▎       | 59/251 [00:05<00:25,  7.65it/s]"
     ]
    },
    {
     "name": "stdout",
     "output_type": "stream",
     "text": [
      "((4739, 540), (-5426, 330))\n",
      "((946, 540), (423, 330))\n",
      "((2347, 540), (-2106, 330))\n",
      "((946, 540), (416, 330))\n"
     ]
    },
    {
     "name": "stderr",
     "output_type": "stream",
     "text": [
      " 24%|██▍       | 61/251 [00:05<00:23,  8.17it/s]"
     ]
    },
    {
     "name": "stdout",
     "output_type": "stream",
     "text": [
      "((15061, 540), (-19047, 330))\n",
      "((920, 540), (453, 330))\n",
      "((2549, 540), (-2642, 330))\n",
      "((928, 540), (433, 330))\n"
     ]
    },
    {
     "name": "stderr",
     "output_type": "stream",
     "text": [
      " 25%|██▌       | 63/251 [00:06<00:24,  7.81it/s]"
     ]
    },
    {
     "name": "stdout",
     "output_type": "stream",
     "text": [
      "((-325221, 540), (438324, 330))\n",
      "((925, 540), (436, 330))\n",
      "((2381, 540), (-2368, 330))\n",
      "((907, 540), (459, 330))\n"
     ]
    },
    {
     "name": "stderr",
     "output_type": "stream",
     "text": [
      " 26%|██▌       | 65/251 [00:06<00:23,  7.94it/s]"
     ]
    },
    {
     "name": "stdout",
     "output_type": "stream",
     "text": [
      "((1601, 540), (-1164, 330))\n",
      "((906, 540), (461, 330))\n",
      "((1635, 540), (-1128, 330))\n",
      "((893, 540), (477, 330))\n"
     ]
    },
    {
     "name": "stderr",
     "output_type": "stream",
     "text": [
      " 27%|██▋       | 67/251 [00:06<00:20,  8.79it/s]"
     ]
    },
    {
     "name": "stdout",
     "output_type": "stream",
     "text": [
      "((2271, 540), (-1950, 330))\n",
      "((893, 540), (469, 330))\n",
      "((1866, 540), (-1322, 330))\n",
      "((897, 540), (461, 330))\n",
      "((1867, 540), (-1319, 330))"
     ]
    },
    {
     "name": "stderr",
     "output_type": "stream",
     "text": [
      "\r",
      " 27%|██▋       | 69/251 [00:06<00:19,  9.18it/s]"
     ]
    },
    {
     "name": "stdout",
     "output_type": "stream",
     "text": [
      "\n",
      "((900, 540), (468, 330))\n",
      "((1397, 540), (-690, 330))\n",
      "((921, 540), (434, 330))\n"
     ]
    },
    {
     "name": "stderr",
     "output_type": "stream",
     "text": [
      " 28%|██▊       | 71/251 [00:07<00:22,  7.83it/s]"
     ]
    },
    {
     "name": "stdout",
     "output_type": "stream",
     "text": [
      "((1872, 540), (-1312, 330))\n",
      "((942, 540), (426, 330))\n",
      "((1865, 540), (-1295, 330))\n",
      "((935, 540), (433, 330))\n"
     ]
    },
    {
     "name": "stderr",
     "output_type": "stream",
     "text": [
      " 29%|██▉       | 73/251 [00:07<00:21,  8.12it/s]"
     ]
    },
    {
     "name": "stdout",
     "output_type": "stream",
     "text": [
      "((1884, 540), (-1367, 330))\n",
      "((930, 540), (441, 330))\n",
      "((1375, 540), (-785, 330))\n",
      "((937, 540), (427, 330))\n"
     ]
    },
    {
     "name": "stderr",
     "output_type": "stream",
     "text": [
      " 30%|██▉       | 75/251 [00:07<00:20,  8.41it/s]"
     ]
    },
    {
     "name": "stdout",
     "output_type": "stream",
     "text": [
      "((1594, 540), (-1039, 330))\n",
      "((940, 540), (410, 330))\n",
      "((9128, 540), (-13562, 330))\n",
      "((908, 540), (458, 330))\n"
     ]
    },
    {
     "name": "stderr",
     "output_type": "stream",
     "text": [
      " 31%|███       | 77/251 [00:07<00:19,  8.76it/s]"
     ]
    },
    {
     "name": "stdout",
     "output_type": "stream",
     "text": [
      "((355965, 540), (-568968, 330))\n",
      "((907, 540), (438, 330))\n",
      "((-1788, 540), (4198, 330))\n",
      "((899, 540), (457, 330))\n"
     ]
    },
    {
     "name": "stderr",
     "output_type": "stream",
     "text": [
      " 31%|███▏      | 79/251 [00:08<00:18,  9.14it/s]"
     ]
    },
    {
     "name": "stdout",
     "output_type": "stream",
     "text": [
      "((-21476, 540), (36249, 330))\n",
      "((888, 540), (460, 330))\n",
      "((-3587, 540), (7752, 330))\n",
      "((898, 540), (455, 330))\n"
     ]
    },
    {
     "name": "stderr",
     "output_type": "stream",
     "text": [
      " 32%|███▏      | 81/251 [00:08<00:20,  8.49it/s]"
     ]
    },
    {
     "name": "stdout",
     "output_type": "stream",
     "text": [
      "((-1584, 540), (3992, 330))\n",
      "((912, 540), (432, 330))\n",
      "((-1665, 540), (3962, 330))\n",
      "((966, 540), (367, 330))\n"
     ]
    },
    {
     "name": "stderr",
     "output_type": "stream",
     "text": [
      " 33%|███▎      | 83/251 [00:08<00:19,  8.75it/s]"
     ]
    },
    {
     "name": "stdout",
     "output_type": "stream",
     "text": [
      "((-1573, 540), (3505, 330))\n",
      "((929, 540), (436, 330))\n",
      "((-908, 540), (2646, 330))\n",
      "((945, 540), (404, 330))\n"
     ]
    },
    {
     "name": "stderr",
     "output_type": "stream",
     "text": [
      " 34%|███▍      | 85/251 [00:08<00:18,  9.08it/s]"
     ]
    },
    {
     "name": "stdout",
     "output_type": "stream",
     "text": [
      "((-1409, 540), (3531, 330))\n",
      "((927, 540), (397, 330))\n",
      "((-1172, 540), (2955, 330))\n",
      "((903, 540), (443, 330))\n"
     ]
    },
    {
     "name": "stderr",
     "output_type": "stream",
     "text": [
      " 35%|███▍      | 87/251 [00:08<00:18,  9.06it/s]"
     ]
    },
    {
     "name": "stdout",
     "output_type": "stream",
     "text": [
      "((-2914, 540), (5808, 330))\n",
      "((917, 540), (425, 330))\n",
      "((-1414, 540), (3313, 330))\n",
      "((908, 540), (411, 330))\n"
     ]
    },
    {
     "name": "stderr",
     "output_type": "stream",
     "text": [
      " 35%|███▌      | 89/251 [00:09<00:18,  8.84it/s]"
     ]
    },
    {
     "name": "stdout",
     "output_type": "stream",
     "text": [
      "((-2663, 540), (5513, 330))\n",
      "((894, 540), (477, 330))\n",
      "((-2257, 540), (4952, 330))\n",
      "((888, 540), (484, 330))\n"
     ]
    },
    {
     "name": "stderr",
     "output_type": "stream",
     "text": [
      " 36%|███▋      | 91/251 [00:09<00:18,  8.70it/s]"
     ]
    },
    {
     "name": "stdout",
     "output_type": "stream",
     "text": [
      "((-1634, 540), (3882, 330))\n",
      "((888, 540), (477, 330))\n",
      "((-2908, 540), (5853, 330))\n",
      "((886, 540), (475, 330))\n"
     ]
    },
    {
     "name": "stderr",
     "output_type": "stream",
     "text": [
      " 37%|███▋      | 93/251 [00:09<00:17,  8.83it/s]"
     ]
    },
    {
     "name": "stdout",
     "output_type": "stream",
     "text": [
      "((-807, 540), (2484, 330))\n",
      "((892, 540), (474, 330))\n",
      "((-778, 540), (2405, 330))\n",
      "((901, 540), (467, 330))\n"
     ]
    },
    {
     "name": "stderr",
     "output_type": "stream",
     "text": [
      " 38%|███▊      | 95/251 [00:09<00:17,  9.04it/s]"
     ]
    },
    {
     "name": "stdout",
     "output_type": "stream",
     "text": [
      "((-574, 540), (2034, 330))\n",
      "((896, 540), (482, 330))\n",
      "((-428, 540), (1874, 330))\n",
      "((896, 540), (495, 330))\n"
     ]
    },
    {
     "name": "stderr",
     "output_type": "stream",
     "text": [
      "\r",
      " 38%|███▊      | 96/251 [00:10<00:19,  8.03it/s]"
     ]
    },
    {
     "name": "stdout",
     "output_type": "stream",
     "text": [
      "((-314, 540), (1669, 330))\n",
      "((897, 540), (474, 330))\n"
     ]
    },
    {
     "name": "stderr",
     "output_type": "stream",
     "text": [
      " 39%|███▉      | 98/251 [00:10<00:24,  6.19it/s]"
     ]
    },
    {
     "name": "stdout",
     "output_type": "stream",
     "text": [
      "((-401, 540), (1689, 330))\n",
      "((892, 540), (466, 330))\n",
      "((-506, 540), (1899, 330))\n",
      "((892, 540), (461, 330))\n"
     ]
    },
    {
     "name": "stderr",
     "output_type": "stream",
     "text": [
      " 40%|███▉      | 100/251 [00:10<00:24,  6.23it/s]"
     ]
    },
    {
     "name": "stdout",
     "output_type": "stream",
     "text": [
      "((-423, 540), (1721, 330))\n",
      "((875, 540), (490, 330))\n",
      "((-395, 540), (1620, 330))\n",
      "((884, 540), (463, 330))\n"
     ]
    },
    {
     "name": "stderr",
     "output_type": "stream",
     "text": [
      " 41%|████      | 102/251 [00:11<00:21,  6.97it/s]"
     ]
    },
    {
     "name": "stdout",
     "output_type": "stream",
     "text": [
      "((-362, 540), (1482, 330))\n",
      "((873, 540), (508, 330))\n",
      "((-312, 540), (1376, 330))\n",
      "((865, 540), (475, 330))\n"
     ]
    },
    {
     "name": "stderr",
     "output_type": "stream",
     "text": [
      " 41%|████▏     | 104/251 [00:11<00:20,  7.14it/s]"
     ]
    },
    {
     "name": "stdout",
     "output_type": "stream",
     "text": [
      "((-238, 540), (1249, 330))\n",
      "((861, 540), (491, 330))\n",
      "((-212, 540), (1206, 330))\n",
      "((858, 540), (499, 330))\n"
     ]
    },
    {
     "name": "stderr",
     "output_type": "stream",
     "text": [
      " 42%|████▏     | 106/251 [00:11<00:20,  7.02it/s]"
     ]
    },
    {
     "name": "stdout",
     "output_type": "stream",
     "text": [
      "((-225, 540), (1232, 330))\n",
      "((872, 540), (451, 330))\n",
      "((-219, 540), (1213, 330))\n",
      "((871, 540), (487, 330))\n"
     ]
    },
    {
     "name": "stderr",
     "output_type": "stream",
     "text": [
      " 43%|████▎     | 108/251 [00:11<00:20,  7.09it/s]"
     ]
    },
    {
     "name": "stdout",
     "output_type": "stream",
     "text": [
      "((-239, 540), (1244, 330))\n",
      "((976, 540), (434, 330))\n",
      "((-186, 540), (1134, 330))\n",
      "((942, 540), (420, 330))\n"
     ]
    },
    {
     "name": "stderr",
     "output_type": "stream",
     "text": [
      " 44%|████▍     | 110/251 [00:12<00:20,  6.91it/s]"
     ]
    },
    {
     "name": "stdout",
     "output_type": "stream",
     "text": [
      "((-183, 540), (1128, 330))\n",
      "((958, 540), (399, 330))\n",
      "((-215, 540), (1182, 330))\n",
      "((930, 540), (423, 330))\n"
     ]
    },
    {
     "name": "stderr",
     "output_type": "stream",
     "text": [
      " 45%|████▍     | 112/251 [00:12<00:19,  7.08it/s]"
     ]
    },
    {
     "name": "stdout",
     "output_type": "stream",
     "text": [
      "((-177, 540), (1085, 330))\n",
      "((961, 540), (406, 330))\n",
      "((-245, 540), (1168, 330))\n",
      "((872, 540), (487, 330))\n"
     ]
    },
    {
     "name": "stderr",
     "output_type": "stream",
     "text": [
      " 45%|████▌     | 114/251 [00:12<00:20,  6.79it/s]"
     ]
    },
    {
     "name": "stdout",
     "output_type": "stream",
     "text": [
      "((-253, 540), (1129, 330))\n",
      "((873, 540), (497, 330))\n",
      "((-305, 540), (1134, 330))\n",
      "((890, 540), (485, 330))\n"
     ]
    },
    {
     "name": "stderr",
     "output_type": "stream",
     "text": [
      " 46%|████▌     | 116/251 [00:13<00:18,  7.18it/s]"
     ]
    },
    {
     "name": "stdout",
     "output_type": "stream",
     "text": [
      "((-235, 540), (1016, 330))\n",
      "((873, 540), (500, 330))\n",
      "((-196, 540), (1116, 330))\n",
      "((868, 540), (481, 330))\n"
     ]
    },
    {
     "name": "stderr",
     "output_type": "stream",
     "text": [
      " 47%|████▋     | 118/251 [00:13<00:16,  7.98it/s]"
     ]
    },
    {
     "name": "stdout",
     "output_type": "stream",
     "text": [
      "((-151, 540), (1052, 330))\n",
      "((876, 540), (489, 330))\n",
      "((-186, 540), (1145, 330))\n",
      "((878, 540), (460, 330))\n"
     ]
    },
    {
     "name": "stderr",
     "output_type": "stream",
     "text": [
      " 48%|████▊     | 120/251 [00:13<00:15,  8.43it/s]"
     ]
    },
    {
     "name": "stdout",
     "output_type": "stream",
     "text": [
      "((-117, 540), (1025, 330))\n",
      "((873, 540), (487, 330))\n",
      "((-186, 540), (1040, 330))\n",
      "((891, 540), (478, 330))\n"
     ]
    },
    {
     "name": "stderr",
     "output_type": "stream",
     "text": [
      " 49%|████▊     | 122/251 [00:13<00:16,  7.68it/s]"
     ]
    },
    {
     "name": "stdout",
     "output_type": "stream",
     "text": [
      "((-132, 540), (1004, 330))\n",
      "((1047, 540), (346, 330))\n",
      "((-230, 540), (1100, 330))\n",
      "((1019, 540), (361, 330))\n"
     ]
    },
    {
     "name": "stderr",
     "output_type": "stream",
     "text": [
      " 49%|████▉     | 124/251 [00:13<00:15,  8.27it/s]"
     ]
    },
    {
     "name": "stdout",
     "output_type": "stream",
     "text": [
      "((-174, 540), (1025, 330))\n",
      "((926, 540), (473, 330))\n",
      "((-221, 540), (1052, 330))\n",
      "((889, 540), (481, 330))\n"
     ]
    },
    {
     "name": "stderr",
     "output_type": "stream",
     "text": [
      "\r",
      " 50%|████▉     | 125/251 [00:14<00:14,  8.43it/s]"
     ]
    },
    {
     "name": "stdout",
     "output_type": "stream",
     "text": [
      "((-161, 540), (987, 330))\n",
      "((862, 540), (522, 330))\n",
      "((-171, 540), (1009, 330))\n",
      "((875, 540), (506, 330))\n",
      "((-178, 540), (998, 330))\n",
      "((867, 540), (511, 330))"
     ]
    },
    {
     "name": "stderr",
     "output_type": "stream",
     "text": [
      " 51%|█████▏    | 129/251 [00:14<00:13,  8.93it/s]"
     ]
    },
    {
     "name": "stdout",
     "output_type": "stream",
     "text": [
      "\n",
      "((-212, 540), (1070, 330))\n",
      "((857, 540), (519, 330))\n",
      "((-125, 540), (960, 330))\n",
      "((858, 540), (526, 330))\n"
     ]
    },
    {
     "name": "stderr",
     "output_type": "stream",
     "text": [
      " 52%|█████▏    | 131/251 [00:14<00:13,  8.96it/s]"
     ]
    },
    {
     "name": "stdout",
     "output_type": "stream",
     "text": [
      "((-169, 540), (1057, 330))\n",
      "((877, 540), (474, 330))\n",
      "((-144, 540), (1035, 330))\n",
      "((899, 540), (458, 330))\n"
     ]
    },
    {
     "name": "stderr",
     "output_type": "stream",
     "text": [
      " 53%|█████▎    | 133/251 [00:14<00:13,  8.90it/s]"
     ]
    },
    {
     "name": "stdout",
     "output_type": "stream",
     "text": [
      "((-170, 540), (1026, 330))\n",
      "((984, 540), (394, 330))\n",
      "((-302, 540), (1230, 330))\n",
      "((1042, 540), (278, 330))\n"
     ]
    },
    {
     "name": "stderr",
     "output_type": "stream",
     "text": [
      " 54%|█████▍    | 135/251 [00:15<00:13,  8.62it/s]"
     ]
    },
    {
     "name": "stdout",
     "output_type": "stream",
     "text": [
      "((-312, 540), (1211, 330))\n",
      "((912, 540), (454, 330))\n",
      "((-372, 540), (1275, 330))\n",
      "((944, 540), (395, 330))\n"
     ]
    },
    {
     "name": "stderr",
     "output_type": "stream",
     "text": [
      " 55%|█████▍    | 137/251 [00:15<00:12,  8.82it/s]"
     ]
    },
    {
     "name": "stdout",
     "output_type": "stream",
     "text": [
      "((-478, 540), (1429, 330))\n",
      "((942, 540), (388, 330))\n",
      "((-571, 540), (1646, 330))\n",
      "((902, 540), (411, 330))\n"
     ]
    },
    {
     "name": "stderr",
     "output_type": "stream",
     "text": [
      " 55%|█████▌    | 139/251 [00:15<00:12,  8.62it/s]"
     ]
    },
    {
     "name": "stdout",
     "output_type": "stream",
     "text": [
      "((-572, 540), (1612, 330))\n",
      "((887, 540), (467, 330))\n",
      "((-633, 540), (1568, 330))\n",
      "((868, 540), (491, 330))\n"
     ]
    },
    {
     "name": "stderr",
     "output_type": "stream",
     "text": [
      " 56%|█████▌    | 141/251 [00:15<00:12,  8.73it/s]"
     ]
    },
    {
     "name": "stdout",
     "output_type": "stream",
     "text": [
      "((-555, 540), (1633, 330))\n",
      "((864, 540), (507, 330))\n",
      "((-1107, 540), (2414, 330))\n",
      "((857, 540), (470, 330))\n"
     ]
    },
    {
     "name": "stderr",
     "output_type": "stream",
     "text": [
      " 57%|█████▋    | 143/251 [00:16<00:12,  8.96it/s]"
     ]
    },
    {
     "name": "stdout",
     "output_type": "stream",
     "text": [
      "((-726, 540), (1962, 330))\n",
      "((891, 540), (451, 330))\n",
      "((-1005, 540), (2654, 330))\n",
      "((907, 540), (442, 330))\n",
      "((-908, 540), (2727, 330))"
     ]
    },
    {
     "name": "stderr",
     "output_type": "stream",
     "text": [
      "\r",
      " 58%|█████▊    | 145/251 [00:16<00:11,  9.31it/s]"
     ]
    },
    {
     "name": "stdout",
     "output_type": "stream",
     "text": [
      "\n",
      "((846, 540), (505, 330))\n",
      "((-810, 540), (2649, 330))\n",
      "((891, 540), (435, 330))\n"
     ]
    },
    {
     "name": "stderr",
     "output_type": "stream",
     "text": [
      " 59%|█████▊    | 147/251 [00:16<00:11,  9.38it/s]"
     ]
    },
    {
     "name": "stdout",
     "output_type": "stream",
     "text": [
      "((-3396, 540), (6732, 330))\n",
      "((863, 540), (491, 330))\n",
      "((-386, 540), (1746, 330))\n",
      "((888, 540), (476, 330))\n"
     ]
    },
    {
     "name": "stderr",
     "output_type": "stream",
     "text": [
      " 59%|█████▉    | 149/251 [00:16<00:10,  9.37it/s]"
     ]
    },
    {
     "name": "stdout",
     "output_type": "stream",
     "text": [
      "((-11007, 540), (19247, 330))\n",
      "((863, 540), (495, 330))\n",
      "((4736, 540), (-6130, 330))\n",
      "((857, 540), (490, 330))\n"
     ]
    },
    {
     "name": "stderr",
     "output_type": "stream",
     "text": [
      "\r",
      " 60%|█████▉    | 150/251 [00:16<00:10,  9.38it/s]"
     ]
    },
    {
     "name": "stdout",
     "output_type": "stream",
     "text": [
      "((8471, 540), (-10221, 330))\n",
      "((854, 540), (514, 330))\n",
      "((1867, 540), (-1568, 330))\n",
      "((847, 540), (510, 330))\n",
      "((8503, 540), (-10648, 330))\n",
      "((865, 540), (491, 330))\n"
     ]
    },
    {
     "name": "stderr",
     "output_type": "stream",
     "text": [
      " 61%|██████▏   | 154/251 [00:17<00:09,  9.73it/s]"
     ]
    },
    {
     "name": "stdout",
     "output_type": "stream",
     "text": [
      "((2028, 540), (-1823, 330))\n",
      "((912, 540), (440, 330))\n",
      "((2960, 540), (-2955, 330))\n",
      "((966, 540), (402, 330))\n",
      "((3007, 540), (-3024, 330))"
     ]
    },
    {
     "name": "stderr",
     "output_type": "stream",
     "text": [
      " 62%|██████▏   | 156/251 [00:17<00:09,  9.53it/s]"
     ]
    },
    {
     "name": "stdout",
     "output_type": "stream",
     "text": [
      "\n",
      "((931, 540), (437, 330))\n",
      "((3204, 540), (-3225, 330))\n",
      "((1035, 540), (337, 330))\n"
     ]
    },
    {
     "name": "stderr",
     "output_type": "stream",
     "text": [
      " 63%|██████▎   | 158/251 [00:17<00:10,  9.29it/s]"
     ]
    },
    {
     "name": "stdout",
     "output_type": "stream",
     "text": [
      "((12576, 540), (-17234, 330))\n",
      "((914, 540), (462, 330))\n",
      "((2350, 540), (-2177, 330))\n",
      "((905, 540), (466, 330))\n"
     ]
    },
    {
     "name": "stderr",
     "output_type": "stream",
     "text": [
      "\r",
      " 63%|██████▎   | 159/251 [00:17<00:10,  8.94it/s]"
     ]
    },
    {
     "name": "stdout",
     "output_type": "stream",
     "text": [
      "((2563, 540), (-2428, 330))\n",
      "((878, 540), (480, 330))\n",
      "((3998, 540), (-4530, 330))\n",
      "((876, 540), (491, 330))\n"
     ]
    },
    {
     "name": "stderr",
     "output_type": "stream",
     "text": [
      " 65%|██████▍   | 162/251 [00:18<00:10,  8.67it/s]"
     ]
    },
    {
     "name": "stdout",
     "output_type": "stream",
     "text": [
      "((2791, 540), (-2835, 330))\n",
      "((874, 540), (485, 330))\n",
      "((32651, 540), (-45507, 330))\n",
      "((862, 540), (507, 330))\n"
     ]
    },
    {
     "name": "stderr",
     "output_type": "stream",
     "text": [
      " 65%|██████▌   | 164/251 [00:18<00:11,  7.82it/s]"
     ]
    },
    {
     "name": "stdout",
     "output_type": "stream",
     "text": [
      "((-9962, 540), (16234, 330))\n",
      "((862, 540), (511, 330))\n",
      "((-4193, 540), (7464, 330))\n",
      "((886, 540), (475, 330))\n"
     ]
    },
    {
     "name": "stderr",
     "output_type": "stream",
     "text": [
      " 66%|██████▌   | 166/251 [00:18<00:11,  7.60it/s]"
     ]
    },
    {
     "name": "stdout",
     "output_type": "stream",
     "text": [
      "((4694, 540), (-6184, 330))\n",
      "((916, 540), (447, 330))\n",
      "((-1746, 540), (4177, 330))\n",
      "((914, 540), (439, 330))\n"
     ]
    },
    {
     "name": "stderr",
     "output_type": "stream",
     "text": [
      " 67%|██████▋   | 168/251 [00:18<00:10,  7.64it/s]"
     ]
    },
    {
     "name": "stdout",
     "output_type": "stream",
     "text": [
      "((3860, 540), (-4349, 330))\n",
      "((901, 540), (453, 330))\n",
      "((-12300, 540), (18298, 330))\n",
      "((903, 540), (446, 330))\n"
     ]
    },
    {
     "name": "stderr",
     "output_type": "stream",
     "text": [
      " 68%|██████▊   | 170/251 [00:19<00:10,  7.80it/s]"
     ]
    },
    {
     "name": "stdout",
     "output_type": "stream",
     "text": [
      "((3409, 540), (-3529, 330))\n",
      "((926, 540), (420, 330))\n",
      "((2139, 540), (-1949, 330))\n",
      "((917, 540), (409, 330))\n"
     ]
    },
    {
     "name": "stderr",
     "output_type": "stream",
     "text": [
      " 69%|██████▊   | 172/251 [00:19<00:09,  8.17it/s]"
     ]
    },
    {
     "name": "stdout",
     "output_type": "stream",
     "text": [
      "((2031, 540), (-2003, 330))\n",
      "((899, 540), (431, 330))\n",
      "((2671, 540), (-3005, 330))\n",
      "((872, 540), (464, 330))\n"
     ]
    },
    {
     "name": "stderr",
     "output_type": "stream",
     "text": [
      " 69%|██████▉   | 174/251 [00:19<00:09,  7.92it/s]"
     ]
    },
    {
     "name": "stdout",
     "output_type": "stream",
     "text": [
      "((6838, 540), (-8670, 330))\n",
      "((864, 540), (481, 330))\n",
      "((6353, 540), (-7573, 330))\n",
      "((859, 540), (492, 330))\n"
     ]
    },
    {
     "name": "stderr",
     "output_type": "stream",
     "text": [
      " 70%|███████   | 176/251 [00:19<00:09,  7.99it/s]"
     ]
    },
    {
     "name": "stdout",
     "output_type": "stream",
     "text": [
      "((4017, 540), (-3892, 330))\n",
      "((871, 540), (475, 330))\n",
      "((3314, 540), (-3135, 330))\n",
      "((886, 540), (480, 330))\n"
     ]
    },
    {
     "name": "stderr",
     "output_type": "stream",
     "text": [
      " 71%|███████   | 178/251 [00:20<00:08,  8.32it/s]"
     ]
    },
    {
     "name": "stdout",
     "output_type": "stream",
     "text": [
      "((4977, 540), (-5455, 330))\n",
      "((910, 540), (451, 330))\n",
      "((3907, 540), (-3847, 330))\n",
      "((910, 540), (453, 330))\n"
     ]
    },
    {
     "name": "stderr",
     "output_type": "stream",
     "text": [
      " 72%|███████▏  | 180/251 [00:20<00:08,  8.31it/s]"
     ]
    },
    {
     "name": "stdout",
     "output_type": "stream",
     "text": [
      "((2222, 540), (-1841, 330))\n",
      "((915, 540), (447, 330))\n",
      "((4817, 540), (-4877, 330))\n",
      "((888, 540), (478, 330))\n"
     ]
    },
    {
     "name": "stderr",
     "output_type": "stream",
     "text": [
      " 73%|███████▎  | 182/251 [00:20<00:08,  8.28it/s]"
     ]
    },
    {
     "name": "stdout",
     "output_type": "stream",
     "text": [
      "((2214, 540), (-1843, 330))\n",
      "((896, 540), (469, 330))\n",
      "((2757, 540), (-2437, 330))\n",
      "((878, 540), (492, 330))\n"
     ]
    },
    {
     "name": "stderr",
     "output_type": "stream",
     "text": [
      " 73%|███████▎  | 184/251 [00:20<00:08,  7.83it/s]"
     ]
    },
    {
     "name": "stdout",
     "output_type": "stream",
     "text": [
      "((2878, 540), (-2638, 330))\n",
      "((890, 540), (466, 330))\n",
      "((2708, 540), (-2345, 330))\n",
      "((864, 540), (510, 330))\n"
     ]
    },
    {
     "name": "stderr",
     "output_type": "stream",
     "text": [
      " 74%|███████▍  | 186/251 [00:21<00:08,  7.56it/s]"
     ]
    },
    {
     "name": "stdout",
     "output_type": "stream",
     "text": [
      "((3052, 540), (-2670, 330))\n",
      "((866, 540), (497, 330))\n",
      "((2306, 540), (-1825, 330))\n",
      "((867, 540), (487, 330))\n"
     ]
    },
    {
     "name": "stderr",
     "output_type": "stream",
     "text": [
      " 75%|███████▍  | 188/251 [00:21<00:08,  7.75it/s]"
     ]
    },
    {
     "name": "stdout",
     "output_type": "stream",
     "text": [
      "((3281, 540), (-3067, 330))\n",
      "((879, 540), (484, 330))\n",
      "((2723, 540), (-2505, 330))\n",
      "((947, 540), (414, 330))\n"
     ]
    },
    {
     "name": "stderr",
     "output_type": "stream",
     "text": [
      " 76%|███████▌  | 190/251 [00:21<00:07,  8.07it/s]"
     ]
    },
    {
     "name": "stdout",
     "output_type": "stream",
     "text": [
      "((2450, 540), (-2119, 330))\n",
      "((929, 540), (446, 330))\n",
      "((2252, 540), (-1960, 330))\n",
      "((908, 540), (448, 330))\n"
     ]
    },
    {
     "name": "stderr",
     "output_type": "stream",
     "text": [
      " 76%|███████▋  | 192/251 [00:21<00:07,  8.03it/s]"
     ]
    },
    {
     "name": "stdout",
     "output_type": "stream",
     "text": [
      "((3353, 540), (-3155, 330))\n",
      "((920, 540), (456, 330))\n",
      "((2658, 540), (-2309, 330))\n",
      "((881, 540), (495, 330))\n"
     ]
    },
    {
     "name": "stderr",
     "output_type": "stream",
     "text": [
      " 77%|███████▋  | 194/251 [00:22<00:07,  7.89it/s]"
     ]
    },
    {
     "name": "stdout",
     "output_type": "stream",
     "text": [
      "((2632, 540), (-2312, 330))\n",
      "((891, 540), (490, 330))\n",
      "((2381, 540), (-1958, 330))\n",
      "((886, 540), (478, 330))\n"
     ]
    },
    {
     "name": "stderr",
     "output_type": "stream",
     "text": [
      " 78%|███████▊  | 196/251 [00:22<00:06,  7.95it/s]"
     ]
    },
    {
     "name": "stdout",
     "output_type": "stream",
     "text": [
      "((2911, 540), (-2657, 330))\n",
      "((878, 540), (504, 330))\n",
      "((2504, 540), (-2074, 330))\n",
      "((881, 540), (491, 330))\n"
     ]
    },
    {
     "name": "stderr",
     "output_type": "stream",
     "text": [
      " 79%|███████▉  | 198/251 [00:22<00:06,  8.03it/s]"
     ]
    },
    {
     "name": "stdout",
     "output_type": "stream",
     "text": [
      "((1893, 540), (-1339, 330))\n",
      "((876, 540), (498, 330))\n",
      "((2685, 540), (-2341, 330))\n",
      "((888, 540), (480, 330))\n"
     ]
    },
    {
     "name": "stderr",
     "output_type": "stream",
     "text": [
      " 80%|███████▉  | 200/251 [00:22<00:06,  8.20it/s]"
     ]
    },
    {
     "name": "stdout",
     "output_type": "stream",
     "text": [
      "((2336, 540), (-1878, 330))\n",
      "((888, 540), (489, 330))\n",
      "((2259, 540), (-1791, 330))\n",
      "((948, 540), (417, 330))\n"
     ]
    },
    {
     "name": "stderr",
     "output_type": "stream",
     "text": [
      " 80%|████████  | 202/251 [00:23<00:05,  8.57it/s]"
     ]
    },
    {
     "name": "stdout",
     "output_type": "stream",
     "text": [
      "((3167, 540), (-2948, 330))\n",
      "((910, 540), (436, 330))\n",
      "((1903, 540), (-1326, 330))\n",
      "((913, 540), (441, 330))\n"
     ]
    },
    {
     "name": "stderr",
     "output_type": "stream",
     "text": [
      " 81%|████████▏ | 204/251 [00:23<00:05,  8.50it/s]"
     ]
    },
    {
     "name": "stdout",
     "output_type": "stream",
     "text": [
      "((2276, 540), (-1811, 330))\n",
      "((896, 540), (469, 330))\n",
      "((3649, 540), (-3689, 330))\n",
      "((898, 540), (478, 330))\n"
     ]
    },
    {
     "name": "stderr",
     "output_type": "stream",
     "text": [
      " 82%|████████▏ | 206/251 [00:23<00:05,  8.40it/s]"
     ]
    },
    {
     "name": "stdout",
     "output_type": "stream",
     "text": [
      "((1941, 540), (-1420, 330))\n",
      "((889, 540), (472, 330))\n",
      "((2287, 540), (-1791, 330))\n",
      "((892, 540), (482, 330))\n"
     ]
    },
    {
     "name": "stderr",
     "output_type": "stream",
     "text": [
      " 83%|████████▎ | 208/251 [00:23<00:05,  8.54it/s]"
     ]
    },
    {
     "name": "stdout",
     "output_type": "stream",
     "text": [
      "((2304, 540), (-1833, 330))\n",
      "((873, 540), (501, 330))\n",
      "((2542, 540), (-2288, 330))\n",
      "((878, 540), (478, 330))\n"
     ]
    },
    {
     "name": "stderr",
     "output_type": "stream",
     "text": [
      " 84%|████████▎ | 210/251 [00:24<00:05,  8.14it/s]"
     ]
    },
    {
     "name": "stdout",
     "output_type": "stream",
     "text": [
      "((2344, 540), (-1916, 330))\n",
      "((878, 540), (485, 330))\n",
      "((2561, 540), (-2197, 330))\n",
      "((884, 540), (475, 330))\n"
     ]
    },
    {
     "name": "stderr",
     "output_type": "stream",
     "text": [
      " 84%|████████▍ | 212/251 [00:24<00:04,  7.81it/s]"
     ]
    },
    {
     "name": "stdout",
     "output_type": "stream",
     "text": [
      "((4260, 540), (-4370, 330))\n",
      "((905, 540), (464, 330))\n",
      "((2276, 540), (-1927, 330))\n",
      "((913, 540), (466, 330))\n"
     ]
    },
    {
     "name": "stderr",
     "output_type": "stream",
     "text": [
      " 85%|████████▌ | 214/251 [00:24<00:04,  8.08it/s]"
     ]
    },
    {
     "name": "stdout",
     "output_type": "stream",
     "text": [
      "((2867, 540), (-2518, 330))\n",
      "((919, 540), (451, 330))\n",
      "((2958, 540), (-2487, 330))\n",
      "((898, 540), (475, 330))\n"
     ]
    },
    {
     "name": "stderr",
     "output_type": "stream",
     "text": [
      "\r",
      " 86%|████████▌ | 215/251 [00:24<00:04,  8.04it/s]"
     ]
    },
    {
     "name": "stdout",
     "output_type": "stream",
     "text": [
      "((2202, 540), (-1655, 330))\n",
      "((901, 540), (450, 330))\n"
     ]
    },
    {
     "name": "stderr",
     "output_type": "stream",
     "text": [
      " 86%|████████▋ | 217/251 [00:25<00:04,  7.19it/s]"
     ]
    },
    {
     "name": "stdout",
     "output_type": "stream",
     "text": [
      "((-2175, 540), (4417, 330))\n",
      "((893, 540), (466, 330))\n",
      "((2172, 540), (-1617, 330))\n",
      "((901, 540), (462, 330))\n"
     ]
    },
    {
     "name": "stderr",
     "output_type": "stream",
     "text": [
      " 87%|████████▋ | 219/251 [00:25<00:04,  7.84it/s]"
     ]
    },
    {
     "name": "stdout",
     "output_type": "stream",
     "text": [
      "((2926, 540), (-2546, 330))\n",
      "((903, 540), (464, 330))\n",
      "((4041, 540), (-3636, 330))\n",
      "((882, 540), (470, 330))\n"
     ]
    },
    {
     "name": "stderr",
     "output_type": "stream",
     "text": [
      " 88%|████████▊ | 221/251 [00:25<00:03,  8.16it/s]"
     ]
    },
    {
     "name": "stdout",
     "output_type": "stream",
     "text": [
      "((2295, 540), (-1745, 330))\n",
      "((883, 540), (468, 330))\n",
      "((4134, 540), (-3933, 330))\n",
      "((885, 540), (483, 330))\n"
     ]
    },
    {
     "name": "stderr",
     "output_type": "stream",
     "text": [
      " 89%|████████▉ | 223/251 [00:25<00:03,  8.30it/s]"
     ]
    },
    {
     "name": "stdout",
     "output_type": "stream",
     "text": [
      "((4255, 540), (-4041, 330))\n",
      "((889, 540), (483, 330))\n",
      "((2515, 540), (-2090, 330))\n",
      "((927, 540), (424, 330))\n"
     ]
    },
    {
     "name": "stderr",
     "output_type": "stream",
     "text": [
      " 90%|████████▉ | 225/251 [00:26<00:03,  7.07it/s]"
     ]
    },
    {
     "name": "stdout",
     "output_type": "stream",
     "text": [
      "((4300, 540), (-4255, 330))\n",
      "((920, 540), (443, 330))\n",
      "((2810, 540), (-2149, 330))\n",
      "((921, 540), (448, 330))\n"
     ]
    },
    {
     "name": "stderr",
     "output_type": "stream",
     "text": [
      " 90%|█████████ | 227/251 [00:26<00:03,  7.33it/s]"
     ]
    },
    {
     "name": "stdout",
     "output_type": "stream",
     "text": [
      "((16574, 540), (-17103, 330))\n",
      "((884, 540), (473, 330))\n",
      "((7685, 540), (-7715, 330))\n",
      "((905, 540), (462, 330))\n"
     ]
    },
    {
     "name": "stderr",
     "output_type": "stream",
     "text": [
      " 91%|█████████ | 229/251 [00:26<00:03,  6.11it/s]"
     ]
    },
    {
     "name": "stdout",
     "output_type": "stream",
     "text": [
      "((18681, 540), (-19123, 330))\n",
      "((911, 540), (409, 330))\n",
      "((6031, 540), (-6037, 330))\n",
      "((877, 540), (492, 330))\n"
     ]
    },
    {
     "name": "stderr",
     "output_type": "stream",
     "text": [
      " 92%|█████████▏| 231/251 [00:27<00:03,  5.84it/s]"
     ]
    },
    {
     "name": "stdout",
     "output_type": "stream",
     "text": [
      "((3651, 540), (-3424, 330))\n",
      "((873, 540), (479, 330))\n",
      "((6386, 540), (-6119, 330))\n",
      "((871, 540), (498, 330))\n"
     ]
    },
    {
     "name": "stderr",
     "output_type": "stream",
     "text": [
      " 93%|█████████▎| 233/251 [00:27<00:02,  6.08it/s]"
     ]
    },
    {
     "name": "stdout",
     "output_type": "stream",
     "text": [
      "((6121, 540), (-5704, 330))\n",
      "((866, 540), (499, 330))\n",
      "((3875, 540), (-3041, 330))\n",
      "((877, 540), (494, 330))\n"
     ]
    },
    {
     "name": "stderr",
     "output_type": "stream",
     "text": [
      "\r",
      " 93%|█████████▎| 234/251 [00:27<00:02,  6.29it/s]"
     ]
    },
    {
     "name": "stdout",
     "output_type": "stream",
     "text": [
      "((2433, 540), (-1865, 330))\n",
      "((884, 540), (497, 330))\n"
     ]
    },
    {
     "name": "stderr",
     "output_type": "stream",
     "text": [
      " 94%|█████████▍| 236/251 [00:27<00:02,  6.28it/s]"
     ]
    },
    {
     "name": "stdout",
     "output_type": "stream",
     "text": [
      "((4616, 540), (-4308, 330))\n",
      "((904, 540), (476, 330))\n",
      "((4849, 540), (-4393, 330))\n",
      "((912, 540), (469, 330))\n"
     ]
    },
    {
     "name": "stderr",
     "output_type": "stream",
     "text": [
      " 95%|█████████▍| 238/251 [00:28<00:01,  7.35it/s]"
     ]
    },
    {
     "name": "stdout",
     "output_type": "stream",
     "text": [
      "((4633, 540), (-4167, 330))\n",
      "((887, 540), (495, 330))\n",
      "((3239, 540), (-2762, 330))\n",
      "((885, 540), (502, 330))\n"
     ]
    },
    {
     "name": "stderr",
     "output_type": "stream",
     "text": [
      " 96%|█████████▌| 240/251 [00:28<00:01,  8.25it/s]"
     ]
    },
    {
     "name": "stdout",
     "output_type": "stream",
     "text": [
      "((2680, 540), (-2001, 330))\n",
      "((883, 540), (500, 330))\n",
      "((2080, 540), (-1571, 330))\n",
      "((894, 540), (480, 330))\n"
     ]
    },
    {
     "name": "stderr",
     "output_type": "stream",
     "text": [
      " 96%|█████████▋| 242/251 [00:28<00:01,  8.47it/s]"
     ]
    },
    {
     "name": "stdout",
     "output_type": "stream",
     "text": [
      "((3145, 540), (-2703, 330))\n",
      "((881, 540), (501, 330))\n",
      "((3386, 540), (-3094, 330))\n",
      "((870, 540), (504, 330))\n"
     ]
    },
    {
     "name": "stderr",
     "output_type": "stream",
     "text": [
      " 97%|█████████▋| 244/251 [00:28<00:00,  8.59it/s]"
     ]
    },
    {
     "name": "stdout",
     "output_type": "stream",
     "text": [
      "((11589, 540), (-12999, 330))\n",
      "((872, 540), (501, 330))\n",
      "((15749, 540), (-17630, 330))\n",
      "((893, 540), (479, 330))\n"
     ]
    },
    {
     "name": "stderr",
     "output_type": "stream",
     "text": [
      " 98%|█████████▊| 246/251 [00:29<00:00,  8.64it/s]"
     ]
    },
    {
     "name": "stdout",
     "output_type": "stream",
     "text": [
      "((1845, 540), (-1211, 330))\n",
      "((920, 540), (433, 330))\n",
      "((5522, 540), (-5950, 330))\n",
      "((933, 540), (428, 330))\n"
     ]
    },
    {
     "name": "stderr",
     "output_type": "stream",
     "text": [
      " 99%|█████████▉| 248/251 [00:29<00:00,  8.93it/s]"
     ]
    },
    {
     "name": "stdout",
     "output_type": "stream",
     "text": [
      "((2297, 540), (-1792, 330))\n",
      "((923, 540), (427, 330))\n",
      "((2788, 540), (-2430, 330))\n",
      "((914, 540), (465, 330))\n"
     ]
    },
    {
     "name": "stderr",
     "output_type": "stream",
     "text": [
      "100%|█████████▉| 250/251 [00:29<00:00,  8.82it/s]"
     ]
    },
    {
     "name": "stdout",
     "output_type": "stream",
     "text": [
      "((3044, 540), (-2415, 330))\n",
      "((904, 540), (477, 330))\n",
      "((-756, 540), (2221, 330))\n",
      "((952, 540), (396, 330))\n"
     ]
    },
    {
     "name": "stderr",
     "output_type": "stream",
     "text": [
      "100%|██████████| 251/251 [00:29<00:00,  8.79it/s]\n"
     ]
    },
    {
     "name": "stdout",
     "output_type": "stream",
     "text": [
      "((-43929, 540), (43861, 330))\n",
      "((901, 540), (452, 330))\n",
      "[MoviePy] Done.\n",
      "[MoviePy] >>>> Video ready: test_videos_output/challenge.mp4 \n",
      "\n",
      "CPU times: user 22.6 s, sys: 1.7 s, total: 24.3 s\n",
      "Wall time: 31.4 s\n"
     ]
    }
   ],
   "source": [
    "challenge_output = 'test_videos_output/challenge.mp4'\n",
    "## To speed up the testing process you may want to try your pipeline on a shorter subclip of the video\n",
    "## To do so add .subclip(start_second,end_second) to the end of the line below\n",
    "## Where start_second and end_second are integer values representing the start and end of the subclip\n",
    "## You may also uncomment the following line for a subclip of the first 5 seconds\n",
    "##clip3 = VideoFileClip('test_videos/challenge.mp4').subclip(0,5)\n",
    "clip3 = VideoFileClip('test_videos/challenge.mp4')\n",
    "challenge_clip = clip3.fl_image(process_image)\n",
    "%time challenge_clip.write_videofile(challenge_output, audio=False)"
   ]
  },
  {
   "cell_type": "code",
   "execution_count": 24,
   "metadata": {
    "scrolled": true
   },
   "outputs": [
    {
     "data": {
      "text/html": [
       "\n",
       "<video width=\"960\" height=\"540\" controls>\n",
       "  <source src=\"test_videos_output/challenge.mp4\">\n",
       "</video>\n"
      ],
      "text/plain": [
       "<IPython.core.display.HTML object>"
      ]
     },
     "execution_count": 24,
     "metadata": {},
     "output_type": "execute_result"
    }
   ],
   "source": [
    "HTML(\"\"\"\n",
    "<video width=\"960\" height=\"540\" controls>\n",
    "  <source src=\"{0}\">\n",
    "</video>\n",
    "\"\"\".format(challenge_output))"
   ]
  },
  {
   "cell_type": "code",
   "execution_count": null,
   "metadata": {
    "collapsed": true
   },
   "outputs": [],
   "source": []
  }
 ],
 "metadata": {
  "anaconda-cloud": {},
  "kernelspec": {
   "display_name": "Python 3",
   "language": "python",
   "name": "python3"
  }
 },
 "nbformat": 4,
 "nbformat_minor": 1
}
